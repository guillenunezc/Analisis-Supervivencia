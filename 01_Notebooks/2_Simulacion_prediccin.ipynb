{
 "cells": [
  {
   "cell_type": "markdown",
   "metadata": {},
   "source": [
    "### Simulación de una predccion con el ingreso de un nuevo paciente en un nuevo Notebook"
   ]
  },
  {
   "cell_type": "code",
   "execution_count": 1,
   "metadata": {},
   "outputs": [],
   "source": [
    "dic_input = {\n",
    "    \"age\": 69.0,\n",
    "    \"karnofsky_score\": 60.0,\n",
    "    \"months_from_diagnosis\": 7.0,\n",
    "    \"prior_therapy\": \"No\",\n",
    "    \"treatment\": \"Strandar\",\n",
    "    \"celltype\": \"Squamous\"\n",
    "}"
   ]
  },
  {
   "cell_type": "code",
   "execution_count": 4,
   "metadata": {},
   "outputs": [],
   "source": [
    "import sys\n",
    "sys.path.append(\"..\")\n",
    "import data_utils                # Con esta linea le damos acceso a Python al archivo utils.py, archivo en el cual se encuentran las funciones que realizan el cálculo"
   ]
  },
  {
   "cell_type": "code",
   "execution_count": null,
   "metadata": {},
   "outputs": [],
   "source": []
  }
 ],
 "metadata": {
  "kernelspec": {
   "display_name": "ml",
   "language": "python",
   "name": "python3"
  },
  "language_info": {
   "codemirror_mode": {
    "name": "ipython",
    "version": 3
   },
   "file_extension": ".py",
   "mimetype": "text/x-python",
   "name": "python",
   "nbconvert_exporter": "python",
   "pygments_lexer": "ipython3",
   "version": "3.11.5"
  },
  "orig_nbformat": 4
 },
 "nbformat": 4,
 "nbformat_minor": 2
}

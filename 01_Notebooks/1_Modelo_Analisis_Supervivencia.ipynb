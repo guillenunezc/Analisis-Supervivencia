{
 "cells": [
  {
   "cell_type": "markdown",
   "metadata": {},
   "source": [
    "# Sistema de Modelado y Análisis de Supervivencia (médica)"
   ]
  },
  {
   "cell_type": "markdown",
   "metadata": {},
   "source": [
    "En este notebook se detalla un sistema o secuencia de pasos a seguir que se pueden aplicar a cualquier modelo de Machine Learning que involucren problemas de tipo ***supervivencia***."
   ]
  },
  {
   "cell_type": "markdown",
   "metadata": {},
   "source": [
    "## 1. Dataset\n",
    "* Cada fila representa a un paciente.\n",
    "* El objetivo es predecir el riesgo (**risk**) de que un paciente muera\n",
    "    * Esto se determina en la columna **event**.\n",
    "    * La columna time indica que tenga el evento en ese tiempo dado.\n",
    "       * Ejemplo: Que una persona tenga cancer (***event = True***) en un tiempo dado (***time***)\n",
    "---\n",
    "En los análisis de supervivencia tenemos:\n",
    "* Los targets:\n",
    "    * **event**: True/False (muere/no muere).\n",
    "    * **time**: El tiempo cuando el evento ocurre.\n",
    "* Explanatory variables:\n",
    "    * El resto de variables (age, prior_therapy, etc)\n",
    "\n",
    "Por lo cual la formula de la ecuación matemática del modelo será:\n",
    "$$\n",
    "risk = (w_0) + (w_1) \\cdot age + (w_2) \\cdot prior\\_therapy\n",
    "$$\n",
    "\n",
    "Con los modelos de Machine Learning, se busca encontrar los mejores valores (optimización) para los pesos ***w1*** y ***w2*** de la ecuación anterior, para finalmente calcular el **risk** asociado."
   ]
  },
  {
   "cell_type": "code",
   "execution_count": 62,
   "metadata": {},
   "outputs": [
    {
     "data": {
      "text/html": [
       "<div>\n",
       "<style scoped>\n",
       "    .dataframe tbody tr th:only-of-type {\n",
       "        vertical-align: middle;\n",
       "    }\n",
       "\n",
       "    .dataframe tbody tr th {\n",
       "        vertical-align: top;\n",
       "    }\n",
       "\n",
       "    .dataframe thead th {\n",
       "        text-align: right;\n",
       "    }\n",
       "</style>\n",
       "<table border=\"1\" class=\"dataframe\">\n",
       "  <thead>\n",
       "    <tr style=\"text-align: right;\">\n",
       "      <th></th>\n",
       "      <th>event</th>\n",
       "      <th>time</th>\n",
       "      <th>age</th>\n",
       "      <th>karnofsky_score</th>\n",
       "      <th>months_from_diagnosis</th>\n",
       "      <th>prior_therapy</th>\n",
       "      <th>treatment</th>\n",
       "      <th>celltype</th>\n",
       "    </tr>\n",
       "  </thead>\n",
       "  <tbody>\n",
       "    <tr>\n",
       "      <th>0</th>\n",
       "      <td>True</td>\n",
       "      <td>2.373626</td>\n",
       "      <td>69.000000</td>\n",
       "      <td>60.000000</td>\n",
       "      <td>7.000000</td>\n",
       "      <td>No</td>\n",
       "      <td>Standard</td>\n",
       "      <td>Squamous</td>\n",
       "    </tr>\n",
       "    <tr>\n",
       "      <th>1</th>\n",
       "      <td>True</td>\n",
       "      <td>7.516484</td>\n",
       "      <td>38.000000</td>\n",
       "      <td>60.000000</td>\n",
       "      <td>3.000000</td>\n",
       "      <td>No</td>\n",
       "      <td>Standard</td>\n",
       "      <td>Squamous</td>\n",
       "    </tr>\n",
       "    <tr>\n",
       "      <th>2</th>\n",
       "      <td>True</td>\n",
       "      <td>4.153846</td>\n",
       "      <td>63.000000</td>\n",
       "      <td>60.000000</td>\n",
       "      <td>9.000000</td>\n",
       "      <td>Yes</td>\n",
       "      <td>Standard</td>\n",
       "      <td>Squamous</td>\n",
       "    </tr>\n",
       "    <tr>\n",
       "      <th>3</th>\n",
       "      <td>True</td>\n",
       "      <td>3.890110</td>\n",
       "      <td>65.000000</td>\n",
       "      <td>70.000000</td>\n",
       "      <td>11.000000</td>\n",
       "      <td>Yes</td>\n",
       "      <td>Standard</td>\n",
       "      <td>Squamous</td>\n",
       "    </tr>\n",
       "    <tr>\n",
       "      <th>4</th>\n",
       "      <td>True</td>\n",
       "      <td>0.329670</td>\n",
       "      <td>49.000000</td>\n",
       "      <td>20.000000</td>\n",
       "      <td>5.000000</td>\n",
       "      <td>No</td>\n",
       "      <td>Standard</td>\n",
       "      <td>Squamous</td>\n",
       "    </tr>\n",
       "    <tr>\n",
       "      <th>...</th>\n",
       "      <td>...</td>\n",
       "      <td>...</td>\n",
       "      <td>...</td>\n",
       "      <td>...</td>\n",
       "      <td>...</td>\n",
       "      <td>...</td>\n",
       "      <td>...</td>\n",
       "      <td>...</td>\n",
       "    </tr>\n",
       "    <tr>\n",
       "      <th>238</th>\n",
       "      <td>False</td>\n",
       "      <td>3.142881</td>\n",
       "      <td>65.810046</td>\n",
       "      <td>64.640822</td>\n",
       "      <td>4.762009</td>\n",
       "      <td>No</td>\n",
       "      <td>Standard</td>\n",
       "      <td>Smallcell</td>\n",
       "    </tr>\n",
       "    <tr>\n",
       "      <th>239</th>\n",
       "      <td>False</td>\n",
       "      <td>3.380047</td>\n",
       "      <td>36.495508</td>\n",
       "      <td>70.684273</td>\n",
       "      <td>21.551683</td>\n",
       "      <td>Yes</td>\n",
       "      <td>Test</td>\n",
       "      <td>Smallcell</td>\n",
       "    </tr>\n",
       "    <tr>\n",
       "      <th>240</th>\n",
       "      <td>False</td>\n",
       "      <td>3.082424</td>\n",
       "      <td>65.029553</td>\n",
       "      <td>81.087920</td>\n",
       "      <td>4.852974</td>\n",
       "      <td>No</td>\n",
       "      <td>Standard</td>\n",
       "      <td>Squamous</td>\n",
       "    </tr>\n",
       "    <tr>\n",
       "      <th>241</th>\n",
       "      <td>False</td>\n",
       "      <td>2.986648</td>\n",
       "      <td>62.424988</td>\n",
       "      <td>77.842548</td>\n",
       "      <td>4.084998</td>\n",
       "      <td>No</td>\n",
       "      <td>Standard</td>\n",
       "      <td>Smallcell</td>\n",
       "    </tr>\n",
       "    <tr>\n",
       "      <th>242</th>\n",
       "      <td>False</td>\n",
       "      <td>3.215223</td>\n",
       "      <td>68.109977</td>\n",
       "      <td>74.216206</td>\n",
       "      <td>5.563841</td>\n",
       "      <td>No</td>\n",
       "      <td>Standard</td>\n",
       "      <td>Squamous</td>\n",
       "    </tr>\n",
       "  </tbody>\n",
       "</table>\n",
       "<p>243 rows × 8 columns</p>\n",
       "</div>"
      ],
      "text/plain": [
       "     event      time        age  karnofsky_score  months_from_diagnosis  \\\n",
       "0     True  2.373626  69.000000        60.000000               7.000000   \n",
       "1     True  7.516484  38.000000        60.000000               3.000000   \n",
       "2     True  4.153846  63.000000        60.000000               9.000000   \n",
       "3     True  3.890110  65.000000        70.000000              11.000000   \n",
       "4     True  0.329670  49.000000        20.000000               5.000000   \n",
       "..     ...       ...        ...              ...                    ...   \n",
       "238  False  3.142881  65.810046        64.640822               4.762009   \n",
       "239  False  3.380047  36.495508        70.684273              21.551683   \n",
       "240  False  3.082424  65.029553        81.087920               4.852974   \n",
       "241  False  2.986648  62.424988        77.842548               4.084998   \n",
       "242  False  3.215223  68.109977        74.216206               5.563841   \n",
       "\n",
       "    prior_therapy treatment   celltype  \n",
       "0              No  Standard   Squamous  \n",
       "1              No  Standard   Squamous  \n",
       "2             Yes  Standard   Squamous  \n",
       "3             Yes  Standard   Squamous  \n",
       "4              No  Standard   Squamous  \n",
       "..            ...       ...        ...  \n",
       "238            No  Standard  Smallcell  \n",
       "239           Yes      Test  Smallcell  \n",
       "240            No  Standard   Squamous  \n",
       "241            No  Standard  Smallcell  \n",
       "242            No  Standard   Squamous  \n",
       "\n",
       "[243 rows x 8 columns]"
      ]
     },
     "execution_count": 62,
     "metadata": {},
     "output_type": "execute_result"
    }
   ],
   "source": [
    "import pandas as pd\n",
    "\n",
    "df_patients = pd.read_excel(\"../data/data_lung_cancer_smote.xlsx\")\n",
    "list_columns_categorical = df_patients.select_dtypes(include=\"object\").columns\n",
    "df_patients[list_columns_categorical] = df_patients[list_columns_categorical].astype(\"category\")        # Transformación Object a Category. Paso importante para que OneHotEncoder() reconozca las variables categóricas y las transforme.\n",
    "df_patients"
   ]
  },
  {
   "cell_type": "markdown",
   "metadata": {},
   "source": [
    "## 2. Feature Selection\n",
    "\n",
    "Selección de las variables a utilizar en el modelo:\n",
    "* `y (target)`: **event** y **time**\n",
    "    * Para que estas variables puedan ser procesadas por el modelo, deben transformarse a otra estructura de datos (*numpy records array*). Esto se hace con *.to_records()*\n",
    "* `x (explanatory)`: Variables relevantes para calcular el riesgo de un paciente."
   ]
  },
  {
   "cell_type": "markdown",
   "metadata": {},
   "source": [
    "### 2.1 Preprocessing Data\n",
    "\n",
    "1. Revisar **NaN**: Eliminarlos del dataset\n",
    "2. Transformar los datos categóricos de las variables Exploratory (X) a numéricos con **OneHotEncoder()**\n",
    "    * La variable target (y) no necesita transformación de categóricos a numéricos ya que cuando se aplica el algoritmo de ML con .fit() este hace la transformación de forma automática."
   ]
  },
  {
   "cell_type": "code",
   "execution_count": 63,
   "metadata": {},
   "outputs": [
    {
     "data": {
      "text/plain": [
       "event                    0\n",
       "time                     0\n",
       "age                      0\n",
       "karnofsky_score          0\n",
       "months_from_diagnosis    0\n",
       "prior_therapy            0\n",
       "treatment                0\n",
       "celltype                 0\n",
       "dtype: int64"
      ]
     },
     "execution_count": 63,
     "metadata": {},
     "output_type": "execute_result"
    }
   ],
   "source": [
    "df_patients.isna().sum()"
   ]
  },
  {
   "cell_type": "code",
   "execution_count": 64,
   "metadata": {},
   "outputs": [],
   "source": [
    "y = df_patients[[\"event\", \"time\"]].to_records(index=False)"
   ]
  },
  {
   "cell_type": "code",
   "execution_count": 65,
   "metadata": {},
   "outputs": [
    {
     "data": {
      "text/html": [
       "<div>\n",
       "<style scoped>\n",
       "    .dataframe tbody tr th:only-of-type {\n",
       "        vertical-align: middle;\n",
       "    }\n",
       "\n",
       "    .dataframe tbody tr th {\n",
       "        vertical-align: top;\n",
       "    }\n",
       "\n",
       "    .dataframe thead th {\n",
       "        text-align: right;\n",
       "    }\n",
       "</style>\n",
       "<table border=\"1\" class=\"dataframe\">\n",
       "  <thead>\n",
       "    <tr style=\"text-align: right;\">\n",
       "      <th></th>\n",
       "      <th>age</th>\n",
       "      <th>karnofsky_score</th>\n",
       "      <th>months_from_diagnosis</th>\n",
       "      <th>prior_therapy</th>\n",
       "      <th>treatment</th>\n",
       "      <th>celltype</th>\n",
       "    </tr>\n",
       "  </thead>\n",
       "  <tbody>\n",
       "    <tr>\n",
       "      <th>0</th>\n",
       "      <td>69.000000</td>\n",
       "      <td>60.000000</td>\n",
       "      <td>7.000000</td>\n",
       "      <td>No</td>\n",
       "      <td>Standard</td>\n",
       "      <td>Squamous</td>\n",
       "    </tr>\n",
       "    <tr>\n",
       "      <th>1</th>\n",
       "      <td>38.000000</td>\n",
       "      <td>60.000000</td>\n",
       "      <td>3.000000</td>\n",
       "      <td>No</td>\n",
       "      <td>Standard</td>\n",
       "      <td>Squamous</td>\n",
       "    </tr>\n",
       "    <tr>\n",
       "      <th>2</th>\n",
       "      <td>63.000000</td>\n",
       "      <td>60.000000</td>\n",
       "      <td>9.000000</td>\n",
       "      <td>Yes</td>\n",
       "      <td>Standard</td>\n",
       "      <td>Squamous</td>\n",
       "    </tr>\n",
       "    <tr>\n",
       "      <th>3</th>\n",
       "      <td>65.000000</td>\n",
       "      <td>70.000000</td>\n",
       "      <td>11.000000</td>\n",
       "      <td>Yes</td>\n",
       "      <td>Standard</td>\n",
       "      <td>Squamous</td>\n",
       "    </tr>\n",
       "    <tr>\n",
       "      <th>4</th>\n",
       "      <td>49.000000</td>\n",
       "      <td>20.000000</td>\n",
       "      <td>5.000000</td>\n",
       "      <td>No</td>\n",
       "      <td>Standard</td>\n",
       "      <td>Squamous</td>\n",
       "    </tr>\n",
       "    <tr>\n",
       "      <th>...</th>\n",
       "      <td>...</td>\n",
       "      <td>...</td>\n",
       "      <td>...</td>\n",
       "      <td>...</td>\n",
       "      <td>...</td>\n",
       "      <td>...</td>\n",
       "    </tr>\n",
       "    <tr>\n",
       "      <th>238</th>\n",
       "      <td>65.810046</td>\n",
       "      <td>64.640822</td>\n",
       "      <td>4.762009</td>\n",
       "      <td>No</td>\n",
       "      <td>Standard</td>\n",
       "      <td>Smallcell</td>\n",
       "    </tr>\n",
       "    <tr>\n",
       "      <th>239</th>\n",
       "      <td>36.495508</td>\n",
       "      <td>70.684273</td>\n",
       "      <td>21.551683</td>\n",
       "      <td>Yes</td>\n",
       "      <td>Test</td>\n",
       "      <td>Smallcell</td>\n",
       "    </tr>\n",
       "    <tr>\n",
       "      <th>240</th>\n",
       "      <td>65.029553</td>\n",
       "      <td>81.087920</td>\n",
       "      <td>4.852974</td>\n",
       "      <td>No</td>\n",
       "      <td>Standard</td>\n",
       "      <td>Squamous</td>\n",
       "    </tr>\n",
       "    <tr>\n",
       "      <th>241</th>\n",
       "      <td>62.424988</td>\n",
       "      <td>77.842548</td>\n",
       "      <td>4.084998</td>\n",
       "      <td>No</td>\n",
       "      <td>Standard</td>\n",
       "      <td>Smallcell</td>\n",
       "    </tr>\n",
       "    <tr>\n",
       "      <th>242</th>\n",
       "      <td>68.109977</td>\n",
       "      <td>74.216206</td>\n",
       "      <td>5.563841</td>\n",
       "      <td>No</td>\n",
       "      <td>Standard</td>\n",
       "      <td>Squamous</td>\n",
       "    </tr>\n",
       "  </tbody>\n",
       "</table>\n",
       "<p>243 rows × 6 columns</p>\n",
       "</div>"
      ],
      "text/plain": [
       "           age  karnofsky_score  months_from_diagnosis prior_therapy  \\\n",
       "0    69.000000        60.000000               7.000000            No   \n",
       "1    38.000000        60.000000               3.000000            No   \n",
       "2    63.000000        60.000000               9.000000           Yes   \n",
       "3    65.000000        70.000000              11.000000           Yes   \n",
       "4    49.000000        20.000000               5.000000            No   \n",
       "..         ...              ...                    ...           ...   \n",
       "238  65.810046        64.640822               4.762009            No   \n",
       "239  36.495508        70.684273              21.551683           Yes   \n",
       "240  65.029553        81.087920               4.852974            No   \n",
       "241  62.424988        77.842548               4.084998            No   \n",
       "242  68.109977        74.216206               5.563841            No   \n",
       "\n",
       "    treatment   celltype  \n",
       "0    Standard   Squamous  \n",
       "1    Standard   Squamous  \n",
       "2    Standard   Squamous  \n",
       "3    Standard   Squamous  \n",
       "4    Standard   Squamous  \n",
       "..        ...        ...  \n",
       "238  Standard  Smallcell  \n",
       "239      Test  Smallcell  \n",
       "240  Standard   Squamous  \n",
       "241  Standard  Smallcell  \n",
       "242  Standard   Squamous  \n",
       "\n",
       "[243 rows x 6 columns]"
      ]
     },
     "execution_count": 65,
     "metadata": {},
     "output_type": "execute_result"
    }
   ],
   "source": [
    "X = df_patients.drop([\"event\", \"time\"], axis=1)\n",
    "X"
   ]
  },
  {
   "cell_type": "code",
   "execution_count": 66,
   "metadata": {},
   "outputs": [],
   "source": [
    "from sksurv.preprocessing import OneHotEncoder"
   ]
  },
  {
   "cell_type": "code",
   "execution_count": 67,
   "metadata": {},
   "outputs": [],
   "source": [
    "encoder = OneHotEncoder()"
   ]
  },
  {
   "cell_type": "code",
   "execution_count": 68,
   "metadata": {},
   "outputs": [],
   "source": [
    "X = encoder.fit_transform(X)"
   ]
  },
  {
   "cell_type": "markdown",
   "metadata": {},
   "source": [
    "### 2.2 Train Test Split"
   ]
  },
  {
   "cell_type": "code",
   "execution_count": 69,
   "metadata": {},
   "outputs": [],
   "source": [
    "from sklearn.model_selection import train_test_split"
   ]
  },
  {
   "cell_type": "code",
   "execution_count": 70,
   "metadata": {},
   "outputs": [],
   "source": [
    "X_train, X_test, y_train, y_test = train_test_split(X, y, test_size=0.3, random_state=42)"
   ]
  },
  {
   "cell_type": "code",
   "execution_count": 71,
   "metadata": {},
   "outputs": [
    {
     "data": {
      "text/html": [
       "<div>\n",
       "<style scoped>\n",
       "    .dataframe tbody tr th:only-of-type {\n",
       "        vertical-align: middle;\n",
       "    }\n",
       "\n",
       "    .dataframe tbody tr th {\n",
       "        vertical-align: top;\n",
       "    }\n",
       "\n",
       "    .dataframe thead th {\n",
       "        text-align: right;\n",
       "    }\n",
       "</style>\n",
       "<table border=\"1\" class=\"dataframe\">\n",
       "  <thead>\n",
       "    <tr style=\"text-align: right;\">\n",
       "      <th></th>\n",
       "      <th>Dataset</th>\n",
       "      <th>Registros</th>\n",
       "    </tr>\n",
       "  </thead>\n",
       "  <tbody>\n",
       "    <tr>\n",
       "      <th>0</th>\n",
       "      <td>X_train</td>\n",
       "      <td>170</td>\n",
       "    </tr>\n",
       "    <tr>\n",
       "      <th>1</th>\n",
       "      <td>X_test</td>\n",
       "      <td>73</td>\n",
       "    </tr>\n",
       "    <tr>\n",
       "      <th>2</th>\n",
       "      <td>y_train</td>\n",
       "      <td>170</td>\n",
       "    </tr>\n",
       "    <tr>\n",
       "      <th>3</th>\n",
       "      <td>y_test</td>\n",
       "      <td>73</td>\n",
       "    </tr>\n",
       "  </tbody>\n",
       "</table>\n",
       "</div>"
      ],
      "text/plain": [
       "   Dataset  Registros\n",
       "0  X_train        170\n",
       "1   X_test         73\n",
       "2  y_train        170\n",
       "3   y_test         73"
      ]
     },
     "execution_count": 71,
     "metadata": {},
     "output_type": "execute_result"
    }
   ],
   "source": [
    "pd.DataFrame({\n",
    "    \"Dataset\": [\"X_train\", \"X_test\", \"y_train\", \"y_test\"],\n",
    "    \"Registros\": [len(X_train), len(X_test), len(y_train), len(y_test)]\n",
    "})"
   ]
  },
  {
   "cell_type": "markdown",
   "metadata": {},
   "source": [
    "## 3. The Cox PH Model"
   ]
  },
  {
   "cell_type": "markdown",
   "metadata": {},
   "source": [
    "#### Importación del modelo y selección de hyperparameters"
   ]
  },
  {
   "cell_type": "code",
   "execution_count": 72,
   "metadata": {},
   "outputs": [],
   "source": [
    "from sksurv.linear_model import CoxPHSurvivalAnalysis       # Se importa el algoritmo ML"
   ]
  },
  {
   "cell_type": "code",
   "execution_count": 73,
   "metadata": {},
   "outputs": [],
   "source": [
    "model_cox = CoxPHSurvivalAnalysis()                         # Se instancia el modelo. De acá se sacan los hyperparametors (pasando el mouse por encima)"
   ]
  },
  {
   "cell_type": "code",
   "execution_count": 74,
   "metadata": {},
   "outputs": [
    {
     "data": {
      "text/plain": [
       "{'alpha': 0, 'n_iter': 100, 'ties': 'breslow', 'tol': 1e-09, 'verbose': 0}"
      ]
     },
     "execution_count": 74,
     "metadata": {},
     "output_type": "execute_result"
    }
   ],
   "source": [
    "model_cox.get_params()                                      # Parámetros por defecto del modelo"
   ]
  },
  {
   "cell_type": "markdown",
   "metadata": {},
   "source": [
    "#### Grid Search CV - Selección de los mejores parámetros"
   ]
  },
  {
   "cell_type": "code",
   "execution_count": 75,
   "metadata": {},
   "outputs": [],
   "source": [
    "from sklearn.model_selection import GridSearchCV"
   ]
  },
  {
   "cell_type": "code",
   "execution_count": 76,
   "metadata": {},
   "outputs": [],
   "source": [
    "model_cv_cox = GridSearchCV(\n",
    "    verbose=2,\n",
    "    estimator=model_cox,\n",
    "    param_grid={\n",
    "        'ties': ['breslow', 'efron'],\n",
    "        \"n_iter\" : [50, 100, 200, 300]\n",
    "    }\n",
    ")"
   ]
  },
  {
   "cell_type": "code",
   "execution_count": 77,
   "metadata": {},
   "outputs": [
    {
     "name": "stdout",
     "output_type": "stream",
     "text": [
      "Fitting 5 folds for each of 8 candidates, totalling 40 fits\n",
      "[CV] END ............................n_iter=50, ties=breslow; total time=   0.0s\n",
      "[CV] END ............................n_iter=50, ties=breslow; total time=   0.0s\n",
      "[CV] END ............................n_iter=50, ties=breslow; total time=   0.0s\n",
      "[CV] END ............................n_iter=50, ties=breslow; total time=   0.0s\n",
      "[CV] END ............................n_iter=50, ties=breslow; total time=   0.0s\n",
      "[CV] END ..............................n_iter=50, ties=efron; total time=   0.0s\n",
      "[CV] END ..............................n_iter=50, ties=efron; total time=   0.0s\n",
      "[CV] END ..............................n_iter=50, ties=efron; total time=   0.0s\n",
      "[CV] END ..............................n_iter=50, ties=efron; total time=   0.0s\n",
      "[CV] END ..............................n_iter=50, ties=efron; total time=   0.0s\n",
      "[CV] END ...........................n_iter=100, ties=breslow; total time=   0.0s\n",
      "[CV] END ...........................n_iter=100, ties=breslow; total time=   0.0s\n",
      "[CV] END ...........................n_iter=100, ties=breslow; total time=   0.0s\n",
      "[CV] END ...........................n_iter=100, ties=breslow; total time=   0.0s\n",
      "[CV] END ...........................n_iter=100, ties=breslow; total time=   0.0s\n",
      "[CV] END .............................n_iter=100, ties=efron; total time=   0.0s\n",
      "[CV] END .............................n_iter=100, ties=efron; total time=   0.0s\n",
      "[CV] END .............................n_iter=100, ties=efron; total time=   0.0s\n",
      "[CV] END .............................n_iter=100, ties=efron; total time=   0.0s\n",
      "[CV] END .............................n_iter=100, ties=efron; total time=   0.0s\n",
      "[CV] END ...........................n_iter=200, ties=breslow; total time=   0.0s\n",
      "[CV] END ...........................n_iter=200, ties=breslow; total time=   0.0s\n",
      "[CV] END ...........................n_iter=200, ties=breslow; total time=   0.0s\n",
      "[CV] END ...........................n_iter=200, ties=breslow; total time=   0.0s\n",
      "[CV] END ...........................n_iter=200, ties=breslow; total time=   0.0s\n",
      "[CV] END .............................n_iter=200, ties=efron; total time=   0.0s\n",
      "[CV] END .............................n_iter=200, ties=efron; total time=   0.0s\n",
      "[CV] END .............................n_iter=200, ties=efron; total time=   0.0s\n",
      "[CV] END .............................n_iter=200, ties=efron; total time=   0.0s\n",
      "[CV] END .............................n_iter=200, ties=efron; total time=   0.0s\n",
      "[CV] END ...........................n_iter=300, ties=breslow; total time=   0.0s\n",
      "[CV] END ...........................n_iter=300, ties=breslow; total time=   0.0s\n",
      "[CV] END ...........................n_iter=300, ties=breslow; total time=   0.0s\n",
      "[CV] END ...........................n_iter=300, ties=breslow; total time=   0.0s\n",
      "[CV] END ...........................n_iter=300, ties=breslow; total time=   0.0s\n",
      "[CV] END .............................n_iter=300, ties=efron; total time=   0.0s\n",
      "[CV] END .............................n_iter=300, ties=efron; total time=   0.0s\n",
      "[CV] END .............................n_iter=300, ties=efron; total time=   0.0s\n",
      "[CV] END .............................n_iter=300, ties=efron; total time=   0.0s\n",
      "[CV] END .............................n_iter=300, ties=efron; total time=   0.0s\n"
     ]
    },
    {
     "data": {
      "text/html": [
       "<style>#sk-container-id-8 {color: black;background-color: white;}#sk-container-id-8 pre{padding: 0;}#sk-container-id-8 div.sk-toggleable {background-color: white;}#sk-container-id-8 label.sk-toggleable__label {cursor: pointer;display: block;width: 100%;margin-bottom: 0;padding: 0.3em;box-sizing: border-box;text-align: center;}#sk-container-id-8 label.sk-toggleable__label-arrow:before {content: \"▸\";float: left;margin-right: 0.25em;color: #696969;}#sk-container-id-8 label.sk-toggleable__label-arrow:hover:before {color: black;}#sk-container-id-8 div.sk-estimator:hover label.sk-toggleable__label-arrow:before {color: black;}#sk-container-id-8 div.sk-toggleable__content {max-height: 0;max-width: 0;overflow: hidden;text-align: left;background-color: #f0f8ff;}#sk-container-id-8 div.sk-toggleable__content pre {margin: 0.2em;color: black;border-radius: 0.25em;background-color: #f0f8ff;}#sk-container-id-8 input.sk-toggleable__control:checked~div.sk-toggleable__content {max-height: 200px;max-width: 100%;overflow: auto;}#sk-container-id-8 input.sk-toggleable__control:checked~label.sk-toggleable__label-arrow:before {content: \"▾\";}#sk-container-id-8 div.sk-estimator input.sk-toggleable__control:checked~label.sk-toggleable__label {background-color: #d4ebff;}#sk-container-id-8 div.sk-label input.sk-toggleable__control:checked~label.sk-toggleable__label {background-color: #d4ebff;}#sk-container-id-8 input.sk-hidden--visually {border: 0;clip: rect(1px 1px 1px 1px);clip: rect(1px, 1px, 1px, 1px);height: 1px;margin: -1px;overflow: hidden;padding: 0;position: absolute;width: 1px;}#sk-container-id-8 div.sk-estimator {font-family: monospace;background-color: #f0f8ff;border: 1px dotted black;border-radius: 0.25em;box-sizing: border-box;margin-bottom: 0.5em;}#sk-container-id-8 div.sk-estimator:hover {background-color: #d4ebff;}#sk-container-id-8 div.sk-parallel-item::after {content: \"\";width: 100%;border-bottom: 1px solid gray;flex-grow: 1;}#sk-container-id-8 div.sk-label:hover label.sk-toggleable__label {background-color: #d4ebff;}#sk-container-id-8 div.sk-serial::before {content: \"\";position: absolute;border-left: 1px solid gray;box-sizing: border-box;top: 0;bottom: 0;left: 50%;z-index: 0;}#sk-container-id-8 div.sk-serial {display: flex;flex-direction: column;align-items: center;background-color: white;padding-right: 0.2em;padding-left: 0.2em;position: relative;}#sk-container-id-8 div.sk-item {position: relative;z-index: 1;}#sk-container-id-8 div.sk-parallel {display: flex;align-items: stretch;justify-content: center;background-color: white;position: relative;}#sk-container-id-8 div.sk-item::before, #sk-container-id-8 div.sk-parallel-item::before {content: \"\";position: absolute;border-left: 1px solid gray;box-sizing: border-box;top: 0;bottom: 0;left: 50%;z-index: -1;}#sk-container-id-8 div.sk-parallel-item {display: flex;flex-direction: column;z-index: 1;position: relative;background-color: white;}#sk-container-id-8 div.sk-parallel-item:first-child::after {align-self: flex-end;width: 50%;}#sk-container-id-8 div.sk-parallel-item:last-child::after {align-self: flex-start;width: 50%;}#sk-container-id-8 div.sk-parallel-item:only-child::after {width: 0;}#sk-container-id-8 div.sk-dashed-wrapped {border: 1px dashed gray;margin: 0 0.4em 0.5em 0.4em;box-sizing: border-box;padding-bottom: 0.4em;background-color: white;}#sk-container-id-8 div.sk-label label {font-family: monospace;font-weight: bold;display: inline-block;line-height: 1.2em;}#sk-container-id-8 div.sk-label-container {text-align: center;}#sk-container-id-8 div.sk-container {/* jupyter's `normalize.less` sets `[hidden] { display: none; }` but bootstrap.min.css set `[hidden] { display: none !important; }` so we also need the `!important` here to be able to override the default hidden behavior on the sphinx rendered scikit-learn.org. See: https://github.com/scikit-learn/scikit-learn/issues/21755 */display: inline-block !important;position: relative;}#sk-container-id-8 div.sk-text-repr-fallback {display: none;}</style><div id=\"sk-container-id-8\" class=\"sk-top-container\"><div class=\"sk-text-repr-fallback\"><pre>GridSearchCV(estimator=CoxPHSurvivalAnalysis(),\n",
       "             param_grid={&#x27;n_iter&#x27;: [50, 100, 200, 300],\n",
       "                         &#x27;ties&#x27;: [&#x27;breslow&#x27;, &#x27;efron&#x27;]},\n",
       "             verbose=2)</pre><b>In a Jupyter environment, please rerun this cell to show the HTML representation or trust the notebook. <br />On GitHub, the HTML representation is unable to render, please try loading this page with nbviewer.org.</b></div><div class=\"sk-container\" hidden><div class=\"sk-item sk-dashed-wrapped\"><div class=\"sk-label-container\"><div class=\"sk-label sk-toggleable\"><input class=\"sk-toggleable__control sk-hidden--visually\" id=\"sk-estimator-id-16\" type=\"checkbox\" ><label for=\"sk-estimator-id-16\" class=\"sk-toggleable__label sk-toggleable__label-arrow\">GridSearchCV</label><div class=\"sk-toggleable__content\"><pre>GridSearchCV(estimator=CoxPHSurvivalAnalysis(),\n",
       "             param_grid={&#x27;n_iter&#x27;: [50, 100, 200, 300],\n",
       "                         &#x27;ties&#x27;: [&#x27;breslow&#x27;, &#x27;efron&#x27;]},\n",
       "             verbose=2)</pre></div></div></div><div class=\"sk-parallel\"><div class=\"sk-parallel-item\"><div class=\"sk-item\"><div class=\"sk-label-container\"><div class=\"sk-label sk-toggleable\"><input class=\"sk-toggleable__control sk-hidden--visually\" id=\"sk-estimator-id-17\" type=\"checkbox\" ><label for=\"sk-estimator-id-17\" class=\"sk-toggleable__label sk-toggleable__label-arrow\">estimator: CoxPHSurvivalAnalysis</label><div class=\"sk-toggleable__content\"><pre>CoxPHSurvivalAnalysis()</pre></div></div></div><div class=\"sk-serial\"><div class=\"sk-item\"><div class=\"sk-estimator sk-toggleable\"><input class=\"sk-toggleable__control sk-hidden--visually\" id=\"sk-estimator-id-18\" type=\"checkbox\" ><label for=\"sk-estimator-id-18\" class=\"sk-toggleable__label sk-toggleable__label-arrow\">CoxPHSurvivalAnalysis</label><div class=\"sk-toggleable__content\"><pre>CoxPHSurvivalAnalysis()</pre></div></div></div></div></div></div></div></div></div></div>"
      ],
      "text/plain": [
       "GridSearchCV(estimator=CoxPHSurvivalAnalysis(),\n",
       "             param_grid={'n_iter': [50, 100, 200, 300],\n",
       "                         'ties': ['breslow', 'efron']},\n",
       "             verbose=2)"
      ]
     },
     "execution_count": 77,
     "metadata": {},
     "output_type": "execute_result"
    }
   ],
   "source": [
    "model_cv_cox.fit(X_train, y_train)"
   ]
  },
  {
   "cell_type": "code",
   "execution_count": 78,
   "metadata": {},
   "outputs": [
    {
     "data": {
      "text/plain": [
       "{'n_iter': 50, 'ties': 'breslow'}"
      ]
     },
     "execution_count": 78,
     "metadata": {},
     "output_type": "execute_result"
    }
   ],
   "source": [
    "model_cv_cox.best_params_"
   ]
  },
  {
   "cell_type": "markdown",
   "metadata": {},
   "source": [
    "#### Score - Evaluación de las predicciones"
   ]
  },
  {
   "cell_type": "code",
   "execution_count": 79,
   "metadata": {},
   "outputs": [
    {
     "data": {
      "text/plain": [
       "0.756129887342611"
      ]
     },
     "execution_count": 79,
     "metadata": {},
     "output_type": "execute_result"
    }
   ],
   "source": [
    "model_cv_cox.score(X_test, y_test)"
   ]
  },
  {
   "cell_type": "markdown",
   "metadata": {},
   "source": [
    "## 4. Decision Tree Model"
   ]
  },
  {
   "cell_type": "markdown",
   "metadata": {},
   "source": [
    "#### Importación del modelo y selección de hyperparameters"
   ]
  },
  {
   "cell_type": "code",
   "execution_count": 80,
   "metadata": {},
   "outputs": [],
   "source": [
    "from sksurv.tree import SurvivalTree"
   ]
  },
  {
   "cell_type": "code",
   "execution_count": 81,
   "metadata": {},
   "outputs": [],
   "source": [
    "model_tree = SurvivalTree()"
   ]
  },
  {
   "cell_type": "code",
   "execution_count": 82,
   "metadata": {},
   "outputs": [
    {
     "data": {
      "text/plain": [
       "{'max_depth': None,\n",
       " 'max_features': None,\n",
       " 'max_leaf_nodes': None,\n",
       " 'min_samples_leaf': 3,\n",
       " 'min_samples_split': 6,\n",
       " 'min_weight_fraction_leaf': 0.0,\n",
       " 'random_state': None,\n",
       " 'splitter': 'best'}"
      ]
     },
     "execution_count": 82,
     "metadata": {},
     "output_type": "execute_result"
    }
   ],
   "source": [
    "model_tree.get_params()"
   ]
  },
  {
   "cell_type": "markdown",
   "metadata": {},
   "source": [
    "#### Grid Search CV - Selección de los mejores parámetros"
   ]
  },
  {
   "cell_type": "code",
   "execution_count": 83,
   "metadata": {},
   "outputs": [],
   "source": [
    "model_cv_tree = GridSearchCV(\n",
    "    verbose = 2,\n",
    "    estimator = model_tree,\n",
    "    param_grid = {\n",
    "        \"splitter\": [\"best\", \"random\"],\n",
    "        \"max_depth\": [3, 5, 10, 15, 20],\n",
    "        'max_features': [1, 2, 3, 4, 5, 6],\n",
    "        'min_samples_leaf': [3, 5, 10]\n",
    "    }\n",
    ")"
   ]
  },
  {
   "cell_type": "code",
   "execution_count": 84,
   "metadata": {},
   "outputs": [
    {
     "name": "stdout",
     "output_type": "stream",
     "text": [
      "Fitting 5 folds for each of 180 candidates, totalling 900 fits\n",
      "[CV] END max_depth=3, max_features=1, min_samples_leaf=3, splitter=best; total time=   0.0s\n",
      "[CV] END max_depth=3, max_features=1, min_samples_leaf=3, splitter=best; total time=   0.0s\n",
      "[CV] END max_depth=3, max_features=1, min_samples_leaf=3, splitter=best; total time=   0.0s\n",
      "[CV] END max_depth=3, max_features=1, min_samples_leaf=3, splitter=best; total time=   0.0s\n",
      "[CV] END max_depth=3, max_features=1, min_samples_leaf=3, splitter=best; total time=   0.0s\n",
      "[CV] END max_depth=3, max_features=1, min_samples_leaf=3, splitter=random; total time=   0.0s\n",
      "[CV] END max_depth=3, max_features=1, min_samples_leaf=3, splitter=random; total time=   0.0s\n",
      "[CV] END max_depth=3, max_features=1, min_samples_leaf=3, splitter=random; total time=   0.0s\n",
      "[CV] END max_depth=3, max_features=1, min_samples_leaf=3, splitter=random; total time=   0.0s\n",
      "[CV] END max_depth=3, max_features=1, min_samples_leaf=3, splitter=random; total time=   0.0s\n",
      "[CV] END max_depth=3, max_features=1, min_samples_leaf=5, splitter=best; total time=   0.0s\n",
      "[CV] END max_depth=3, max_features=1, min_samples_leaf=5, splitter=best; total time=   0.0s\n",
      "[CV] END max_depth=3, max_features=1, min_samples_leaf=5, splitter=best; total time=   0.0s\n",
      "[CV] END max_depth=3, max_features=1, min_samples_leaf=5, splitter=best; total time=   0.0s\n",
      "[CV] END max_depth=3, max_features=1, min_samples_leaf=5, splitter=best; total time=   0.0s\n",
      "[CV] END max_depth=3, max_features=1, min_samples_leaf=5, splitter=random; total time=   0.0s\n",
      "[CV] END max_depth=3, max_features=1, min_samples_leaf=5, splitter=random; total time=   0.0s\n",
      "[CV] END max_depth=3, max_features=1, min_samples_leaf=5, splitter=random; total time=   0.0s\n",
      "[CV] END max_depth=3, max_features=1, min_samples_leaf=5, splitter=random; total time=   0.0s\n",
      "[CV] END max_depth=3, max_features=1, min_samples_leaf=5, splitter=random; total time=   0.0s\n",
      "[CV] END max_depth=3, max_features=1, min_samples_leaf=10, splitter=best; total time=   0.0s\n",
      "[CV] END max_depth=3, max_features=1, min_samples_leaf=10, splitter=best; total time=   0.0s\n",
      "[CV] END max_depth=3, max_features=1, min_samples_leaf=10, splitter=best; total time=   0.0s\n",
      "[CV] END max_depth=3, max_features=1, min_samples_leaf=10, splitter=best; total time=   0.0s\n",
      "[CV] END max_depth=3, max_features=1, min_samples_leaf=10, splitter=best; total time=   0.0s\n",
      "[CV] END max_depth=3, max_features=1, min_samples_leaf=10, splitter=random; total time=   0.0s\n",
      "[CV] END max_depth=3, max_features=1, min_samples_leaf=10, splitter=random; total time=   0.0s\n",
      "[CV] END max_depth=3, max_features=1, min_samples_leaf=10, splitter=random; total time=   0.0s\n",
      "[CV] END max_depth=3, max_features=1, min_samples_leaf=10, splitter=random; total time=   0.0s\n",
      "[CV] END max_depth=3, max_features=1, min_samples_leaf=10, splitter=random; total time=   0.0s\n",
      "[CV] END max_depth=3, max_features=2, min_samples_leaf=3, splitter=best; total time=   0.0s\n",
      "[CV] END max_depth=3, max_features=2, min_samples_leaf=3, splitter=best; total time=   0.0s\n",
      "[CV] END max_depth=3, max_features=2, min_samples_leaf=3, splitter=best; total time=   0.0s\n",
      "[CV] END max_depth=3, max_features=2, min_samples_leaf=3, splitter=best; total time=   0.0s\n",
      "[CV] END max_depth=3, max_features=2, min_samples_leaf=3, splitter=best; total time=   0.0s\n",
      "[CV] END max_depth=3, max_features=2, min_samples_leaf=3, splitter=random; total time=   0.0s\n",
      "[CV] END max_depth=3, max_features=2, min_samples_leaf=3, splitter=random; total time=   0.0s\n",
      "[CV] END max_depth=3, max_features=2, min_samples_leaf=3, splitter=random; total time=   0.0s\n",
      "[CV] END max_depth=3, max_features=2, min_samples_leaf=3, splitter=random; total time=   0.0s\n",
      "[CV] END max_depth=3, max_features=2, min_samples_leaf=3, splitter=random; total time=   0.0s\n",
      "[CV] END max_depth=3, max_features=2, min_samples_leaf=5, splitter=best; total time=   0.0s\n",
      "[CV] END max_depth=3, max_features=2, min_samples_leaf=5, splitter=best; total time=   0.0s\n",
      "[CV] END max_depth=3, max_features=2, min_samples_leaf=5, splitter=best; total time=   0.0s\n",
      "[CV] END max_depth=3, max_features=2, min_samples_leaf=5, splitter=best; total time=   0.0s\n",
      "[CV] END max_depth=3, max_features=2, min_samples_leaf=5, splitter=best; total time=   0.0s\n",
      "[CV] END max_depth=3, max_features=2, min_samples_leaf=5, splitter=random; total time=   0.0s\n",
      "[CV] END max_depth=3, max_features=2, min_samples_leaf=5, splitter=random; total time=   0.0s\n",
      "[CV] END max_depth=3, max_features=2, min_samples_leaf=5, splitter=random; total time=   0.0s\n",
      "[CV] END max_depth=3, max_features=2, min_samples_leaf=5, splitter=random; total time=   0.0s\n",
      "[CV] END max_depth=3, max_features=2, min_samples_leaf=5, splitter=random; total time=   0.0s\n",
      "[CV] END max_depth=3, max_features=2, min_samples_leaf=10, splitter=best; total time=   0.0s\n",
      "[CV] END max_depth=3, max_features=2, min_samples_leaf=10, splitter=best; total time=   0.0s\n",
      "[CV] END max_depth=3, max_features=2, min_samples_leaf=10, splitter=best; total time=   0.0s\n",
      "[CV] END max_depth=3, max_features=2, min_samples_leaf=10, splitter=best; total time=   0.0s\n",
      "[CV] END max_depth=3, max_features=2, min_samples_leaf=10, splitter=best; total time=   0.0s\n",
      "[CV] END max_depth=3, max_features=2, min_samples_leaf=10, splitter=random; total time=   0.0s\n",
      "[CV] END max_depth=3, max_features=2, min_samples_leaf=10, splitter=random; total time=   0.0s\n",
      "[CV] END max_depth=3, max_features=2, min_samples_leaf=10, splitter=random; total time=   0.0s\n",
      "[CV] END max_depth=3, max_features=2, min_samples_leaf=10, splitter=random; total time=   0.0s\n",
      "[CV] END max_depth=3, max_features=2, min_samples_leaf=10, splitter=random; total time=   0.0s\n",
      "[CV] END max_depth=3, max_features=3, min_samples_leaf=3, splitter=best; total time=   0.0s\n",
      "[CV] END max_depth=3, max_features=3, min_samples_leaf=3, splitter=best; total time=   0.0s\n",
      "[CV] END max_depth=3, max_features=3, min_samples_leaf=3, splitter=best; total time=   0.0s\n",
      "[CV] END max_depth=3, max_features=3, min_samples_leaf=3, splitter=best; total time=   0.0s\n",
      "[CV] END max_depth=3, max_features=3, min_samples_leaf=3, splitter=best; total time=   0.0s\n",
      "[CV] END max_depth=3, max_features=3, min_samples_leaf=3, splitter=random; total time=   0.0s\n",
      "[CV] END max_depth=3, max_features=3, min_samples_leaf=3, splitter=random; total time=   0.0s\n",
      "[CV] END max_depth=3, max_features=3, min_samples_leaf=3, splitter=random; total time=   0.0s\n",
      "[CV] END max_depth=3, max_features=3, min_samples_leaf=3, splitter=random; total time=   0.0s\n",
      "[CV] END max_depth=3, max_features=3, min_samples_leaf=3, splitter=random; total time=   0.0s\n",
      "[CV] END max_depth=3, max_features=3, min_samples_leaf=5, splitter=best; total time=   0.0s\n",
      "[CV] END max_depth=3, max_features=3, min_samples_leaf=5, splitter=best; total time=   0.0s\n",
      "[CV] END max_depth=3, max_features=3, min_samples_leaf=5, splitter=best; total time=   0.0s\n",
      "[CV] END max_depth=3, max_features=3, min_samples_leaf=5, splitter=best; total time=   0.0s\n",
      "[CV] END max_depth=3, max_features=3, min_samples_leaf=5, splitter=best; total time=   0.0s\n",
      "[CV] END max_depth=3, max_features=3, min_samples_leaf=5, splitter=random; total time=   0.0s\n",
      "[CV] END max_depth=3, max_features=3, min_samples_leaf=5, splitter=random; total time=   0.0s\n",
      "[CV] END max_depth=3, max_features=3, min_samples_leaf=5, splitter=random; total time=   0.0s\n",
      "[CV] END max_depth=3, max_features=3, min_samples_leaf=5, splitter=random; total time=   0.0s\n",
      "[CV] END max_depth=3, max_features=3, min_samples_leaf=5, splitter=random; total time=   0.0s\n",
      "[CV] END max_depth=3, max_features=3, min_samples_leaf=10, splitter=best; total time=   0.0s\n",
      "[CV] END max_depth=3, max_features=3, min_samples_leaf=10, splitter=best; total time=   0.0s\n",
      "[CV] END max_depth=3, max_features=3, min_samples_leaf=10, splitter=best; total time=   0.0s\n",
      "[CV] END max_depth=3, max_features=3, min_samples_leaf=10, splitter=best; total time=   0.0s\n",
      "[CV] END max_depth=3, max_features=3, min_samples_leaf=10, splitter=best; total time=   0.0s\n",
      "[CV] END max_depth=3, max_features=3, min_samples_leaf=10, splitter=random; total time=   0.0s\n",
      "[CV] END max_depth=3, max_features=3, min_samples_leaf=10, splitter=random; total time=   0.0s\n",
      "[CV] END max_depth=3, max_features=3, min_samples_leaf=10, splitter=random; total time=   0.0s\n",
      "[CV] END max_depth=3, max_features=3, min_samples_leaf=10, splitter=random; total time=   0.0s\n",
      "[CV] END max_depth=3, max_features=3, min_samples_leaf=10, splitter=random; total time=   0.0s\n",
      "[CV] END max_depth=3, max_features=4, min_samples_leaf=3, splitter=best; total time=   0.0s\n",
      "[CV] END max_depth=3, max_features=4, min_samples_leaf=3, splitter=best; total time=   0.0s\n",
      "[CV] END max_depth=3, max_features=4, min_samples_leaf=3, splitter=best; total time=   0.0s\n",
      "[CV] END max_depth=3, max_features=4, min_samples_leaf=3, splitter=best; total time=   0.0s\n",
      "[CV] END max_depth=3, max_features=4, min_samples_leaf=3, splitter=best; total time=   0.0s\n",
      "[CV] END max_depth=3, max_features=4, min_samples_leaf=3, splitter=random; total time=   0.0s\n",
      "[CV] END max_depth=3, max_features=4, min_samples_leaf=3, splitter=random; total time=   0.0s\n",
      "[CV] END max_depth=3, max_features=4, min_samples_leaf=3, splitter=random; total time=   0.0s\n",
      "[CV] END max_depth=3, max_features=4, min_samples_leaf=3, splitter=random; total time=   0.0s\n",
      "[CV] END max_depth=3, max_features=4, min_samples_leaf=3, splitter=random; total time=   0.0s\n",
      "[CV] END max_depth=3, max_features=4, min_samples_leaf=5, splitter=best; total time=   0.0s\n",
      "[CV] END max_depth=3, max_features=4, min_samples_leaf=5, splitter=best; total time=   0.0s\n",
      "[CV] END max_depth=3, max_features=4, min_samples_leaf=5, splitter=best; total time=   0.0s\n",
      "[CV] END max_depth=3, max_features=4, min_samples_leaf=5, splitter=best; total time=   0.0s\n",
      "[CV] END max_depth=3, max_features=4, min_samples_leaf=5, splitter=best; total time=   0.0s\n",
      "[CV] END max_depth=3, max_features=4, min_samples_leaf=5, splitter=random; total time=   0.0s\n",
      "[CV] END max_depth=3, max_features=4, min_samples_leaf=5, splitter=random; total time=   0.0s\n",
      "[CV] END max_depth=3, max_features=4, min_samples_leaf=5, splitter=random; total time=   0.0s\n",
      "[CV] END max_depth=3, max_features=4, min_samples_leaf=5, splitter=random; total time=   0.0s\n",
      "[CV] END max_depth=3, max_features=4, min_samples_leaf=5, splitter=random; total time=   0.0s\n",
      "[CV] END max_depth=3, max_features=4, min_samples_leaf=10, splitter=best; total time=   0.0s\n",
      "[CV] END max_depth=3, max_features=4, min_samples_leaf=10, splitter=best; total time=   0.0s\n",
      "[CV] END max_depth=3, max_features=4, min_samples_leaf=10, splitter=best; total time=   0.0s\n",
      "[CV] END max_depth=3, max_features=4, min_samples_leaf=10, splitter=best; total time=   0.0s\n",
      "[CV] END max_depth=3, max_features=4, min_samples_leaf=10, splitter=best; total time=   0.0s\n",
      "[CV] END max_depth=3, max_features=4, min_samples_leaf=10, splitter=random; total time=   0.0s\n",
      "[CV] END max_depth=3, max_features=4, min_samples_leaf=10, splitter=random; total time=   0.0s\n",
      "[CV] END max_depth=3, max_features=4, min_samples_leaf=10, splitter=random; total time=   0.0s\n",
      "[CV] END max_depth=3, max_features=4, min_samples_leaf=10, splitter=random; total time=   0.0s\n",
      "[CV] END max_depth=3, max_features=4, min_samples_leaf=10, splitter=random; total time=   0.0s\n",
      "[CV] END max_depth=3, max_features=5, min_samples_leaf=3, splitter=best; total time=   0.0s\n",
      "[CV] END max_depth=3, max_features=5, min_samples_leaf=3, splitter=best; total time=   0.0s\n",
      "[CV] END max_depth=3, max_features=5, min_samples_leaf=3, splitter=best; total time=   0.0s\n",
      "[CV] END max_depth=3, max_features=5, min_samples_leaf=3, splitter=best; total time=   0.0s\n",
      "[CV] END max_depth=3, max_features=5, min_samples_leaf=3, splitter=best; total time=   0.0s\n",
      "[CV] END max_depth=3, max_features=5, min_samples_leaf=3, splitter=random; total time=   0.0s\n",
      "[CV] END max_depth=3, max_features=5, min_samples_leaf=3, splitter=random; total time=   0.0s\n",
      "[CV] END max_depth=3, max_features=5, min_samples_leaf=3, splitter=random; total time=   0.0s\n",
      "[CV] END max_depth=3, max_features=5, min_samples_leaf=3, splitter=random; total time=   0.0s\n",
      "[CV] END max_depth=3, max_features=5, min_samples_leaf=3, splitter=random; total time=   0.0s\n",
      "[CV] END max_depth=3, max_features=5, min_samples_leaf=5, splitter=best; total time=   0.0s\n",
      "[CV] END max_depth=3, max_features=5, min_samples_leaf=5, splitter=best; total time=   0.0s\n",
      "[CV] END max_depth=3, max_features=5, min_samples_leaf=5, splitter=best; total time=   0.0s\n",
      "[CV] END max_depth=3, max_features=5, min_samples_leaf=5, splitter=best; total time=   0.0s\n",
      "[CV] END max_depth=3, max_features=5, min_samples_leaf=5, splitter=best; total time=   0.0s\n",
      "[CV] END max_depth=3, max_features=5, min_samples_leaf=5, splitter=random; total time=   0.0s\n",
      "[CV] END max_depth=3, max_features=5, min_samples_leaf=5, splitter=random; total time=   0.0s\n",
      "[CV] END max_depth=3, max_features=5, min_samples_leaf=5, splitter=random; total time=   0.0s\n",
      "[CV] END max_depth=3, max_features=5, min_samples_leaf=5, splitter=random; total time=   0.0s\n",
      "[CV] END max_depth=3, max_features=5, min_samples_leaf=5, splitter=random; total time=   0.0s\n",
      "[CV] END max_depth=3, max_features=5, min_samples_leaf=10, splitter=best; total time=   0.0s\n",
      "[CV] END max_depth=3, max_features=5, min_samples_leaf=10, splitter=best; total time=   0.0s\n",
      "[CV] END max_depth=3, max_features=5, min_samples_leaf=10, splitter=best; total time=   0.0s\n",
      "[CV] END max_depth=3, max_features=5, min_samples_leaf=10, splitter=best; total time=   0.0s\n",
      "[CV] END max_depth=3, max_features=5, min_samples_leaf=10, splitter=best; total time=   0.0s\n",
      "[CV] END max_depth=3, max_features=5, min_samples_leaf=10, splitter=random; total time=   0.0s\n",
      "[CV] END max_depth=3, max_features=5, min_samples_leaf=10, splitter=random; total time=   0.0s\n",
      "[CV] END max_depth=3, max_features=5, min_samples_leaf=10, splitter=random; total time=   0.0s\n",
      "[CV] END max_depth=3, max_features=5, min_samples_leaf=10, splitter=random; total time=   0.0s\n",
      "[CV] END max_depth=3, max_features=5, min_samples_leaf=10, splitter=random; total time=   0.0s\n",
      "[CV] END max_depth=3, max_features=6, min_samples_leaf=3, splitter=best; total time=   0.0s\n",
      "[CV] END max_depth=3, max_features=6, min_samples_leaf=3, splitter=best; total time=   0.0s\n",
      "[CV] END max_depth=3, max_features=6, min_samples_leaf=3, splitter=best; total time=   0.0s\n",
      "[CV] END max_depth=3, max_features=6, min_samples_leaf=3, splitter=best; total time=   0.0s\n",
      "[CV] END max_depth=3, max_features=6, min_samples_leaf=3, splitter=best; total time=   0.0s\n",
      "[CV] END max_depth=3, max_features=6, min_samples_leaf=3, splitter=random; total time=   0.0s\n",
      "[CV] END max_depth=3, max_features=6, min_samples_leaf=3, splitter=random; total time=   0.0s\n",
      "[CV] END max_depth=3, max_features=6, min_samples_leaf=3, splitter=random; total time=   0.0s\n",
      "[CV] END max_depth=3, max_features=6, min_samples_leaf=3, splitter=random; total time=   0.0s\n",
      "[CV] END max_depth=3, max_features=6, min_samples_leaf=3, splitter=random; total time=   0.0s\n",
      "[CV] END max_depth=3, max_features=6, min_samples_leaf=5, splitter=best; total time=   0.0s\n",
      "[CV] END max_depth=3, max_features=6, min_samples_leaf=5, splitter=best; total time=   0.0s\n",
      "[CV] END max_depth=3, max_features=6, min_samples_leaf=5, splitter=best; total time=   0.0s\n",
      "[CV] END max_depth=3, max_features=6, min_samples_leaf=5, splitter=best; total time=   0.0s\n",
      "[CV] END max_depth=3, max_features=6, min_samples_leaf=5, splitter=best; total time=   0.0s\n",
      "[CV] END max_depth=3, max_features=6, min_samples_leaf=5, splitter=random; total time=   0.0s\n",
      "[CV] END max_depth=3, max_features=6, min_samples_leaf=5, splitter=random; total time=   0.0s\n",
      "[CV] END max_depth=3, max_features=6, min_samples_leaf=5, splitter=random; total time=   0.0s\n",
      "[CV] END max_depth=3, max_features=6, min_samples_leaf=5, splitter=random; total time=   0.0s\n",
      "[CV] END max_depth=3, max_features=6, min_samples_leaf=5, splitter=random; total time=   0.0s\n",
      "[CV] END max_depth=3, max_features=6, min_samples_leaf=10, splitter=best; total time=   0.0s\n",
      "[CV] END max_depth=3, max_features=6, min_samples_leaf=10, splitter=best; total time=   0.0s\n",
      "[CV] END max_depth=3, max_features=6, min_samples_leaf=10, splitter=best; total time=   0.0s\n",
      "[CV] END max_depth=3, max_features=6, min_samples_leaf=10, splitter=best; total time=   0.0s\n",
      "[CV] END max_depth=3, max_features=6, min_samples_leaf=10, splitter=best; total time=   0.0s\n",
      "[CV] END max_depth=3, max_features=6, min_samples_leaf=10, splitter=random; total time=   0.0s\n",
      "[CV] END max_depth=3, max_features=6, min_samples_leaf=10, splitter=random; total time=   0.0s\n",
      "[CV] END max_depth=3, max_features=6, min_samples_leaf=10, splitter=random; total time=   0.0s\n",
      "[CV] END max_depth=3, max_features=6, min_samples_leaf=10, splitter=random; total time=   0.0s\n",
      "[CV] END max_depth=3, max_features=6, min_samples_leaf=10, splitter=random; total time=   0.0s\n",
      "[CV] END max_depth=5, max_features=1, min_samples_leaf=3, splitter=best; total time=   0.0s\n",
      "[CV] END max_depth=5, max_features=1, min_samples_leaf=3, splitter=best; total time=   0.0s\n",
      "[CV] END max_depth=5, max_features=1, min_samples_leaf=3, splitter=best; total time=   0.0s\n",
      "[CV] END max_depth=5, max_features=1, min_samples_leaf=3, splitter=best; total time=   0.0s\n",
      "[CV] END max_depth=5, max_features=1, min_samples_leaf=3, splitter=best; total time=   0.0s\n",
      "[CV] END max_depth=5, max_features=1, min_samples_leaf=3, splitter=random; total time=   0.0s\n",
      "[CV] END max_depth=5, max_features=1, min_samples_leaf=3, splitter=random; total time=   0.0s\n",
      "[CV] END max_depth=5, max_features=1, min_samples_leaf=3, splitter=random; total time=   0.0s\n",
      "[CV] END max_depth=5, max_features=1, min_samples_leaf=3, splitter=random; total time=   0.0s\n",
      "[CV] END max_depth=5, max_features=1, min_samples_leaf=3, splitter=random; total time=   0.0s\n",
      "[CV] END max_depth=5, max_features=1, min_samples_leaf=5, splitter=best; total time=   0.0s\n",
      "[CV] END max_depth=5, max_features=1, min_samples_leaf=5, splitter=best; total time=   0.0s\n",
      "[CV] END max_depth=5, max_features=1, min_samples_leaf=5, splitter=best; total time=   0.0s\n",
      "[CV] END max_depth=5, max_features=1, min_samples_leaf=5, splitter=best; total time=   0.0s\n",
      "[CV] END max_depth=5, max_features=1, min_samples_leaf=5, splitter=best; total time=   0.0s\n",
      "[CV] END max_depth=5, max_features=1, min_samples_leaf=5, splitter=random; total time=   0.0s\n",
      "[CV] END max_depth=5, max_features=1, min_samples_leaf=5, splitter=random; total time=   0.0s\n",
      "[CV] END max_depth=5, max_features=1, min_samples_leaf=5, splitter=random; total time=   0.0s\n",
      "[CV] END max_depth=5, max_features=1, min_samples_leaf=5, splitter=random; total time=   0.0s\n",
      "[CV] END max_depth=5, max_features=1, min_samples_leaf=5, splitter=random; total time=   0.0s\n",
      "[CV] END max_depth=5, max_features=1, min_samples_leaf=10, splitter=best; total time=   0.0s\n",
      "[CV] END max_depth=5, max_features=1, min_samples_leaf=10, splitter=best; total time=   0.0s\n",
      "[CV] END max_depth=5, max_features=1, min_samples_leaf=10, splitter=best; total time=   0.0s\n",
      "[CV] END max_depth=5, max_features=1, min_samples_leaf=10, splitter=best; total time=   0.0s\n",
      "[CV] END max_depth=5, max_features=1, min_samples_leaf=10, splitter=best; total time=   0.0s\n",
      "[CV] END max_depth=5, max_features=1, min_samples_leaf=10, splitter=random; total time=   0.0s\n",
      "[CV] END max_depth=5, max_features=1, min_samples_leaf=10, splitter=random; total time=   0.0s\n",
      "[CV] END max_depth=5, max_features=1, min_samples_leaf=10, splitter=random; total time=   0.0s\n",
      "[CV] END max_depth=5, max_features=1, min_samples_leaf=10, splitter=random; total time=   0.0s\n",
      "[CV] END max_depth=5, max_features=1, min_samples_leaf=10, splitter=random; total time=   0.0s\n",
      "[CV] END max_depth=5, max_features=2, min_samples_leaf=3, splitter=best; total time=   0.0s\n",
      "[CV] END max_depth=5, max_features=2, min_samples_leaf=3, splitter=best; total time=   0.0s\n",
      "[CV] END max_depth=5, max_features=2, min_samples_leaf=3, splitter=best; total time=   0.0s\n",
      "[CV] END max_depth=5, max_features=2, min_samples_leaf=3, splitter=best; total time=   0.0s\n",
      "[CV] END max_depth=5, max_features=2, min_samples_leaf=3, splitter=best; total time=   0.0s\n",
      "[CV] END max_depth=5, max_features=2, min_samples_leaf=3, splitter=random; total time=   0.0s\n",
      "[CV] END max_depth=5, max_features=2, min_samples_leaf=3, splitter=random; total time=   0.0s\n",
      "[CV] END max_depth=5, max_features=2, min_samples_leaf=3, splitter=random; total time=   0.0s\n",
      "[CV] END max_depth=5, max_features=2, min_samples_leaf=3, splitter=random; total time=   0.0s\n",
      "[CV] END max_depth=5, max_features=2, min_samples_leaf=3, splitter=random; total time=   0.0s\n",
      "[CV] END max_depth=5, max_features=2, min_samples_leaf=5, splitter=best; total time=   0.0s\n",
      "[CV] END max_depth=5, max_features=2, min_samples_leaf=5, splitter=best; total time=   0.0s\n",
      "[CV] END max_depth=5, max_features=2, min_samples_leaf=5, splitter=best; total time=   0.0s\n",
      "[CV] END max_depth=5, max_features=2, min_samples_leaf=5, splitter=best; total time=   0.0s\n",
      "[CV] END max_depth=5, max_features=2, min_samples_leaf=5, splitter=best; total time=   0.0s\n",
      "[CV] END max_depth=5, max_features=2, min_samples_leaf=5, splitter=random; total time=   0.0s\n",
      "[CV] END max_depth=5, max_features=2, min_samples_leaf=5, splitter=random; total time=   0.0s\n",
      "[CV] END max_depth=5, max_features=2, min_samples_leaf=5, splitter=random; total time=   0.0s\n",
      "[CV] END max_depth=5, max_features=2, min_samples_leaf=5, splitter=random; total time=   0.0s\n",
      "[CV] END max_depth=5, max_features=2, min_samples_leaf=5, splitter=random; total time=   0.0s\n",
      "[CV] END max_depth=5, max_features=2, min_samples_leaf=10, splitter=best; total time=   0.0s\n",
      "[CV] END max_depth=5, max_features=2, min_samples_leaf=10, splitter=best; total time=   0.0s\n",
      "[CV] END max_depth=5, max_features=2, min_samples_leaf=10, splitter=best; total time=   0.0s\n",
      "[CV] END max_depth=5, max_features=2, min_samples_leaf=10, splitter=best; total time=   0.0s\n",
      "[CV] END max_depth=5, max_features=2, min_samples_leaf=10, splitter=best; total time=   0.0s\n",
      "[CV] END max_depth=5, max_features=2, min_samples_leaf=10, splitter=random; total time=   0.0s\n",
      "[CV] END max_depth=5, max_features=2, min_samples_leaf=10, splitter=random; total time=   0.0s\n",
      "[CV] END max_depth=5, max_features=2, min_samples_leaf=10, splitter=random; total time=   0.0s\n",
      "[CV] END max_depth=5, max_features=2, min_samples_leaf=10, splitter=random; total time=   0.0s\n",
      "[CV] END max_depth=5, max_features=2, min_samples_leaf=10, splitter=random; total time=   0.0s\n",
      "[CV] END max_depth=5, max_features=3, min_samples_leaf=3, splitter=best; total time=   0.0s\n",
      "[CV] END max_depth=5, max_features=3, min_samples_leaf=3, splitter=best; total time=   0.0s\n",
      "[CV] END max_depth=5, max_features=3, min_samples_leaf=3, splitter=best; total time=   0.0s\n",
      "[CV] END max_depth=5, max_features=3, min_samples_leaf=3, splitter=best; total time=   0.0s\n",
      "[CV] END max_depth=5, max_features=3, min_samples_leaf=3, splitter=best; total time=   0.0s\n",
      "[CV] END max_depth=5, max_features=3, min_samples_leaf=3, splitter=random; total time=   0.0s\n",
      "[CV] END max_depth=5, max_features=3, min_samples_leaf=3, splitter=random; total time=   0.0s\n",
      "[CV] END max_depth=5, max_features=3, min_samples_leaf=3, splitter=random; total time=   0.0s\n",
      "[CV] END max_depth=5, max_features=3, min_samples_leaf=3, splitter=random; total time=   0.0s\n",
      "[CV] END max_depth=5, max_features=3, min_samples_leaf=3, splitter=random; total time=   0.0s\n",
      "[CV] END max_depth=5, max_features=3, min_samples_leaf=5, splitter=best; total time=   0.0s\n",
      "[CV] END max_depth=5, max_features=3, min_samples_leaf=5, splitter=best; total time=   0.0s\n",
      "[CV] END max_depth=5, max_features=3, min_samples_leaf=5, splitter=best; total time=   0.0s\n",
      "[CV] END max_depth=5, max_features=3, min_samples_leaf=5, splitter=best; total time=   0.0s\n",
      "[CV] END max_depth=5, max_features=3, min_samples_leaf=5, splitter=best; total time=   0.0s\n",
      "[CV] END max_depth=5, max_features=3, min_samples_leaf=5, splitter=random; total time=   0.0s\n",
      "[CV] END max_depth=5, max_features=3, min_samples_leaf=5, splitter=random; total time=   0.0s\n",
      "[CV] END max_depth=5, max_features=3, min_samples_leaf=5, splitter=random; total time=   0.0s\n",
      "[CV] END max_depth=5, max_features=3, min_samples_leaf=5, splitter=random; total time=   0.0s\n",
      "[CV] END max_depth=5, max_features=3, min_samples_leaf=5, splitter=random; total time=   0.0s\n",
      "[CV] END max_depth=5, max_features=3, min_samples_leaf=10, splitter=best; total time=   0.0s\n",
      "[CV] END max_depth=5, max_features=3, min_samples_leaf=10, splitter=best; total time=   0.0s\n",
      "[CV] END max_depth=5, max_features=3, min_samples_leaf=10, splitter=best; total time=   0.0s\n",
      "[CV] END max_depth=5, max_features=3, min_samples_leaf=10, splitter=best; total time=   0.0s\n",
      "[CV] END max_depth=5, max_features=3, min_samples_leaf=10, splitter=best; total time=   0.0s\n",
      "[CV] END max_depth=5, max_features=3, min_samples_leaf=10, splitter=random; total time=   0.0s\n",
      "[CV] END max_depth=5, max_features=3, min_samples_leaf=10, splitter=random; total time=   0.0s\n",
      "[CV] END max_depth=5, max_features=3, min_samples_leaf=10, splitter=random; total time=   0.0s\n",
      "[CV] END max_depth=5, max_features=3, min_samples_leaf=10, splitter=random; total time=   0.0s\n",
      "[CV] END max_depth=5, max_features=3, min_samples_leaf=10, splitter=random; total time=   0.0s\n",
      "[CV] END max_depth=5, max_features=4, min_samples_leaf=3, splitter=best; total time=   0.0s\n",
      "[CV] END max_depth=5, max_features=4, min_samples_leaf=3, splitter=best; total time=   0.0s\n",
      "[CV] END max_depth=5, max_features=4, min_samples_leaf=3, splitter=best; total time=   0.0s\n",
      "[CV] END max_depth=5, max_features=4, min_samples_leaf=3, splitter=best; total time=   0.0s\n",
      "[CV] END max_depth=5, max_features=4, min_samples_leaf=3, splitter=best; total time=   0.0s\n",
      "[CV] END max_depth=5, max_features=4, min_samples_leaf=3, splitter=random; total time=   0.0s\n",
      "[CV] END max_depth=5, max_features=4, min_samples_leaf=3, splitter=random; total time=   0.0s\n",
      "[CV] END max_depth=5, max_features=4, min_samples_leaf=3, splitter=random; total time=   0.0s\n",
      "[CV] END max_depth=5, max_features=4, min_samples_leaf=3, splitter=random; total time=   0.0s\n",
      "[CV] END max_depth=5, max_features=4, min_samples_leaf=3, splitter=random; total time=   0.0s\n",
      "[CV] END max_depth=5, max_features=4, min_samples_leaf=5, splitter=best; total time=   0.0s\n",
      "[CV] END max_depth=5, max_features=4, min_samples_leaf=5, splitter=best; total time=   0.0s\n",
      "[CV] END max_depth=5, max_features=4, min_samples_leaf=5, splitter=best; total time=   0.0s\n",
      "[CV] END max_depth=5, max_features=4, min_samples_leaf=5, splitter=best; total time=   0.0s\n",
      "[CV] END max_depth=5, max_features=4, min_samples_leaf=5, splitter=best; total time=   0.0s\n",
      "[CV] END max_depth=5, max_features=4, min_samples_leaf=5, splitter=random; total time=   0.0s\n",
      "[CV] END max_depth=5, max_features=4, min_samples_leaf=5, splitter=random; total time=   0.0s\n",
      "[CV] END max_depth=5, max_features=4, min_samples_leaf=5, splitter=random; total time=   0.0s\n",
      "[CV] END max_depth=5, max_features=4, min_samples_leaf=5, splitter=random; total time=   0.0s\n",
      "[CV] END max_depth=5, max_features=4, min_samples_leaf=5, splitter=random; total time=   0.0s\n",
      "[CV] END max_depth=5, max_features=4, min_samples_leaf=10, splitter=best; total time=   0.0s\n",
      "[CV] END max_depth=5, max_features=4, min_samples_leaf=10, splitter=best; total time=   0.0s\n",
      "[CV] END max_depth=5, max_features=4, min_samples_leaf=10, splitter=best; total time=   0.0s\n",
      "[CV] END max_depth=5, max_features=4, min_samples_leaf=10, splitter=best; total time=   0.0s\n",
      "[CV] END max_depth=5, max_features=4, min_samples_leaf=10, splitter=best; total time=   0.0s\n",
      "[CV] END max_depth=5, max_features=4, min_samples_leaf=10, splitter=random; total time=   0.0s\n",
      "[CV] END max_depth=5, max_features=4, min_samples_leaf=10, splitter=random; total time=   0.0s\n",
      "[CV] END max_depth=5, max_features=4, min_samples_leaf=10, splitter=random; total time=   0.0s\n",
      "[CV] END max_depth=5, max_features=4, min_samples_leaf=10, splitter=random; total time=   0.0s\n",
      "[CV] END max_depth=5, max_features=4, min_samples_leaf=10, splitter=random; total time=   0.0s\n",
      "[CV] END max_depth=5, max_features=5, min_samples_leaf=3, splitter=best; total time=   0.0s\n",
      "[CV] END max_depth=5, max_features=5, min_samples_leaf=3, splitter=best; total time=   0.0s\n",
      "[CV] END max_depth=5, max_features=5, min_samples_leaf=3, splitter=best; total time=   0.0s\n",
      "[CV] END max_depth=5, max_features=5, min_samples_leaf=3, splitter=best; total time=   0.0s\n",
      "[CV] END max_depth=5, max_features=5, min_samples_leaf=3, splitter=best; total time=   0.0s\n",
      "[CV] END max_depth=5, max_features=5, min_samples_leaf=3, splitter=random; total time=   0.0s\n",
      "[CV] END max_depth=5, max_features=5, min_samples_leaf=3, splitter=random; total time=   0.0s\n",
      "[CV] END max_depth=5, max_features=5, min_samples_leaf=3, splitter=random; total time=   0.0s\n",
      "[CV] END max_depth=5, max_features=5, min_samples_leaf=3, splitter=random; total time=   0.0s\n",
      "[CV] END max_depth=5, max_features=5, min_samples_leaf=3, splitter=random; total time=   0.0s\n",
      "[CV] END max_depth=5, max_features=5, min_samples_leaf=5, splitter=best; total time=   0.0s\n",
      "[CV] END max_depth=5, max_features=5, min_samples_leaf=5, splitter=best; total time=   0.0s\n",
      "[CV] END max_depth=5, max_features=5, min_samples_leaf=5, splitter=best; total time=   0.0s\n",
      "[CV] END max_depth=5, max_features=5, min_samples_leaf=5, splitter=best; total time=   0.0s\n",
      "[CV] END max_depth=5, max_features=5, min_samples_leaf=5, splitter=best; total time=   0.0s\n",
      "[CV] END max_depth=5, max_features=5, min_samples_leaf=5, splitter=random; total time=   0.0s\n",
      "[CV] END max_depth=5, max_features=5, min_samples_leaf=5, splitter=random; total time=   0.0s\n",
      "[CV] END max_depth=5, max_features=5, min_samples_leaf=5, splitter=random; total time=   0.0s\n",
      "[CV] END max_depth=5, max_features=5, min_samples_leaf=5, splitter=random; total time=   0.0s\n",
      "[CV] END max_depth=5, max_features=5, min_samples_leaf=5, splitter=random; total time=   0.0s\n",
      "[CV] END max_depth=5, max_features=5, min_samples_leaf=10, splitter=best; total time=   0.0s\n",
      "[CV] END max_depth=5, max_features=5, min_samples_leaf=10, splitter=best; total time=   0.0s\n",
      "[CV] END max_depth=5, max_features=5, min_samples_leaf=10, splitter=best; total time=   0.0s\n",
      "[CV] END max_depth=5, max_features=5, min_samples_leaf=10, splitter=best; total time=   0.0s\n",
      "[CV] END max_depth=5, max_features=5, min_samples_leaf=10, splitter=best; total time=   0.0s\n",
      "[CV] END max_depth=5, max_features=5, min_samples_leaf=10, splitter=random; total time=   0.0s\n",
      "[CV] END max_depth=5, max_features=5, min_samples_leaf=10, splitter=random; total time=   0.0s\n",
      "[CV] END max_depth=5, max_features=5, min_samples_leaf=10, splitter=random; total time=   0.0s\n",
      "[CV] END max_depth=5, max_features=5, min_samples_leaf=10, splitter=random; total time=   0.0s\n",
      "[CV] END max_depth=5, max_features=5, min_samples_leaf=10, splitter=random; total time=   0.0s\n",
      "[CV] END max_depth=5, max_features=6, min_samples_leaf=3, splitter=best; total time=   0.0s\n",
      "[CV] END max_depth=5, max_features=6, min_samples_leaf=3, splitter=best; total time=   0.0s\n",
      "[CV] END max_depth=5, max_features=6, min_samples_leaf=3, splitter=best; total time=   0.0s\n",
      "[CV] END max_depth=5, max_features=6, min_samples_leaf=3, splitter=best; total time=   0.0s\n",
      "[CV] END max_depth=5, max_features=6, min_samples_leaf=3, splitter=best; total time=   0.0s\n",
      "[CV] END max_depth=5, max_features=6, min_samples_leaf=3, splitter=random; total time=   0.0s\n",
      "[CV] END max_depth=5, max_features=6, min_samples_leaf=3, splitter=random; total time=   0.0s\n",
      "[CV] END max_depth=5, max_features=6, min_samples_leaf=3, splitter=random; total time=   0.0s\n",
      "[CV] END max_depth=5, max_features=6, min_samples_leaf=3, splitter=random; total time=   0.0s\n",
      "[CV] END max_depth=5, max_features=6, min_samples_leaf=3, splitter=random; total time=   0.0s\n",
      "[CV] END max_depth=5, max_features=6, min_samples_leaf=5, splitter=best; total time=   0.0s\n",
      "[CV] END max_depth=5, max_features=6, min_samples_leaf=5, splitter=best; total time=   0.0s\n",
      "[CV] END max_depth=5, max_features=6, min_samples_leaf=5, splitter=best; total time=   0.0s\n",
      "[CV] END max_depth=5, max_features=6, min_samples_leaf=5, splitter=best; total time=   0.0s\n",
      "[CV] END max_depth=5, max_features=6, min_samples_leaf=5, splitter=best; total time=   0.0s\n",
      "[CV] END max_depth=5, max_features=6, min_samples_leaf=5, splitter=random; total time=   0.0s\n",
      "[CV] END max_depth=5, max_features=6, min_samples_leaf=5, splitter=random; total time=   0.0s\n",
      "[CV] END max_depth=5, max_features=6, min_samples_leaf=5, splitter=random; total time=   0.0s\n",
      "[CV] END max_depth=5, max_features=6, min_samples_leaf=5, splitter=random; total time=   0.0s\n",
      "[CV] END max_depth=5, max_features=6, min_samples_leaf=5, splitter=random; total time=   0.0s\n",
      "[CV] END max_depth=5, max_features=6, min_samples_leaf=10, splitter=best; total time=   0.0s\n",
      "[CV] END max_depth=5, max_features=6, min_samples_leaf=10, splitter=best; total time=   0.0s\n",
      "[CV] END max_depth=5, max_features=6, min_samples_leaf=10, splitter=best; total time=   0.0s\n",
      "[CV] END max_depth=5, max_features=6, min_samples_leaf=10, splitter=best; total time=   0.0s\n",
      "[CV] END max_depth=5, max_features=6, min_samples_leaf=10, splitter=best; total time=   0.0s\n",
      "[CV] END max_depth=5, max_features=6, min_samples_leaf=10, splitter=random; total time=   0.0s\n",
      "[CV] END max_depth=5, max_features=6, min_samples_leaf=10, splitter=random; total time=   0.0s\n",
      "[CV] END max_depth=5, max_features=6, min_samples_leaf=10, splitter=random; total time=   0.0s\n",
      "[CV] END max_depth=5, max_features=6, min_samples_leaf=10, splitter=random; total time=   0.0s\n",
      "[CV] END max_depth=5, max_features=6, min_samples_leaf=10, splitter=random; total time=   0.0s\n",
      "[CV] END max_depth=10, max_features=1, min_samples_leaf=3, splitter=best; total time=   0.0s\n",
      "[CV] END max_depth=10, max_features=1, min_samples_leaf=3, splitter=best; total time=   0.0s\n",
      "[CV] END max_depth=10, max_features=1, min_samples_leaf=3, splitter=best; total time=   0.0s\n",
      "[CV] END max_depth=10, max_features=1, min_samples_leaf=3, splitter=best; total time=   0.0s\n",
      "[CV] END max_depth=10, max_features=1, min_samples_leaf=3, splitter=best; total time=   0.0s\n",
      "[CV] END max_depth=10, max_features=1, min_samples_leaf=3, splitter=random; total time=   0.0s\n",
      "[CV] END max_depth=10, max_features=1, min_samples_leaf=3, splitter=random; total time=   0.0s\n",
      "[CV] END max_depth=10, max_features=1, min_samples_leaf=3, splitter=random; total time=   0.0s\n",
      "[CV] END max_depth=10, max_features=1, min_samples_leaf=3, splitter=random; total time=   0.0s\n",
      "[CV] END max_depth=10, max_features=1, min_samples_leaf=3, splitter=random; total time=   0.0s\n",
      "[CV] END max_depth=10, max_features=1, min_samples_leaf=5, splitter=best; total time=   0.0s\n",
      "[CV] END max_depth=10, max_features=1, min_samples_leaf=5, splitter=best; total time=   0.0s\n",
      "[CV] END max_depth=10, max_features=1, min_samples_leaf=5, splitter=best; total time=   0.0s\n",
      "[CV] END max_depth=10, max_features=1, min_samples_leaf=5, splitter=best; total time=   0.0s\n",
      "[CV] END max_depth=10, max_features=1, min_samples_leaf=5, splitter=best; total time=   0.0s\n",
      "[CV] END max_depth=10, max_features=1, min_samples_leaf=5, splitter=random; total time=   0.0s\n",
      "[CV] END max_depth=10, max_features=1, min_samples_leaf=5, splitter=random; total time=   0.0s\n",
      "[CV] END max_depth=10, max_features=1, min_samples_leaf=5, splitter=random; total time=   0.0s\n",
      "[CV] END max_depth=10, max_features=1, min_samples_leaf=5, splitter=random; total time=   0.0s\n",
      "[CV] END max_depth=10, max_features=1, min_samples_leaf=5, splitter=random; total time=   0.0s\n",
      "[CV] END max_depth=10, max_features=1, min_samples_leaf=10, splitter=best; total time=   0.0s\n",
      "[CV] END max_depth=10, max_features=1, min_samples_leaf=10, splitter=best; total time=   0.0s\n",
      "[CV] END max_depth=10, max_features=1, min_samples_leaf=10, splitter=best; total time=   0.0s\n",
      "[CV] END max_depth=10, max_features=1, min_samples_leaf=10, splitter=best; total time=   0.0s\n",
      "[CV] END max_depth=10, max_features=1, min_samples_leaf=10, splitter=best; total time=   0.0s\n",
      "[CV] END max_depth=10, max_features=1, min_samples_leaf=10, splitter=random; total time=   0.0s\n",
      "[CV] END max_depth=10, max_features=1, min_samples_leaf=10, splitter=random; total time=   0.0s\n",
      "[CV] END max_depth=10, max_features=1, min_samples_leaf=10, splitter=random; total time=   0.0s\n",
      "[CV] END max_depth=10, max_features=1, min_samples_leaf=10, splitter=random; total time=   0.0s\n",
      "[CV] END max_depth=10, max_features=1, min_samples_leaf=10, splitter=random; total time=   0.0s\n",
      "[CV] END max_depth=10, max_features=2, min_samples_leaf=3, splitter=best; total time=   0.0s\n",
      "[CV] END max_depth=10, max_features=2, min_samples_leaf=3, splitter=best; total time=   0.0s\n",
      "[CV] END max_depth=10, max_features=2, min_samples_leaf=3, splitter=best; total time=   0.0s\n",
      "[CV] END max_depth=10, max_features=2, min_samples_leaf=3, splitter=best; total time=   0.0s\n",
      "[CV] END max_depth=10, max_features=2, min_samples_leaf=3, splitter=best; total time=   0.0s\n",
      "[CV] END max_depth=10, max_features=2, min_samples_leaf=3, splitter=random; total time=   0.0s\n",
      "[CV] END max_depth=10, max_features=2, min_samples_leaf=3, splitter=random; total time=   0.0s\n",
      "[CV] END max_depth=10, max_features=2, min_samples_leaf=3, splitter=random; total time=   0.0s\n",
      "[CV] END max_depth=10, max_features=2, min_samples_leaf=3, splitter=random; total time=   0.0s\n",
      "[CV] END max_depth=10, max_features=2, min_samples_leaf=3, splitter=random; total time=   0.0s\n",
      "[CV] END max_depth=10, max_features=2, min_samples_leaf=5, splitter=best; total time=   0.0s\n",
      "[CV] END max_depth=10, max_features=2, min_samples_leaf=5, splitter=best; total time=   0.0s\n",
      "[CV] END max_depth=10, max_features=2, min_samples_leaf=5, splitter=best; total time=   0.0s\n",
      "[CV] END max_depth=10, max_features=2, min_samples_leaf=5, splitter=best; total time=   0.0s\n",
      "[CV] END max_depth=10, max_features=2, min_samples_leaf=5, splitter=best; total time=   0.0s\n",
      "[CV] END max_depth=10, max_features=2, min_samples_leaf=5, splitter=random; total time=   0.0s\n",
      "[CV] END max_depth=10, max_features=2, min_samples_leaf=5, splitter=random; total time=   0.0s\n",
      "[CV] END max_depth=10, max_features=2, min_samples_leaf=5, splitter=random; total time=   0.0s\n",
      "[CV] END max_depth=10, max_features=2, min_samples_leaf=5, splitter=random; total time=   0.0s\n",
      "[CV] END max_depth=10, max_features=2, min_samples_leaf=5, splitter=random; total time=   0.0s\n",
      "[CV] END max_depth=10, max_features=2, min_samples_leaf=10, splitter=best; total time=   0.0s\n",
      "[CV] END max_depth=10, max_features=2, min_samples_leaf=10, splitter=best; total time=   0.0s\n",
      "[CV] END max_depth=10, max_features=2, min_samples_leaf=10, splitter=best; total time=   0.0s\n",
      "[CV] END max_depth=10, max_features=2, min_samples_leaf=10, splitter=best; total time=   0.0s\n",
      "[CV] END max_depth=10, max_features=2, min_samples_leaf=10, splitter=best; total time=   0.0s\n",
      "[CV] END max_depth=10, max_features=2, min_samples_leaf=10, splitter=random; total time=   0.0s\n",
      "[CV] END max_depth=10, max_features=2, min_samples_leaf=10, splitter=random; total time=   0.0s\n",
      "[CV] END max_depth=10, max_features=2, min_samples_leaf=10, splitter=random; total time=   0.0s\n",
      "[CV] END max_depth=10, max_features=2, min_samples_leaf=10, splitter=random; total time=   0.0s\n",
      "[CV] END max_depth=10, max_features=2, min_samples_leaf=10, splitter=random; total time=   0.0s\n",
      "[CV] END max_depth=10, max_features=3, min_samples_leaf=3, splitter=best; total time=   0.0s\n",
      "[CV] END max_depth=10, max_features=3, min_samples_leaf=3, splitter=best; total time=   0.0s\n",
      "[CV] END max_depth=10, max_features=3, min_samples_leaf=3, splitter=best; total time=   0.0s\n",
      "[CV] END max_depth=10, max_features=3, min_samples_leaf=3, splitter=best; total time=   0.0s\n",
      "[CV] END max_depth=10, max_features=3, min_samples_leaf=3, splitter=best; total time=   0.0s\n",
      "[CV] END max_depth=10, max_features=3, min_samples_leaf=3, splitter=random; total time=   0.0s\n",
      "[CV] END max_depth=10, max_features=3, min_samples_leaf=3, splitter=random; total time=   0.0s\n",
      "[CV] END max_depth=10, max_features=3, min_samples_leaf=3, splitter=random; total time=   0.0s\n",
      "[CV] END max_depth=10, max_features=3, min_samples_leaf=3, splitter=random; total time=   0.0s\n",
      "[CV] END max_depth=10, max_features=3, min_samples_leaf=3, splitter=random; total time=   0.0s\n",
      "[CV] END max_depth=10, max_features=3, min_samples_leaf=5, splitter=best; total time=   0.0s\n",
      "[CV] END max_depth=10, max_features=3, min_samples_leaf=5, splitter=best; total time=   0.0s\n",
      "[CV] END max_depth=10, max_features=3, min_samples_leaf=5, splitter=best; total time=   0.0s\n",
      "[CV] END max_depth=10, max_features=3, min_samples_leaf=5, splitter=best; total time=   0.0s\n",
      "[CV] END max_depth=10, max_features=3, min_samples_leaf=5, splitter=best; total time=   0.0s\n",
      "[CV] END max_depth=10, max_features=3, min_samples_leaf=5, splitter=random; total time=   0.0s\n",
      "[CV] END max_depth=10, max_features=3, min_samples_leaf=5, splitter=random; total time=   0.0s\n",
      "[CV] END max_depth=10, max_features=3, min_samples_leaf=5, splitter=random; total time=   0.0s\n",
      "[CV] END max_depth=10, max_features=3, min_samples_leaf=5, splitter=random; total time=   0.0s\n",
      "[CV] END max_depth=10, max_features=3, min_samples_leaf=5, splitter=random; total time=   0.0s\n",
      "[CV] END max_depth=10, max_features=3, min_samples_leaf=10, splitter=best; total time=   0.0s\n",
      "[CV] END max_depth=10, max_features=3, min_samples_leaf=10, splitter=best; total time=   0.0s\n",
      "[CV] END max_depth=10, max_features=3, min_samples_leaf=10, splitter=best; total time=   0.0s\n",
      "[CV] END max_depth=10, max_features=3, min_samples_leaf=10, splitter=best; total time=   0.0s\n",
      "[CV] END max_depth=10, max_features=3, min_samples_leaf=10, splitter=best; total time=   0.0s\n",
      "[CV] END max_depth=10, max_features=3, min_samples_leaf=10, splitter=random; total time=   0.0s\n",
      "[CV] END max_depth=10, max_features=3, min_samples_leaf=10, splitter=random; total time=   0.0s\n",
      "[CV] END max_depth=10, max_features=3, min_samples_leaf=10, splitter=random; total time=   0.0s\n",
      "[CV] END max_depth=10, max_features=3, min_samples_leaf=10, splitter=random; total time=   0.0s\n",
      "[CV] END max_depth=10, max_features=3, min_samples_leaf=10, splitter=random; total time=   0.0s\n",
      "[CV] END max_depth=10, max_features=4, min_samples_leaf=3, splitter=best; total time=   0.0s\n",
      "[CV] END max_depth=10, max_features=4, min_samples_leaf=3, splitter=best; total time=   0.0s\n",
      "[CV] END max_depth=10, max_features=4, min_samples_leaf=3, splitter=best; total time=   0.0s\n",
      "[CV] END max_depth=10, max_features=4, min_samples_leaf=3, splitter=best; total time=   0.0s\n",
      "[CV] END max_depth=10, max_features=4, min_samples_leaf=3, splitter=best; total time=   0.0s\n",
      "[CV] END max_depth=10, max_features=4, min_samples_leaf=3, splitter=random; total time=   0.0s\n",
      "[CV] END max_depth=10, max_features=4, min_samples_leaf=3, splitter=random; total time=   0.0s\n",
      "[CV] END max_depth=10, max_features=4, min_samples_leaf=3, splitter=random; total time=   0.0s\n",
      "[CV] END max_depth=10, max_features=4, min_samples_leaf=3, splitter=random; total time=   0.0s\n",
      "[CV] END max_depth=10, max_features=4, min_samples_leaf=3, splitter=random; total time=   0.0s\n",
      "[CV] END max_depth=10, max_features=4, min_samples_leaf=5, splitter=best; total time=   0.0s\n",
      "[CV] END max_depth=10, max_features=4, min_samples_leaf=5, splitter=best; total time=   0.0s\n",
      "[CV] END max_depth=10, max_features=4, min_samples_leaf=5, splitter=best; total time=   0.0s\n",
      "[CV] END max_depth=10, max_features=4, min_samples_leaf=5, splitter=best; total time=   0.0s\n",
      "[CV] END max_depth=10, max_features=4, min_samples_leaf=5, splitter=best; total time=   0.0s\n",
      "[CV] END max_depth=10, max_features=4, min_samples_leaf=5, splitter=random; total time=   0.0s\n",
      "[CV] END max_depth=10, max_features=4, min_samples_leaf=5, splitter=random; total time=   0.0s\n",
      "[CV] END max_depth=10, max_features=4, min_samples_leaf=5, splitter=random; total time=   0.0s\n",
      "[CV] END max_depth=10, max_features=4, min_samples_leaf=5, splitter=random; total time=   0.0s\n",
      "[CV] END max_depth=10, max_features=4, min_samples_leaf=5, splitter=random; total time=   0.0s\n",
      "[CV] END max_depth=10, max_features=4, min_samples_leaf=10, splitter=best; total time=   0.0s\n",
      "[CV] END max_depth=10, max_features=4, min_samples_leaf=10, splitter=best; total time=   0.0s\n",
      "[CV] END max_depth=10, max_features=4, min_samples_leaf=10, splitter=best; total time=   0.0s\n",
      "[CV] END max_depth=10, max_features=4, min_samples_leaf=10, splitter=best; total time=   0.0s\n",
      "[CV] END max_depth=10, max_features=4, min_samples_leaf=10, splitter=best; total time=   0.0s\n",
      "[CV] END max_depth=10, max_features=4, min_samples_leaf=10, splitter=random; total time=   0.0s\n",
      "[CV] END max_depth=10, max_features=4, min_samples_leaf=10, splitter=random; total time=   0.0s\n",
      "[CV] END max_depth=10, max_features=4, min_samples_leaf=10, splitter=random; total time=   0.0s\n",
      "[CV] END max_depth=10, max_features=4, min_samples_leaf=10, splitter=random; total time=   0.0s\n",
      "[CV] END max_depth=10, max_features=4, min_samples_leaf=10, splitter=random; total time=   0.0s\n",
      "[CV] END max_depth=10, max_features=5, min_samples_leaf=3, splitter=best; total time=   0.0s\n",
      "[CV] END max_depth=10, max_features=5, min_samples_leaf=3, splitter=best; total time=   0.0s\n",
      "[CV] END max_depth=10, max_features=5, min_samples_leaf=3, splitter=best; total time=   0.0s\n",
      "[CV] END max_depth=10, max_features=5, min_samples_leaf=3, splitter=best; total time=   0.0s\n",
      "[CV] END max_depth=10, max_features=5, min_samples_leaf=3, splitter=best; total time=   0.0s\n",
      "[CV] END max_depth=10, max_features=5, min_samples_leaf=3, splitter=random; total time=   0.0s\n",
      "[CV] END max_depth=10, max_features=5, min_samples_leaf=3, splitter=random; total time=   0.0s\n",
      "[CV] END max_depth=10, max_features=5, min_samples_leaf=3, splitter=random; total time=   0.0s\n",
      "[CV] END max_depth=10, max_features=5, min_samples_leaf=3, splitter=random; total time=   0.0s\n",
      "[CV] END max_depth=10, max_features=5, min_samples_leaf=3, splitter=random; total time=   0.0s\n",
      "[CV] END max_depth=10, max_features=5, min_samples_leaf=5, splitter=best; total time=   0.0s\n",
      "[CV] END max_depth=10, max_features=5, min_samples_leaf=5, splitter=best; total time=   0.0s\n",
      "[CV] END max_depth=10, max_features=5, min_samples_leaf=5, splitter=best; total time=   0.0s\n",
      "[CV] END max_depth=10, max_features=5, min_samples_leaf=5, splitter=best; total time=   0.0s\n",
      "[CV] END max_depth=10, max_features=5, min_samples_leaf=5, splitter=best; total time=   0.0s\n",
      "[CV] END max_depth=10, max_features=5, min_samples_leaf=5, splitter=random; total time=   0.0s\n",
      "[CV] END max_depth=10, max_features=5, min_samples_leaf=5, splitter=random; total time=   0.0s\n",
      "[CV] END max_depth=10, max_features=5, min_samples_leaf=5, splitter=random; total time=   0.0s\n",
      "[CV] END max_depth=10, max_features=5, min_samples_leaf=5, splitter=random; total time=   0.0s\n",
      "[CV] END max_depth=10, max_features=5, min_samples_leaf=5, splitter=random; total time=   0.0s\n",
      "[CV] END max_depth=10, max_features=5, min_samples_leaf=10, splitter=best; total time=   0.0s\n",
      "[CV] END max_depth=10, max_features=5, min_samples_leaf=10, splitter=best; total time=   0.0s\n",
      "[CV] END max_depth=10, max_features=5, min_samples_leaf=10, splitter=best; total time=   0.0s\n",
      "[CV] END max_depth=10, max_features=5, min_samples_leaf=10, splitter=best; total time=   0.0s\n",
      "[CV] END max_depth=10, max_features=5, min_samples_leaf=10, splitter=best; total time=   0.0s\n",
      "[CV] END max_depth=10, max_features=5, min_samples_leaf=10, splitter=random; total time=   0.0s\n",
      "[CV] END max_depth=10, max_features=5, min_samples_leaf=10, splitter=random; total time=   0.0s\n",
      "[CV] END max_depth=10, max_features=5, min_samples_leaf=10, splitter=random; total time=   0.0s\n",
      "[CV] END max_depth=10, max_features=5, min_samples_leaf=10, splitter=random; total time=   0.0s\n",
      "[CV] END max_depth=10, max_features=5, min_samples_leaf=10, splitter=random; total time=   0.0s\n",
      "[CV] END max_depth=10, max_features=6, min_samples_leaf=3, splitter=best; total time=   0.0s\n",
      "[CV] END max_depth=10, max_features=6, min_samples_leaf=3, splitter=best; total time=   0.0s\n",
      "[CV] END max_depth=10, max_features=6, min_samples_leaf=3, splitter=best; total time=   0.0s\n",
      "[CV] END max_depth=10, max_features=6, min_samples_leaf=3, splitter=best; total time=   0.0s\n",
      "[CV] END max_depth=10, max_features=6, min_samples_leaf=3, splitter=best; total time=   0.0s\n",
      "[CV] END max_depth=10, max_features=6, min_samples_leaf=3, splitter=random; total time=   0.0s\n",
      "[CV] END max_depth=10, max_features=6, min_samples_leaf=3, splitter=random; total time=   0.0s\n",
      "[CV] END max_depth=10, max_features=6, min_samples_leaf=3, splitter=random; total time=   0.0s\n",
      "[CV] END max_depth=10, max_features=6, min_samples_leaf=3, splitter=random; total time=   0.0s\n",
      "[CV] END max_depth=10, max_features=6, min_samples_leaf=3, splitter=random; total time=   0.0s\n",
      "[CV] END max_depth=10, max_features=6, min_samples_leaf=5, splitter=best; total time=   0.0s\n",
      "[CV] END max_depth=10, max_features=6, min_samples_leaf=5, splitter=best; total time=   0.0s\n"
     ]
    },
    {
     "name": "stdout",
     "output_type": "stream",
     "text": [
      "[CV] END max_depth=10, max_features=6, min_samples_leaf=5, splitter=best; total time=   0.0s\n",
      "[CV] END max_depth=10, max_features=6, min_samples_leaf=5, splitter=best; total time=   0.0s\n",
      "[CV] END max_depth=10, max_features=6, min_samples_leaf=5, splitter=best; total time=   0.0s\n",
      "[CV] END max_depth=10, max_features=6, min_samples_leaf=5, splitter=random; total time=   0.0s\n",
      "[CV] END max_depth=10, max_features=6, min_samples_leaf=5, splitter=random; total time=   0.0s\n",
      "[CV] END max_depth=10, max_features=6, min_samples_leaf=5, splitter=random; total time=   0.0s\n",
      "[CV] END max_depth=10, max_features=6, min_samples_leaf=5, splitter=random; total time=   0.0s\n",
      "[CV] END max_depth=10, max_features=6, min_samples_leaf=5, splitter=random; total time=   0.0s\n",
      "[CV] END max_depth=10, max_features=6, min_samples_leaf=10, splitter=best; total time=   0.0s\n",
      "[CV] END max_depth=10, max_features=6, min_samples_leaf=10, splitter=best; total time=   0.0s\n",
      "[CV] END max_depth=10, max_features=6, min_samples_leaf=10, splitter=best; total time=   0.0s\n",
      "[CV] END max_depth=10, max_features=6, min_samples_leaf=10, splitter=best; total time=   0.0s\n",
      "[CV] END max_depth=10, max_features=6, min_samples_leaf=10, splitter=best; total time=   0.0s\n",
      "[CV] END max_depth=10, max_features=6, min_samples_leaf=10, splitter=random; total time=   0.0s\n",
      "[CV] END max_depth=10, max_features=6, min_samples_leaf=10, splitter=random; total time=   0.0s\n",
      "[CV] END max_depth=10, max_features=6, min_samples_leaf=10, splitter=random; total time=   0.0s\n",
      "[CV] END max_depth=10, max_features=6, min_samples_leaf=10, splitter=random; total time=   0.0s\n",
      "[CV] END max_depth=10, max_features=6, min_samples_leaf=10, splitter=random; total time=   0.0s\n",
      "[CV] END max_depth=15, max_features=1, min_samples_leaf=3, splitter=best; total time=   0.0s\n",
      "[CV] END max_depth=15, max_features=1, min_samples_leaf=3, splitter=best; total time=   0.0s\n",
      "[CV] END max_depth=15, max_features=1, min_samples_leaf=3, splitter=best; total time=   0.0s\n",
      "[CV] END max_depth=15, max_features=1, min_samples_leaf=3, splitter=best; total time=   0.0s\n",
      "[CV] END max_depth=15, max_features=1, min_samples_leaf=3, splitter=best; total time=   0.0s\n",
      "[CV] END max_depth=15, max_features=1, min_samples_leaf=3, splitter=random; total time=   0.0s\n",
      "[CV] END max_depth=15, max_features=1, min_samples_leaf=3, splitter=random; total time=   0.0s\n",
      "[CV] END max_depth=15, max_features=1, min_samples_leaf=3, splitter=random; total time=   0.0s\n",
      "[CV] END max_depth=15, max_features=1, min_samples_leaf=3, splitter=random; total time=   0.0s\n",
      "[CV] END max_depth=15, max_features=1, min_samples_leaf=3, splitter=random; total time=   0.0s\n",
      "[CV] END max_depth=15, max_features=1, min_samples_leaf=5, splitter=best; total time=   0.0s\n",
      "[CV] END max_depth=15, max_features=1, min_samples_leaf=5, splitter=best; total time=   0.0s\n",
      "[CV] END max_depth=15, max_features=1, min_samples_leaf=5, splitter=best; total time=   0.0s\n",
      "[CV] END max_depth=15, max_features=1, min_samples_leaf=5, splitter=best; total time=   0.0s\n",
      "[CV] END max_depth=15, max_features=1, min_samples_leaf=5, splitter=best; total time=   0.0s\n",
      "[CV] END max_depth=15, max_features=1, min_samples_leaf=5, splitter=random; total time=   0.0s\n",
      "[CV] END max_depth=15, max_features=1, min_samples_leaf=5, splitter=random; total time=   0.0s\n",
      "[CV] END max_depth=15, max_features=1, min_samples_leaf=5, splitter=random; total time=   0.0s\n",
      "[CV] END max_depth=15, max_features=1, min_samples_leaf=5, splitter=random; total time=   0.0s\n",
      "[CV] END max_depth=15, max_features=1, min_samples_leaf=5, splitter=random; total time=   0.0s\n",
      "[CV] END max_depth=15, max_features=1, min_samples_leaf=10, splitter=best; total time=   0.0s\n",
      "[CV] END max_depth=15, max_features=1, min_samples_leaf=10, splitter=best; total time=   0.0s\n",
      "[CV] END max_depth=15, max_features=1, min_samples_leaf=10, splitter=best; total time=   0.0s\n",
      "[CV] END max_depth=15, max_features=1, min_samples_leaf=10, splitter=best; total time=   0.0s\n",
      "[CV] END max_depth=15, max_features=1, min_samples_leaf=10, splitter=best; total time=   0.0s\n",
      "[CV] END max_depth=15, max_features=1, min_samples_leaf=10, splitter=random; total time=   0.0s\n",
      "[CV] END max_depth=15, max_features=1, min_samples_leaf=10, splitter=random; total time=   0.0s\n",
      "[CV] END max_depth=15, max_features=1, min_samples_leaf=10, splitter=random; total time=   0.0s\n",
      "[CV] END max_depth=15, max_features=1, min_samples_leaf=10, splitter=random; total time=   0.0s\n",
      "[CV] END max_depth=15, max_features=1, min_samples_leaf=10, splitter=random; total time=   0.0s\n",
      "[CV] END max_depth=15, max_features=2, min_samples_leaf=3, splitter=best; total time=   0.0s\n",
      "[CV] END max_depth=15, max_features=2, min_samples_leaf=3, splitter=best; total time=   0.0s\n",
      "[CV] END max_depth=15, max_features=2, min_samples_leaf=3, splitter=best; total time=   0.0s\n",
      "[CV] END max_depth=15, max_features=2, min_samples_leaf=3, splitter=best; total time=   0.0s\n",
      "[CV] END max_depth=15, max_features=2, min_samples_leaf=3, splitter=best; total time=   0.0s\n",
      "[CV] END max_depth=15, max_features=2, min_samples_leaf=3, splitter=random; total time=   0.0s\n",
      "[CV] END max_depth=15, max_features=2, min_samples_leaf=3, splitter=random; total time=   0.0s\n",
      "[CV] END max_depth=15, max_features=2, min_samples_leaf=3, splitter=random; total time=   0.0s\n",
      "[CV] END max_depth=15, max_features=2, min_samples_leaf=3, splitter=random; total time=   0.0s\n",
      "[CV] END max_depth=15, max_features=2, min_samples_leaf=3, splitter=random; total time=   0.0s\n",
      "[CV] END max_depth=15, max_features=2, min_samples_leaf=5, splitter=best; total time=   0.0s\n",
      "[CV] END max_depth=15, max_features=2, min_samples_leaf=5, splitter=best; total time=   0.0s\n",
      "[CV] END max_depth=15, max_features=2, min_samples_leaf=5, splitter=best; total time=   0.0s\n",
      "[CV] END max_depth=15, max_features=2, min_samples_leaf=5, splitter=best; total time=   0.0s\n",
      "[CV] END max_depth=15, max_features=2, min_samples_leaf=5, splitter=best; total time=   0.0s\n",
      "[CV] END max_depth=15, max_features=2, min_samples_leaf=5, splitter=random; total time=   0.0s\n",
      "[CV] END max_depth=15, max_features=2, min_samples_leaf=5, splitter=random; total time=   0.0s\n",
      "[CV] END max_depth=15, max_features=2, min_samples_leaf=5, splitter=random; total time=   0.0s\n",
      "[CV] END max_depth=15, max_features=2, min_samples_leaf=5, splitter=random; total time=   0.0s\n",
      "[CV] END max_depth=15, max_features=2, min_samples_leaf=5, splitter=random; total time=   0.0s\n",
      "[CV] END max_depth=15, max_features=2, min_samples_leaf=10, splitter=best; total time=   0.0s\n",
      "[CV] END max_depth=15, max_features=2, min_samples_leaf=10, splitter=best; total time=   0.0s\n",
      "[CV] END max_depth=15, max_features=2, min_samples_leaf=10, splitter=best; total time=   0.0s\n",
      "[CV] END max_depth=15, max_features=2, min_samples_leaf=10, splitter=best; total time=   0.0s\n",
      "[CV] END max_depth=15, max_features=2, min_samples_leaf=10, splitter=best; total time=   0.0s\n",
      "[CV] END max_depth=15, max_features=2, min_samples_leaf=10, splitter=random; total time=   0.0s\n",
      "[CV] END max_depth=15, max_features=2, min_samples_leaf=10, splitter=random; total time=   0.0s\n",
      "[CV] END max_depth=15, max_features=2, min_samples_leaf=10, splitter=random; total time=   0.0s\n",
      "[CV] END max_depth=15, max_features=2, min_samples_leaf=10, splitter=random; total time=   0.0s\n",
      "[CV] END max_depth=15, max_features=2, min_samples_leaf=10, splitter=random; total time=   0.0s\n",
      "[CV] END max_depth=15, max_features=3, min_samples_leaf=3, splitter=best; total time=   0.0s\n",
      "[CV] END max_depth=15, max_features=3, min_samples_leaf=3, splitter=best; total time=   0.0s\n",
      "[CV] END max_depth=15, max_features=3, min_samples_leaf=3, splitter=best; total time=   0.0s\n",
      "[CV] END max_depth=15, max_features=3, min_samples_leaf=3, splitter=best; total time=   0.0s\n",
      "[CV] END max_depth=15, max_features=3, min_samples_leaf=3, splitter=best; total time=   0.0s\n",
      "[CV] END max_depth=15, max_features=3, min_samples_leaf=3, splitter=random; total time=   0.0s\n",
      "[CV] END max_depth=15, max_features=3, min_samples_leaf=3, splitter=random; total time=   0.0s\n",
      "[CV] END max_depth=15, max_features=3, min_samples_leaf=3, splitter=random; total time=   0.0s\n",
      "[CV] END max_depth=15, max_features=3, min_samples_leaf=3, splitter=random; total time=   0.0s\n",
      "[CV] END max_depth=15, max_features=3, min_samples_leaf=3, splitter=random; total time=   0.0s\n",
      "[CV] END max_depth=15, max_features=3, min_samples_leaf=5, splitter=best; total time=   0.0s\n",
      "[CV] END max_depth=15, max_features=3, min_samples_leaf=5, splitter=best; total time=   0.0s\n",
      "[CV] END max_depth=15, max_features=3, min_samples_leaf=5, splitter=best; total time=   0.0s\n",
      "[CV] END max_depth=15, max_features=3, min_samples_leaf=5, splitter=best; total time=   0.0s\n",
      "[CV] END max_depth=15, max_features=3, min_samples_leaf=5, splitter=best; total time=   0.0s\n",
      "[CV] END max_depth=15, max_features=3, min_samples_leaf=5, splitter=random; total time=   0.0s\n",
      "[CV] END max_depth=15, max_features=3, min_samples_leaf=5, splitter=random; total time=   0.0s\n",
      "[CV] END max_depth=15, max_features=3, min_samples_leaf=5, splitter=random; total time=   0.0s\n",
      "[CV] END max_depth=15, max_features=3, min_samples_leaf=5, splitter=random; total time=   0.0s\n",
      "[CV] END max_depth=15, max_features=3, min_samples_leaf=5, splitter=random; total time=   0.0s\n",
      "[CV] END max_depth=15, max_features=3, min_samples_leaf=10, splitter=best; total time=   0.0s\n",
      "[CV] END max_depth=15, max_features=3, min_samples_leaf=10, splitter=best; total time=   0.0s\n",
      "[CV] END max_depth=15, max_features=3, min_samples_leaf=10, splitter=best; total time=   0.0s\n",
      "[CV] END max_depth=15, max_features=3, min_samples_leaf=10, splitter=best; total time=   0.0s\n",
      "[CV] END max_depth=15, max_features=3, min_samples_leaf=10, splitter=best; total time=   0.0s\n",
      "[CV] END max_depth=15, max_features=3, min_samples_leaf=10, splitter=random; total time=   0.0s\n",
      "[CV] END max_depth=15, max_features=3, min_samples_leaf=10, splitter=random; total time=   0.0s\n",
      "[CV] END max_depth=15, max_features=3, min_samples_leaf=10, splitter=random; total time=   0.0s\n",
      "[CV] END max_depth=15, max_features=3, min_samples_leaf=10, splitter=random; total time=   0.0s\n",
      "[CV] END max_depth=15, max_features=3, min_samples_leaf=10, splitter=random; total time=   0.0s\n",
      "[CV] END max_depth=15, max_features=4, min_samples_leaf=3, splitter=best; total time=   0.0s\n",
      "[CV] END max_depth=15, max_features=4, min_samples_leaf=3, splitter=best; total time=   0.0s\n",
      "[CV] END max_depth=15, max_features=4, min_samples_leaf=3, splitter=best; total time=   0.0s\n",
      "[CV] END max_depth=15, max_features=4, min_samples_leaf=3, splitter=best; total time=   0.0s\n",
      "[CV] END max_depth=15, max_features=4, min_samples_leaf=3, splitter=best; total time=   0.0s\n",
      "[CV] END max_depth=15, max_features=4, min_samples_leaf=3, splitter=random; total time=   0.0s\n",
      "[CV] END max_depth=15, max_features=4, min_samples_leaf=3, splitter=random; total time=   0.0s\n",
      "[CV] END max_depth=15, max_features=4, min_samples_leaf=3, splitter=random; total time=   0.0s\n",
      "[CV] END max_depth=15, max_features=4, min_samples_leaf=3, splitter=random; total time=   0.0s\n",
      "[CV] END max_depth=15, max_features=4, min_samples_leaf=3, splitter=random; total time=   0.0s\n",
      "[CV] END max_depth=15, max_features=4, min_samples_leaf=5, splitter=best; total time=   0.0s\n",
      "[CV] END max_depth=15, max_features=4, min_samples_leaf=5, splitter=best; total time=   0.0s\n",
      "[CV] END max_depth=15, max_features=4, min_samples_leaf=5, splitter=best; total time=   0.0s\n",
      "[CV] END max_depth=15, max_features=4, min_samples_leaf=5, splitter=best; total time=   0.0s\n",
      "[CV] END max_depth=15, max_features=4, min_samples_leaf=5, splitter=best; total time=   0.0s\n",
      "[CV] END max_depth=15, max_features=4, min_samples_leaf=5, splitter=random; total time=   0.0s\n",
      "[CV] END max_depth=15, max_features=4, min_samples_leaf=5, splitter=random; total time=   0.0s\n",
      "[CV] END max_depth=15, max_features=4, min_samples_leaf=5, splitter=random; total time=   0.0s\n",
      "[CV] END max_depth=15, max_features=4, min_samples_leaf=5, splitter=random; total time=   0.0s\n",
      "[CV] END max_depth=15, max_features=4, min_samples_leaf=5, splitter=random; total time=   0.0s\n",
      "[CV] END max_depth=15, max_features=4, min_samples_leaf=10, splitter=best; total time=   0.0s\n",
      "[CV] END max_depth=15, max_features=4, min_samples_leaf=10, splitter=best; total time=   0.0s\n",
      "[CV] END max_depth=15, max_features=4, min_samples_leaf=10, splitter=best; total time=   0.0s\n",
      "[CV] END max_depth=15, max_features=4, min_samples_leaf=10, splitter=best; total time=   0.0s\n",
      "[CV] END max_depth=15, max_features=4, min_samples_leaf=10, splitter=best; total time=   0.0s\n",
      "[CV] END max_depth=15, max_features=4, min_samples_leaf=10, splitter=random; total time=   0.0s\n",
      "[CV] END max_depth=15, max_features=4, min_samples_leaf=10, splitter=random; total time=   0.0s\n",
      "[CV] END max_depth=15, max_features=4, min_samples_leaf=10, splitter=random; total time=   0.0s\n",
      "[CV] END max_depth=15, max_features=4, min_samples_leaf=10, splitter=random; total time=   0.0s\n",
      "[CV] END max_depth=15, max_features=4, min_samples_leaf=10, splitter=random; total time=   0.0s\n",
      "[CV] END max_depth=15, max_features=5, min_samples_leaf=3, splitter=best; total time=   0.0s\n",
      "[CV] END max_depth=15, max_features=5, min_samples_leaf=3, splitter=best; total time=   0.0s\n",
      "[CV] END max_depth=15, max_features=5, min_samples_leaf=3, splitter=best; total time=   0.0s\n",
      "[CV] END max_depth=15, max_features=5, min_samples_leaf=3, splitter=best; total time=   0.0s\n",
      "[CV] END max_depth=15, max_features=5, min_samples_leaf=3, splitter=best; total time=   0.0s\n",
      "[CV] END max_depth=15, max_features=5, min_samples_leaf=3, splitter=random; total time=   0.0s\n",
      "[CV] END max_depth=15, max_features=5, min_samples_leaf=3, splitter=random; total time=   0.0s\n",
      "[CV] END max_depth=15, max_features=5, min_samples_leaf=3, splitter=random; total time=   0.0s\n",
      "[CV] END max_depth=15, max_features=5, min_samples_leaf=3, splitter=random; total time=   0.0s\n",
      "[CV] END max_depth=15, max_features=5, min_samples_leaf=3, splitter=random; total time=   0.0s\n",
      "[CV] END max_depth=15, max_features=5, min_samples_leaf=5, splitter=best; total time=   0.0s\n",
      "[CV] END max_depth=15, max_features=5, min_samples_leaf=5, splitter=best; total time=   0.0s\n",
      "[CV] END max_depth=15, max_features=5, min_samples_leaf=5, splitter=best; total time=   0.0s\n",
      "[CV] END max_depth=15, max_features=5, min_samples_leaf=5, splitter=best; total time=   0.0s\n",
      "[CV] END max_depth=15, max_features=5, min_samples_leaf=5, splitter=best; total time=   0.0s\n",
      "[CV] END max_depth=15, max_features=5, min_samples_leaf=5, splitter=random; total time=   0.0s\n",
      "[CV] END max_depth=15, max_features=5, min_samples_leaf=5, splitter=random; total time=   0.0s\n",
      "[CV] END max_depth=15, max_features=5, min_samples_leaf=5, splitter=random; total time=   0.0s\n",
      "[CV] END max_depth=15, max_features=5, min_samples_leaf=5, splitter=random; total time=   0.0s\n",
      "[CV] END max_depth=15, max_features=5, min_samples_leaf=5, splitter=random; total time=   0.0s\n",
      "[CV] END max_depth=15, max_features=5, min_samples_leaf=10, splitter=best; total time=   0.0s\n",
      "[CV] END max_depth=15, max_features=5, min_samples_leaf=10, splitter=best; total time=   0.0s\n",
      "[CV] END max_depth=15, max_features=5, min_samples_leaf=10, splitter=best; total time=   0.0s\n",
      "[CV] END max_depth=15, max_features=5, min_samples_leaf=10, splitter=best; total time=   0.0s\n",
      "[CV] END max_depth=15, max_features=5, min_samples_leaf=10, splitter=best; total time=   0.0s\n",
      "[CV] END max_depth=15, max_features=5, min_samples_leaf=10, splitter=random; total time=   0.0s\n",
      "[CV] END max_depth=15, max_features=5, min_samples_leaf=10, splitter=random; total time=   0.0s\n",
      "[CV] END max_depth=15, max_features=5, min_samples_leaf=10, splitter=random; total time=   0.0s\n",
      "[CV] END max_depth=15, max_features=5, min_samples_leaf=10, splitter=random; total time=   0.0s\n",
      "[CV] END max_depth=15, max_features=5, min_samples_leaf=10, splitter=random; total time=   0.0s\n",
      "[CV] END max_depth=15, max_features=6, min_samples_leaf=3, splitter=best; total time=   0.0s\n",
      "[CV] END max_depth=15, max_features=6, min_samples_leaf=3, splitter=best; total time=   0.0s\n",
      "[CV] END max_depth=15, max_features=6, min_samples_leaf=3, splitter=best; total time=   0.0s\n",
      "[CV] END max_depth=15, max_features=6, min_samples_leaf=3, splitter=best; total time=   0.0s\n",
      "[CV] END max_depth=15, max_features=6, min_samples_leaf=3, splitter=best; total time=   0.0s\n",
      "[CV] END max_depth=15, max_features=6, min_samples_leaf=3, splitter=random; total time=   0.0s\n",
      "[CV] END max_depth=15, max_features=6, min_samples_leaf=3, splitter=random; total time=   0.0s\n",
      "[CV] END max_depth=15, max_features=6, min_samples_leaf=3, splitter=random; total time=   0.0s\n",
      "[CV] END max_depth=15, max_features=6, min_samples_leaf=3, splitter=random; total time=   0.0s\n",
      "[CV] END max_depth=15, max_features=6, min_samples_leaf=3, splitter=random; total time=   0.0s\n",
      "[CV] END max_depth=15, max_features=6, min_samples_leaf=5, splitter=best; total time=   0.0s\n",
      "[CV] END max_depth=15, max_features=6, min_samples_leaf=5, splitter=best; total time=   0.0s\n",
      "[CV] END max_depth=15, max_features=6, min_samples_leaf=5, splitter=best; total time=   0.0s\n",
      "[CV] END max_depth=15, max_features=6, min_samples_leaf=5, splitter=best; total time=   0.0s\n",
      "[CV] END max_depth=15, max_features=6, min_samples_leaf=5, splitter=best; total time=   0.0s\n",
      "[CV] END max_depth=15, max_features=6, min_samples_leaf=5, splitter=random; total time=   0.0s\n",
      "[CV] END max_depth=15, max_features=6, min_samples_leaf=5, splitter=random; total time=   0.0s\n",
      "[CV] END max_depth=15, max_features=6, min_samples_leaf=5, splitter=random; total time=   0.0s\n",
      "[CV] END max_depth=15, max_features=6, min_samples_leaf=5, splitter=random; total time=   0.0s\n",
      "[CV] END max_depth=15, max_features=6, min_samples_leaf=5, splitter=random; total time=   0.0s\n",
      "[CV] END max_depth=15, max_features=6, min_samples_leaf=10, splitter=best; total time=   0.0s\n",
      "[CV] END max_depth=15, max_features=6, min_samples_leaf=10, splitter=best; total time=   0.0s\n",
      "[CV] END max_depth=15, max_features=6, min_samples_leaf=10, splitter=best; total time=   0.0s\n",
      "[CV] END max_depth=15, max_features=6, min_samples_leaf=10, splitter=best; total time=   0.0s\n",
      "[CV] END max_depth=15, max_features=6, min_samples_leaf=10, splitter=best; total time=   0.0s\n",
      "[CV] END max_depth=15, max_features=6, min_samples_leaf=10, splitter=random; total time=   0.0s\n",
      "[CV] END max_depth=15, max_features=6, min_samples_leaf=10, splitter=random; total time=   0.0s\n",
      "[CV] END max_depth=15, max_features=6, min_samples_leaf=10, splitter=random; total time=   0.0s\n",
      "[CV] END max_depth=15, max_features=6, min_samples_leaf=10, splitter=random; total time=   0.0s\n",
      "[CV] END max_depth=15, max_features=6, min_samples_leaf=10, splitter=random; total time=   0.0s\n",
      "[CV] END max_depth=20, max_features=1, min_samples_leaf=3, splitter=best; total time=   0.0s\n",
      "[CV] END max_depth=20, max_features=1, min_samples_leaf=3, splitter=best; total time=   0.0s\n",
      "[CV] END max_depth=20, max_features=1, min_samples_leaf=3, splitter=best; total time=   0.0s\n",
      "[CV] END max_depth=20, max_features=1, min_samples_leaf=3, splitter=best; total time=   0.0s\n",
      "[CV] END max_depth=20, max_features=1, min_samples_leaf=3, splitter=best; total time=   0.0s\n",
      "[CV] END max_depth=20, max_features=1, min_samples_leaf=3, splitter=random; total time=   0.0s\n",
      "[CV] END max_depth=20, max_features=1, min_samples_leaf=3, splitter=random; total time=   0.0s\n",
      "[CV] END max_depth=20, max_features=1, min_samples_leaf=3, splitter=random; total time=   0.0s\n",
      "[CV] END max_depth=20, max_features=1, min_samples_leaf=3, splitter=random; total time=   0.0s\n",
      "[CV] END max_depth=20, max_features=1, min_samples_leaf=3, splitter=random; total time=   0.0s\n",
      "[CV] END max_depth=20, max_features=1, min_samples_leaf=5, splitter=best; total time=   0.0s\n",
      "[CV] END max_depth=20, max_features=1, min_samples_leaf=5, splitter=best; total time=   0.0s\n",
      "[CV] END max_depth=20, max_features=1, min_samples_leaf=5, splitter=best; total time=   0.0s\n",
      "[CV] END max_depth=20, max_features=1, min_samples_leaf=5, splitter=best; total time=   0.0s\n",
      "[CV] END max_depth=20, max_features=1, min_samples_leaf=5, splitter=best; total time=   0.0s\n",
      "[CV] END max_depth=20, max_features=1, min_samples_leaf=5, splitter=random; total time=   0.0s\n",
      "[CV] END max_depth=20, max_features=1, min_samples_leaf=5, splitter=random; total time=   0.0s\n",
      "[CV] END max_depth=20, max_features=1, min_samples_leaf=5, splitter=random; total time=   0.0s\n",
      "[CV] END max_depth=20, max_features=1, min_samples_leaf=5, splitter=random; total time=   0.0s\n",
      "[CV] END max_depth=20, max_features=1, min_samples_leaf=5, splitter=random; total time=   0.0s\n",
      "[CV] END max_depth=20, max_features=1, min_samples_leaf=10, splitter=best; total time=   0.0s\n",
      "[CV] END max_depth=20, max_features=1, min_samples_leaf=10, splitter=best; total time=   0.0s\n",
      "[CV] END max_depth=20, max_features=1, min_samples_leaf=10, splitter=best; total time=   0.0s\n",
      "[CV] END max_depth=20, max_features=1, min_samples_leaf=10, splitter=best; total time=   0.0s\n",
      "[CV] END max_depth=20, max_features=1, min_samples_leaf=10, splitter=best; total time=   0.0s\n",
      "[CV] END max_depth=20, max_features=1, min_samples_leaf=10, splitter=random; total time=   0.0s\n",
      "[CV] END max_depth=20, max_features=1, min_samples_leaf=10, splitter=random; total time=   0.0s\n",
      "[CV] END max_depth=20, max_features=1, min_samples_leaf=10, splitter=random; total time=   0.0s\n",
      "[CV] END max_depth=20, max_features=1, min_samples_leaf=10, splitter=random; total time=   0.0s\n",
      "[CV] END max_depth=20, max_features=1, min_samples_leaf=10, splitter=random; total time=   0.0s\n",
      "[CV] END max_depth=20, max_features=2, min_samples_leaf=3, splitter=best; total time=   0.0s\n",
      "[CV] END max_depth=20, max_features=2, min_samples_leaf=3, splitter=best; total time=   0.0s\n",
      "[CV] END max_depth=20, max_features=2, min_samples_leaf=3, splitter=best; total time=   0.0s\n",
      "[CV] END max_depth=20, max_features=2, min_samples_leaf=3, splitter=best; total time=   0.0s\n",
      "[CV] END max_depth=20, max_features=2, min_samples_leaf=3, splitter=best; total time=   0.0s\n",
      "[CV] END max_depth=20, max_features=2, min_samples_leaf=3, splitter=random; total time=   0.0s\n",
      "[CV] END max_depth=20, max_features=2, min_samples_leaf=3, splitter=random; total time=   0.0s\n",
      "[CV] END max_depth=20, max_features=2, min_samples_leaf=3, splitter=random; total time=   0.0s\n",
      "[CV] END max_depth=20, max_features=2, min_samples_leaf=3, splitter=random; total time=   0.0s\n",
      "[CV] END max_depth=20, max_features=2, min_samples_leaf=3, splitter=random; total time=   0.0s\n",
      "[CV] END max_depth=20, max_features=2, min_samples_leaf=5, splitter=best; total time=   0.0s\n",
      "[CV] END max_depth=20, max_features=2, min_samples_leaf=5, splitter=best; total time=   0.0s\n",
      "[CV] END max_depth=20, max_features=2, min_samples_leaf=5, splitter=best; total time=   0.0s\n",
      "[CV] END max_depth=20, max_features=2, min_samples_leaf=5, splitter=best; total time=   0.0s\n",
      "[CV] END max_depth=20, max_features=2, min_samples_leaf=5, splitter=best; total time=   0.0s\n",
      "[CV] END max_depth=20, max_features=2, min_samples_leaf=5, splitter=random; total time=   0.0s\n",
      "[CV] END max_depth=20, max_features=2, min_samples_leaf=5, splitter=random; total time=   0.0s\n",
      "[CV] END max_depth=20, max_features=2, min_samples_leaf=5, splitter=random; total time=   0.0s\n",
      "[CV] END max_depth=20, max_features=2, min_samples_leaf=5, splitter=random; total time=   0.0s\n",
      "[CV] END max_depth=20, max_features=2, min_samples_leaf=5, splitter=random; total time=   0.0s\n",
      "[CV] END max_depth=20, max_features=2, min_samples_leaf=10, splitter=best; total time=   0.0s\n",
      "[CV] END max_depth=20, max_features=2, min_samples_leaf=10, splitter=best; total time=   0.0s\n",
      "[CV] END max_depth=20, max_features=2, min_samples_leaf=10, splitter=best; total time=   0.0s\n",
      "[CV] END max_depth=20, max_features=2, min_samples_leaf=10, splitter=best; total time=   0.0s\n",
      "[CV] END max_depth=20, max_features=2, min_samples_leaf=10, splitter=best; total time=   0.0s\n",
      "[CV] END max_depth=20, max_features=2, min_samples_leaf=10, splitter=random; total time=   0.0s\n",
      "[CV] END max_depth=20, max_features=2, min_samples_leaf=10, splitter=random; total time=   0.0s\n",
      "[CV] END max_depth=20, max_features=2, min_samples_leaf=10, splitter=random; total time=   0.0s\n",
      "[CV] END max_depth=20, max_features=2, min_samples_leaf=10, splitter=random; total time=   0.0s\n",
      "[CV] END max_depth=20, max_features=2, min_samples_leaf=10, splitter=random; total time=   0.0s\n",
      "[CV] END max_depth=20, max_features=3, min_samples_leaf=3, splitter=best; total time=   0.0s\n",
      "[CV] END max_depth=20, max_features=3, min_samples_leaf=3, splitter=best; total time=   0.0s\n",
      "[CV] END max_depth=20, max_features=3, min_samples_leaf=3, splitter=best; total time=   0.0s\n",
      "[CV] END max_depth=20, max_features=3, min_samples_leaf=3, splitter=best; total time=   0.0s\n",
      "[CV] END max_depth=20, max_features=3, min_samples_leaf=3, splitter=best; total time=   0.0s\n",
      "[CV] END max_depth=20, max_features=3, min_samples_leaf=3, splitter=random; total time=   0.0s\n",
      "[CV] END max_depth=20, max_features=3, min_samples_leaf=3, splitter=random; total time=   0.0s\n",
      "[CV] END max_depth=20, max_features=3, min_samples_leaf=3, splitter=random; total time=   0.0s\n",
      "[CV] END max_depth=20, max_features=3, min_samples_leaf=3, splitter=random; total time=   0.0s\n",
      "[CV] END max_depth=20, max_features=3, min_samples_leaf=3, splitter=random; total time=   0.0s\n",
      "[CV] END max_depth=20, max_features=3, min_samples_leaf=5, splitter=best; total time=   0.0s\n",
      "[CV] END max_depth=20, max_features=3, min_samples_leaf=5, splitter=best; total time=   0.0s\n",
      "[CV] END max_depth=20, max_features=3, min_samples_leaf=5, splitter=best; total time=   0.0s\n",
      "[CV] END max_depth=20, max_features=3, min_samples_leaf=5, splitter=best; total time=   0.0s\n",
      "[CV] END max_depth=20, max_features=3, min_samples_leaf=5, splitter=best; total time=   0.0s\n",
      "[CV] END max_depth=20, max_features=3, min_samples_leaf=5, splitter=random; total time=   0.0s\n",
      "[CV] END max_depth=20, max_features=3, min_samples_leaf=5, splitter=random; total time=   0.0s\n",
      "[CV] END max_depth=20, max_features=3, min_samples_leaf=5, splitter=random; total time=   0.0s\n",
      "[CV] END max_depth=20, max_features=3, min_samples_leaf=5, splitter=random; total time=   0.0s\n",
      "[CV] END max_depth=20, max_features=3, min_samples_leaf=5, splitter=random; total time=   0.0s\n",
      "[CV] END max_depth=20, max_features=3, min_samples_leaf=10, splitter=best; total time=   0.0s\n",
      "[CV] END max_depth=20, max_features=3, min_samples_leaf=10, splitter=best; total time=   0.0s\n",
      "[CV] END max_depth=20, max_features=3, min_samples_leaf=10, splitter=best; total time=   0.0s\n",
      "[CV] END max_depth=20, max_features=3, min_samples_leaf=10, splitter=best; total time=   0.0s\n",
      "[CV] END max_depth=20, max_features=3, min_samples_leaf=10, splitter=best; total time=   0.0s\n",
      "[CV] END max_depth=20, max_features=3, min_samples_leaf=10, splitter=random; total time=   0.0s\n",
      "[CV] END max_depth=20, max_features=3, min_samples_leaf=10, splitter=random; total time=   0.0s\n",
      "[CV] END max_depth=20, max_features=3, min_samples_leaf=10, splitter=random; total time=   0.0s\n",
      "[CV] END max_depth=20, max_features=3, min_samples_leaf=10, splitter=random; total time=   0.0s\n",
      "[CV] END max_depth=20, max_features=3, min_samples_leaf=10, splitter=random; total time=   0.0s\n",
      "[CV] END max_depth=20, max_features=4, min_samples_leaf=3, splitter=best; total time=   0.0s\n",
      "[CV] END max_depth=20, max_features=4, min_samples_leaf=3, splitter=best; total time=   0.0s\n",
      "[CV] END max_depth=20, max_features=4, min_samples_leaf=3, splitter=best; total time=   0.0s\n",
      "[CV] END max_depth=20, max_features=4, min_samples_leaf=3, splitter=best; total time=   0.0s\n",
      "[CV] END max_depth=20, max_features=4, min_samples_leaf=3, splitter=best; total time=   0.0s\n",
      "[CV] END max_depth=20, max_features=4, min_samples_leaf=3, splitter=random; total time=   0.0s\n",
      "[CV] END max_depth=20, max_features=4, min_samples_leaf=3, splitter=random; total time=   0.0s\n",
      "[CV] END max_depth=20, max_features=4, min_samples_leaf=3, splitter=random; total time=   0.0s\n",
      "[CV] END max_depth=20, max_features=4, min_samples_leaf=3, splitter=random; total time=   0.0s\n",
      "[CV] END max_depth=20, max_features=4, min_samples_leaf=3, splitter=random; total time=   0.0s\n",
      "[CV] END max_depth=20, max_features=4, min_samples_leaf=5, splitter=best; total time=   0.0s\n",
      "[CV] END max_depth=20, max_features=4, min_samples_leaf=5, splitter=best; total time=   0.0s\n",
      "[CV] END max_depth=20, max_features=4, min_samples_leaf=5, splitter=best; total time=   0.0s\n",
      "[CV] END max_depth=20, max_features=4, min_samples_leaf=5, splitter=best; total time=   0.0s\n",
      "[CV] END max_depth=20, max_features=4, min_samples_leaf=5, splitter=best; total time=   0.0s\n",
      "[CV] END max_depth=20, max_features=4, min_samples_leaf=5, splitter=random; total time=   0.0s\n",
      "[CV] END max_depth=20, max_features=4, min_samples_leaf=5, splitter=random; total time=   0.0s\n",
      "[CV] END max_depth=20, max_features=4, min_samples_leaf=5, splitter=random; total time=   0.0s\n",
      "[CV] END max_depth=20, max_features=4, min_samples_leaf=5, splitter=random; total time=   0.0s\n",
      "[CV] END max_depth=20, max_features=4, min_samples_leaf=5, splitter=random; total time=   0.0s\n",
      "[CV] END max_depth=20, max_features=4, min_samples_leaf=10, splitter=best; total time=   0.0s\n",
      "[CV] END max_depth=20, max_features=4, min_samples_leaf=10, splitter=best; total time=   0.0s\n",
      "[CV] END max_depth=20, max_features=4, min_samples_leaf=10, splitter=best; total time=   0.0s\n",
      "[CV] END max_depth=20, max_features=4, min_samples_leaf=10, splitter=best; total time=   0.0s\n",
      "[CV] END max_depth=20, max_features=4, min_samples_leaf=10, splitter=best; total time=   0.0s\n",
      "[CV] END max_depth=20, max_features=4, min_samples_leaf=10, splitter=random; total time=   0.0s\n",
      "[CV] END max_depth=20, max_features=4, min_samples_leaf=10, splitter=random; total time=   0.0s\n",
      "[CV] END max_depth=20, max_features=4, min_samples_leaf=10, splitter=random; total time=   0.0s\n",
      "[CV] END max_depth=20, max_features=4, min_samples_leaf=10, splitter=random; total time=   0.0s\n",
      "[CV] END max_depth=20, max_features=4, min_samples_leaf=10, splitter=random; total time=   0.0s\n",
      "[CV] END max_depth=20, max_features=5, min_samples_leaf=3, splitter=best; total time=   0.0s\n",
      "[CV] END max_depth=20, max_features=5, min_samples_leaf=3, splitter=best; total time=   0.0s\n",
      "[CV] END max_depth=20, max_features=5, min_samples_leaf=3, splitter=best; total time=   0.0s\n",
      "[CV] END max_depth=20, max_features=5, min_samples_leaf=3, splitter=best; total time=   0.0s\n",
      "[CV] END max_depth=20, max_features=5, min_samples_leaf=3, splitter=best; total time=   0.0s\n",
      "[CV] END max_depth=20, max_features=5, min_samples_leaf=3, splitter=random; total time=   0.0s\n",
      "[CV] END max_depth=20, max_features=5, min_samples_leaf=3, splitter=random; total time=   0.0s\n",
      "[CV] END max_depth=20, max_features=5, min_samples_leaf=3, splitter=random; total time=   0.0s\n",
      "[CV] END max_depth=20, max_features=5, min_samples_leaf=3, splitter=random; total time=   0.0s\n",
      "[CV] END max_depth=20, max_features=5, min_samples_leaf=3, splitter=random; total time=   0.0s\n",
      "[CV] END max_depth=20, max_features=5, min_samples_leaf=5, splitter=best; total time=   0.0s\n",
      "[CV] END max_depth=20, max_features=5, min_samples_leaf=5, splitter=best; total time=   0.0s\n",
      "[CV] END max_depth=20, max_features=5, min_samples_leaf=5, splitter=best; total time=   0.0s\n",
      "[CV] END max_depth=20, max_features=5, min_samples_leaf=5, splitter=best; total time=   0.0s\n",
      "[CV] END max_depth=20, max_features=5, min_samples_leaf=5, splitter=best; total time=   0.0s\n",
      "[CV] END max_depth=20, max_features=5, min_samples_leaf=5, splitter=random; total time=   0.0s\n",
      "[CV] END max_depth=20, max_features=5, min_samples_leaf=5, splitter=random; total time=   0.0s\n",
      "[CV] END max_depth=20, max_features=5, min_samples_leaf=5, splitter=random; total time=   0.0s\n",
      "[CV] END max_depth=20, max_features=5, min_samples_leaf=5, splitter=random; total time=   0.0s\n",
      "[CV] END max_depth=20, max_features=5, min_samples_leaf=5, splitter=random; total time=   0.0s\n",
      "[CV] END max_depth=20, max_features=5, min_samples_leaf=10, splitter=best; total time=   0.0s\n",
      "[CV] END max_depth=20, max_features=5, min_samples_leaf=10, splitter=best; total time=   0.0s\n",
      "[CV] END max_depth=20, max_features=5, min_samples_leaf=10, splitter=best; total time=   0.0s\n",
      "[CV] END max_depth=20, max_features=5, min_samples_leaf=10, splitter=best; total time=   0.0s\n",
      "[CV] END max_depth=20, max_features=5, min_samples_leaf=10, splitter=best; total time=   0.0s\n",
      "[CV] END max_depth=20, max_features=5, min_samples_leaf=10, splitter=random; total time=   0.0s\n",
      "[CV] END max_depth=20, max_features=5, min_samples_leaf=10, splitter=random; total time=   0.0s\n",
      "[CV] END max_depth=20, max_features=5, min_samples_leaf=10, splitter=random; total time=   0.0s\n",
      "[CV] END max_depth=20, max_features=5, min_samples_leaf=10, splitter=random; total time=   0.0s\n",
      "[CV] END max_depth=20, max_features=5, min_samples_leaf=10, splitter=random; total time=   0.0s\n",
      "[CV] END max_depth=20, max_features=6, min_samples_leaf=3, splitter=best; total time=   0.0s\n",
      "[CV] END max_depth=20, max_features=6, min_samples_leaf=3, splitter=best; total time=   0.0s\n",
      "[CV] END max_depth=20, max_features=6, min_samples_leaf=3, splitter=best; total time=   0.0s\n",
      "[CV] END max_depth=20, max_features=6, min_samples_leaf=3, splitter=best; total time=   0.0s\n",
      "[CV] END max_depth=20, max_features=6, min_samples_leaf=3, splitter=best; total time=   0.0s\n",
      "[CV] END max_depth=20, max_features=6, min_samples_leaf=3, splitter=random; total time=   0.0s\n",
      "[CV] END max_depth=20, max_features=6, min_samples_leaf=3, splitter=random; total time=   0.0s\n",
      "[CV] END max_depth=20, max_features=6, min_samples_leaf=3, splitter=random; total time=   0.0s\n",
      "[CV] END max_depth=20, max_features=6, min_samples_leaf=3, splitter=random; total time=   0.0s\n",
      "[CV] END max_depth=20, max_features=6, min_samples_leaf=3, splitter=random; total time=   0.0s\n",
      "[CV] END max_depth=20, max_features=6, min_samples_leaf=5, splitter=best; total time=   0.0s\n",
      "[CV] END max_depth=20, max_features=6, min_samples_leaf=5, splitter=best; total time=   0.0s\n",
      "[CV] END max_depth=20, max_features=6, min_samples_leaf=5, splitter=best; total time=   0.0s\n",
      "[CV] END max_depth=20, max_features=6, min_samples_leaf=5, splitter=best; total time=   0.0s\n",
      "[CV] END max_depth=20, max_features=6, min_samples_leaf=5, splitter=best; total time=   0.0s\n",
      "[CV] END max_depth=20, max_features=6, min_samples_leaf=5, splitter=random; total time=   0.0s\n",
      "[CV] END max_depth=20, max_features=6, min_samples_leaf=5, splitter=random; total time=   0.0s\n",
      "[CV] END max_depth=20, max_features=6, min_samples_leaf=5, splitter=random; total time=   0.0s\n",
      "[CV] END max_depth=20, max_features=6, min_samples_leaf=5, splitter=random; total time=   0.0s\n",
      "[CV] END max_depth=20, max_features=6, min_samples_leaf=5, splitter=random; total time=   0.0s\n",
      "[CV] END max_depth=20, max_features=6, min_samples_leaf=10, splitter=best; total time=   0.0s\n",
      "[CV] END max_depth=20, max_features=6, min_samples_leaf=10, splitter=best; total time=   0.0s\n",
      "[CV] END max_depth=20, max_features=6, min_samples_leaf=10, splitter=best; total time=   0.0s\n",
      "[CV] END max_depth=20, max_features=6, min_samples_leaf=10, splitter=best; total time=   0.0s\n",
      "[CV] END max_depth=20, max_features=6, min_samples_leaf=10, splitter=best; total time=   0.0s\n",
      "[CV] END max_depth=20, max_features=6, min_samples_leaf=10, splitter=random; total time=   0.0s\n",
      "[CV] END max_depth=20, max_features=6, min_samples_leaf=10, splitter=random; total time=   0.0s\n",
      "[CV] END max_depth=20, max_features=6, min_samples_leaf=10, splitter=random; total time=   0.0s\n",
      "[CV] END max_depth=20, max_features=6, min_samples_leaf=10, splitter=random; total time=   0.0s\n",
      "[CV] END max_depth=20, max_features=6, min_samples_leaf=10, splitter=random; total time=   0.0s\n"
     ]
    },
    {
     "data": {
      "text/html": [
       "<style>#sk-container-id-9 {color: black;background-color: white;}#sk-container-id-9 pre{padding: 0;}#sk-container-id-9 div.sk-toggleable {background-color: white;}#sk-container-id-9 label.sk-toggleable__label {cursor: pointer;display: block;width: 100%;margin-bottom: 0;padding: 0.3em;box-sizing: border-box;text-align: center;}#sk-container-id-9 label.sk-toggleable__label-arrow:before {content: \"▸\";float: left;margin-right: 0.25em;color: #696969;}#sk-container-id-9 label.sk-toggleable__label-arrow:hover:before {color: black;}#sk-container-id-9 div.sk-estimator:hover label.sk-toggleable__label-arrow:before {color: black;}#sk-container-id-9 div.sk-toggleable__content {max-height: 0;max-width: 0;overflow: hidden;text-align: left;background-color: #f0f8ff;}#sk-container-id-9 div.sk-toggleable__content pre {margin: 0.2em;color: black;border-radius: 0.25em;background-color: #f0f8ff;}#sk-container-id-9 input.sk-toggleable__control:checked~div.sk-toggleable__content {max-height: 200px;max-width: 100%;overflow: auto;}#sk-container-id-9 input.sk-toggleable__control:checked~label.sk-toggleable__label-arrow:before {content: \"▾\";}#sk-container-id-9 div.sk-estimator input.sk-toggleable__control:checked~label.sk-toggleable__label {background-color: #d4ebff;}#sk-container-id-9 div.sk-label input.sk-toggleable__control:checked~label.sk-toggleable__label {background-color: #d4ebff;}#sk-container-id-9 input.sk-hidden--visually {border: 0;clip: rect(1px 1px 1px 1px);clip: rect(1px, 1px, 1px, 1px);height: 1px;margin: -1px;overflow: hidden;padding: 0;position: absolute;width: 1px;}#sk-container-id-9 div.sk-estimator {font-family: monospace;background-color: #f0f8ff;border: 1px dotted black;border-radius: 0.25em;box-sizing: border-box;margin-bottom: 0.5em;}#sk-container-id-9 div.sk-estimator:hover {background-color: #d4ebff;}#sk-container-id-9 div.sk-parallel-item::after {content: \"\";width: 100%;border-bottom: 1px solid gray;flex-grow: 1;}#sk-container-id-9 div.sk-label:hover label.sk-toggleable__label {background-color: #d4ebff;}#sk-container-id-9 div.sk-serial::before {content: \"\";position: absolute;border-left: 1px solid gray;box-sizing: border-box;top: 0;bottom: 0;left: 50%;z-index: 0;}#sk-container-id-9 div.sk-serial {display: flex;flex-direction: column;align-items: center;background-color: white;padding-right: 0.2em;padding-left: 0.2em;position: relative;}#sk-container-id-9 div.sk-item {position: relative;z-index: 1;}#sk-container-id-9 div.sk-parallel {display: flex;align-items: stretch;justify-content: center;background-color: white;position: relative;}#sk-container-id-9 div.sk-item::before, #sk-container-id-9 div.sk-parallel-item::before {content: \"\";position: absolute;border-left: 1px solid gray;box-sizing: border-box;top: 0;bottom: 0;left: 50%;z-index: -1;}#sk-container-id-9 div.sk-parallel-item {display: flex;flex-direction: column;z-index: 1;position: relative;background-color: white;}#sk-container-id-9 div.sk-parallel-item:first-child::after {align-self: flex-end;width: 50%;}#sk-container-id-9 div.sk-parallel-item:last-child::after {align-self: flex-start;width: 50%;}#sk-container-id-9 div.sk-parallel-item:only-child::after {width: 0;}#sk-container-id-9 div.sk-dashed-wrapped {border: 1px dashed gray;margin: 0 0.4em 0.5em 0.4em;box-sizing: border-box;padding-bottom: 0.4em;background-color: white;}#sk-container-id-9 div.sk-label label {font-family: monospace;font-weight: bold;display: inline-block;line-height: 1.2em;}#sk-container-id-9 div.sk-label-container {text-align: center;}#sk-container-id-9 div.sk-container {/* jupyter's `normalize.less` sets `[hidden] { display: none; }` but bootstrap.min.css set `[hidden] { display: none !important; }` so we also need the `!important` here to be able to override the default hidden behavior on the sphinx rendered scikit-learn.org. See: https://github.com/scikit-learn/scikit-learn/issues/21755 */display: inline-block !important;position: relative;}#sk-container-id-9 div.sk-text-repr-fallback {display: none;}</style><div id=\"sk-container-id-9\" class=\"sk-top-container\"><div class=\"sk-text-repr-fallback\"><pre>GridSearchCV(estimator=SurvivalTree(),\n",
       "             param_grid={&#x27;max_depth&#x27;: [3, 5, 10, 15, 20],\n",
       "                         &#x27;max_features&#x27;: [1, 2, 3, 4, 5, 6],\n",
       "                         &#x27;min_samples_leaf&#x27;: [3, 5, 10],\n",
       "                         &#x27;splitter&#x27;: [&#x27;best&#x27;, &#x27;random&#x27;]},\n",
       "             verbose=2)</pre><b>In a Jupyter environment, please rerun this cell to show the HTML representation or trust the notebook. <br />On GitHub, the HTML representation is unable to render, please try loading this page with nbviewer.org.</b></div><div class=\"sk-container\" hidden><div class=\"sk-item sk-dashed-wrapped\"><div class=\"sk-label-container\"><div class=\"sk-label sk-toggleable\"><input class=\"sk-toggleable__control sk-hidden--visually\" id=\"sk-estimator-id-19\" type=\"checkbox\" ><label for=\"sk-estimator-id-19\" class=\"sk-toggleable__label sk-toggleable__label-arrow\">GridSearchCV</label><div class=\"sk-toggleable__content\"><pre>GridSearchCV(estimator=SurvivalTree(),\n",
       "             param_grid={&#x27;max_depth&#x27;: [3, 5, 10, 15, 20],\n",
       "                         &#x27;max_features&#x27;: [1, 2, 3, 4, 5, 6],\n",
       "                         &#x27;min_samples_leaf&#x27;: [3, 5, 10],\n",
       "                         &#x27;splitter&#x27;: [&#x27;best&#x27;, &#x27;random&#x27;]},\n",
       "             verbose=2)</pre></div></div></div><div class=\"sk-parallel\"><div class=\"sk-parallel-item\"><div class=\"sk-item\"><div class=\"sk-label-container\"><div class=\"sk-label sk-toggleable\"><input class=\"sk-toggleable__control sk-hidden--visually\" id=\"sk-estimator-id-20\" type=\"checkbox\" ><label for=\"sk-estimator-id-20\" class=\"sk-toggleable__label sk-toggleable__label-arrow\">estimator: SurvivalTree</label><div class=\"sk-toggleable__content\"><pre>SurvivalTree()</pre></div></div></div><div class=\"sk-serial\"><div class=\"sk-item\"><div class=\"sk-estimator sk-toggleable\"><input class=\"sk-toggleable__control sk-hidden--visually\" id=\"sk-estimator-id-21\" type=\"checkbox\" ><label for=\"sk-estimator-id-21\" class=\"sk-toggleable__label sk-toggleable__label-arrow\">SurvivalTree</label><div class=\"sk-toggleable__content\"><pre>SurvivalTree()</pre></div></div></div></div></div></div></div></div></div></div>"
      ],
      "text/plain": [
       "GridSearchCV(estimator=SurvivalTree(),\n",
       "             param_grid={'max_depth': [3, 5, 10, 15, 20],\n",
       "                         'max_features': [1, 2, 3, 4, 5, 6],\n",
       "                         'min_samples_leaf': [3, 5, 10],\n",
       "                         'splitter': ['best', 'random']},\n",
       "             verbose=2)"
      ]
     },
     "execution_count": 84,
     "metadata": {},
     "output_type": "execute_result"
    }
   ],
   "source": [
    "model_cv_tree.fit(X_train, y_train)"
   ]
  },
  {
   "cell_type": "code",
   "execution_count": 85,
   "metadata": {},
   "outputs": [
    {
     "data": {
      "text/plain": [
       "{'max_depth': 10, 'max_features': 4, 'min_samples_leaf': 5, 'splitter': 'best'}"
      ]
     },
     "execution_count": 85,
     "metadata": {},
     "output_type": "execute_result"
    }
   ],
   "source": [
    "model_cv_tree.best_params_"
   ]
  },
  {
   "cell_type": "code",
   "execution_count": 86,
   "metadata": {},
   "outputs": [
    {
     "data": {
      "text/plain": [
       "array([ 40.95      ,  41.0952381 ,   0.        ,   8.5       ,\n",
       "         0.        ,   8.5       ,   0.        ,  41.91666667,\n",
       "        64.88809524, 120.84047619,  60.15      ,  28.67261905,\n",
       "        28.67261905,   0.        , 120.84047619,   0.        ,\n",
       "         8.5       , 124.35      ,  41.91666667,   0.        ,\n",
       "        46.18571429,  46.18571429, 119.78333333,  73.33333333,\n",
       "        15.46666667,   0.        ,  73.33333333,  22.        ,\n",
       "        55.38333333,   0.        ,  41.91666667,   0.        ,\n",
       "        46.18571429,  15.46666667, 119.78333333,   0.        ,\n",
       "       120.84047619,  41.91666667,  41.91666667,  41.0952381 ,\n",
       "        55.38333333, 124.35      ,  28.67261905,  41.91666667,\n",
       "        41.91666667,  28.67261905,  41.91666667,  41.0952381 ,\n",
       "         0.        ,  61.05      ,   0.        ,  46.18571429,\n",
       "        55.38333333, 124.35      ,  73.33333333, 120.84047619,\n",
       "        28.67261905,   0.        ,  41.0952381 ,  22.        ,\n",
       "         0.        , 119.78333333,  41.91666667,  22.        ,\n",
       "        64.88809524, 120.84047619,  55.38333333,   0.        ,\n",
       "        41.91666667,  64.88809524,  55.38333333,   0.        ,\n",
       "       120.84047619])"
      ]
     },
     "execution_count": 86,
     "metadata": {},
     "output_type": "execute_result"
    }
   ],
   "source": [
    "model_cv_tree.predict(X_test)"
   ]
  },
  {
   "cell_type": "markdown",
   "metadata": {},
   "source": [
    "#### Score - Evaluación de las predicciones"
   ]
  },
  {
   "cell_type": "code",
   "execution_count": 87,
   "metadata": {},
   "outputs": [
    {
     "data": {
      "text/plain": [
       "0.8750828363154407"
      ]
     },
     "execution_count": 87,
     "metadata": {},
     "output_type": "execute_result"
    }
   ],
   "source": [
    "model_cv_tree.score(X_test, y_test)"
   ]
  },
  {
   "cell_type": "markdown",
   "metadata": {},
   "source": [
    "## 5. Random Forest Model"
   ]
  },
  {
   "cell_type": "markdown",
   "metadata": {},
   "source": [
    "#### Importación del modelo y selección de hyperparameters"
   ]
  },
  {
   "cell_type": "code",
   "execution_count": 88,
   "metadata": {},
   "outputs": [],
   "source": [
    "from sksurv.ensemble import RandomSurvivalForest"
   ]
  },
  {
   "cell_type": "code",
   "execution_count": 89,
   "metadata": {},
   "outputs": [],
   "source": [
    "model_rf = RandomSurvivalForest()"
   ]
  },
  {
   "cell_type": "code",
   "execution_count": 90,
   "metadata": {},
   "outputs": [
    {
     "data": {
      "text/plain": [
       "{'bootstrap': True,\n",
       " 'max_depth': None,\n",
       " 'max_features': 'sqrt',\n",
       " 'max_leaf_nodes': None,\n",
       " 'max_samples': None,\n",
       " 'min_samples_leaf': 3,\n",
       " 'min_samples_split': 6,\n",
       " 'min_weight_fraction_leaf': 0.0,\n",
       " 'n_estimators': 100,\n",
       " 'n_jobs': None,\n",
       " 'oob_score': False,\n",
       " 'random_state': None,\n",
       " 'verbose': 0,\n",
       " 'warm_start': False}"
      ]
     },
     "execution_count": 90,
     "metadata": {},
     "output_type": "execute_result"
    }
   ],
   "source": [
    "model_rf.get_params()"
   ]
  },
  {
   "cell_type": "markdown",
   "metadata": {},
   "source": [
    "#### Grid Search CV - Selección de los mejores parámetros"
   ]
  },
  {
   "cell_type": "code",
   "execution_count": 91,
   "metadata": {},
   "outputs": [],
   "source": [
    "model_cv_rf = GridSearchCV(\n",
    "    verbose = 2,\n",
    "    estimator = model_rf,\n",
    "    param_grid = {\n",
    "        \"n_estimators\": [50, 100, 200, 300],\n",
    "        'min_samples_leaf': [2, 3, 5, 10]\n",
    "    }\n",
    ")"
   ]
  },
  {
   "cell_type": "code",
   "execution_count": 92,
   "metadata": {},
   "outputs": [
    {
     "name": "stdout",
     "output_type": "stream",
     "text": [
      "Fitting 5 folds for each of 16 candidates, totalling 80 fits\n",
      "[CV] END ................min_samples_leaf=2, n_estimators=50; total time=   0.0s\n",
      "[CV] END ................min_samples_leaf=2, n_estimators=50; total time=   0.0s\n",
      "[CV] END ................min_samples_leaf=2, n_estimators=50; total time=   0.0s\n",
      "[CV] END ................min_samples_leaf=2, n_estimators=50; total time=   0.0s\n",
      "[CV] END ................min_samples_leaf=2, n_estimators=50; total time=   0.0s\n",
      "[CV] END ...............min_samples_leaf=2, n_estimators=100; total time=   0.0s\n"
     ]
    },
    {
     "name": "stdout",
     "output_type": "stream",
     "text": [
      "[CV] END ...............min_samples_leaf=2, n_estimators=100; total time=   0.0s\n",
      "[CV] END ...............min_samples_leaf=2, n_estimators=100; total time=   0.0s\n",
      "[CV] END ...............min_samples_leaf=2, n_estimators=100; total time=   0.0s\n",
      "[CV] END ...............min_samples_leaf=2, n_estimators=100; total time=   0.0s\n",
      "[CV] END ...............min_samples_leaf=2, n_estimators=200; total time=   0.1s\n",
      "[CV] END ...............min_samples_leaf=2, n_estimators=200; total time=   0.1s\n",
      "[CV] END ...............min_samples_leaf=2, n_estimators=200; total time=   0.2s\n",
      "[CV] END ...............min_samples_leaf=2, n_estimators=200; total time=   0.2s\n",
      "[CV] END ...............min_samples_leaf=2, n_estimators=200; total time=   0.2s\n",
      "[CV] END ...............min_samples_leaf=2, n_estimators=300; total time=   0.2s\n",
      "[CV] END ...............min_samples_leaf=2, n_estimators=300; total time=   0.2s\n",
      "[CV] END ...............min_samples_leaf=2, n_estimators=300; total time=   0.2s\n",
      "[CV] END ...............min_samples_leaf=2, n_estimators=300; total time=   0.2s\n",
      "[CV] END ...............min_samples_leaf=2, n_estimators=300; total time=   0.2s\n",
      "[CV] END ................min_samples_leaf=3, n_estimators=50; total time=   0.0s\n",
      "[CV] END ................min_samples_leaf=3, n_estimators=50; total time=   0.0s\n",
      "[CV] END ................min_samples_leaf=3, n_estimators=50; total time=   0.0s\n",
      "[CV] END ................min_samples_leaf=3, n_estimators=50; total time=   0.0s\n",
      "[CV] END ................min_samples_leaf=3, n_estimators=50; total time=   0.0s\n",
      "[CV] END ...............min_samples_leaf=3, n_estimators=100; total time=   0.0s\n",
      "[CV] END ...............min_samples_leaf=3, n_estimators=100; total time=   0.0s\n",
      "[CV] END ...............min_samples_leaf=3, n_estimators=100; total time=   0.0s\n",
      "[CV] END ...............min_samples_leaf=3, n_estimators=100; total time=   0.0s\n",
      "[CV] END ...............min_samples_leaf=3, n_estimators=100; total time=   0.0s\n",
      "[CV] END ...............min_samples_leaf=3, n_estimators=200; total time=   0.1s\n",
      "[CV] END ...............min_samples_leaf=3, n_estimators=200; total time=   0.1s\n",
      "[CV] END ...............min_samples_leaf=3, n_estimators=200; total time=   0.1s\n",
      "[CV] END ...............min_samples_leaf=3, n_estimators=200; total time=   0.1s\n",
      "[CV] END ...............min_samples_leaf=3, n_estimators=200; total time=   0.1s\n",
      "[CV] END ...............min_samples_leaf=3, n_estimators=300; total time=   0.2s\n",
      "[CV] END ...............min_samples_leaf=3, n_estimators=300; total time=   0.2s\n",
      "[CV] END ...............min_samples_leaf=3, n_estimators=300; total time=   0.2s\n",
      "[CV] END ...............min_samples_leaf=3, n_estimators=300; total time=   0.2s\n",
      "[CV] END ...............min_samples_leaf=3, n_estimators=300; total time=   0.2s\n",
      "[CV] END ................min_samples_leaf=5, n_estimators=50; total time=   0.0s\n",
      "[CV] END ................min_samples_leaf=5, n_estimators=50; total time=   0.0s\n",
      "[CV] END ................min_samples_leaf=5, n_estimators=50; total time=   0.0s\n",
      "[CV] END ................min_samples_leaf=5, n_estimators=50; total time=   0.0s\n",
      "[CV] END ................min_samples_leaf=5, n_estimators=50; total time=   0.0s\n",
      "[CV] END ...............min_samples_leaf=5, n_estimators=100; total time=   0.0s\n",
      "[CV] END ...............min_samples_leaf=5, n_estimators=100; total time=   0.0s\n",
      "[CV] END ...............min_samples_leaf=5, n_estimators=100; total time=   0.0s\n",
      "[CV] END ...............min_samples_leaf=5, n_estimators=100; total time=   0.0s\n",
      "[CV] END ...............min_samples_leaf=5, n_estimators=100; total time=   0.0s\n",
      "[CV] END ...............min_samples_leaf=5, n_estimators=200; total time=   0.1s\n",
      "[CV] END ...............min_samples_leaf=5, n_estimators=200; total time=   0.1s\n",
      "[CV] END ...............min_samples_leaf=5, n_estimators=200; total time=   0.1s\n",
      "[CV] END ...............min_samples_leaf=5, n_estimators=200; total time=   0.1s\n",
      "[CV] END ...............min_samples_leaf=5, n_estimators=200; total time=   0.1s\n",
      "[CV] END ...............min_samples_leaf=5, n_estimators=300; total time=   0.2s\n",
      "[CV] END ...............min_samples_leaf=5, n_estimators=300; total time=   0.2s\n",
      "[CV] END ...............min_samples_leaf=5, n_estimators=300; total time=   0.2s\n",
      "[CV] END ...............min_samples_leaf=5, n_estimators=300; total time=   0.2s\n",
      "[CV] END ...............min_samples_leaf=5, n_estimators=300; total time=   0.2s\n",
      "[CV] END ...............min_samples_leaf=10, n_estimators=50; total time=   0.0s\n",
      "[CV] END ...............min_samples_leaf=10, n_estimators=50; total time=   0.0s\n",
      "[CV] END ...............min_samples_leaf=10, n_estimators=50; total time=   0.0s\n",
      "[CV] END ...............min_samples_leaf=10, n_estimators=50; total time=   0.0s\n",
      "[CV] END ...............min_samples_leaf=10, n_estimators=50; total time=   0.0s\n",
      "[CV] END ..............min_samples_leaf=10, n_estimators=100; total time=   0.0s\n",
      "[CV] END ..............min_samples_leaf=10, n_estimators=100; total time=   0.0s\n",
      "[CV] END ..............min_samples_leaf=10, n_estimators=100; total time=   0.0s\n",
      "[CV] END ..............min_samples_leaf=10, n_estimators=100; total time=   0.0s\n",
      "[CV] END ..............min_samples_leaf=10, n_estimators=100; total time=   0.0s\n",
      "[CV] END ..............min_samples_leaf=10, n_estimators=200; total time=   0.1s\n",
      "[CV] END ..............min_samples_leaf=10, n_estimators=200; total time=   0.1s\n",
      "[CV] END ..............min_samples_leaf=10, n_estimators=200; total time=   0.1s\n",
      "[CV] END ..............min_samples_leaf=10, n_estimators=200; total time=   0.1s\n",
      "[CV] END ..............min_samples_leaf=10, n_estimators=200; total time=   0.1s\n",
      "[CV] END ..............min_samples_leaf=10, n_estimators=300; total time=   0.2s\n",
      "[CV] END ..............min_samples_leaf=10, n_estimators=300; total time=   0.2s\n",
      "[CV] END ..............min_samples_leaf=10, n_estimators=300; total time=   0.2s\n",
      "[CV] END ..............min_samples_leaf=10, n_estimators=300; total time=   0.2s\n",
      "[CV] END ..............min_samples_leaf=10, n_estimators=300; total time=   0.2s\n"
     ]
    },
    {
     "data": {
      "text/html": [
       "<style>#sk-container-id-10 {color: black;background-color: white;}#sk-container-id-10 pre{padding: 0;}#sk-container-id-10 div.sk-toggleable {background-color: white;}#sk-container-id-10 label.sk-toggleable__label {cursor: pointer;display: block;width: 100%;margin-bottom: 0;padding: 0.3em;box-sizing: border-box;text-align: center;}#sk-container-id-10 label.sk-toggleable__label-arrow:before {content: \"▸\";float: left;margin-right: 0.25em;color: #696969;}#sk-container-id-10 label.sk-toggleable__label-arrow:hover:before {color: black;}#sk-container-id-10 div.sk-estimator:hover label.sk-toggleable__label-arrow:before {color: black;}#sk-container-id-10 div.sk-toggleable__content {max-height: 0;max-width: 0;overflow: hidden;text-align: left;background-color: #f0f8ff;}#sk-container-id-10 div.sk-toggleable__content pre {margin: 0.2em;color: black;border-radius: 0.25em;background-color: #f0f8ff;}#sk-container-id-10 input.sk-toggleable__control:checked~div.sk-toggleable__content {max-height: 200px;max-width: 100%;overflow: auto;}#sk-container-id-10 input.sk-toggleable__control:checked~label.sk-toggleable__label-arrow:before {content: \"▾\";}#sk-container-id-10 div.sk-estimator input.sk-toggleable__control:checked~label.sk-toggleable__label {background-color: #d4ebff;}#sk-container-id-10 div.sk-label input.sk-toggleable__control:checked~label.sk-toggleable__label {background-color: #d4ebff;}#sk-container-id-10 input.sk-hidden--visually {border: 0;clip: rect(1px 1px 1px 1px);clip: rect(1px, 1px, 1px, 1px);height: 1px;margin: -1px;overflow: hidden;padding: 0;position: absolute;width: 1px;}#sk-container-id-10 div.sk-estimator {font-family: monospace;background-color: #f0f8ff;border: 1px dotted black;border-radius: 0.25em;box-sizing: border-box;margin-bottom: 0.5em;}#sk-container-id-10 div.sk-estimator:hover {background-color: #d4ebff;}#sk-container-id-10 div.sk-parallel-item::after {content: \"\";width: 100%;border-bottom: 1px solid gray;flex-grow: 1;}#sk-container-id-10 div.sk-label:hover label.sk-toggleable__label {background-color: #d4ebff;}#sk-container-id-10 div.sk-serial::before {content: \"\";position: absolute;border-left: 1px solid gray;box-sizing: border-box;top: 0;bottom: 0;left: 50%;z-index: 0;}#sk-container-id-10 div.sk-serial {display: flex;flex-direction: column;align-items: center;background-color: white;padding-right: 0.2em;padding-left: 0.2em;position: relative;}#sk-container-id-10 div.sk-item {position: relative;z-index: 1;}#sk-container-id-10 div.sk-parallel {display: flex;align-items: stretch;justify-content: center;background-color: white;position: relative;}#sk-container-id-10 div.sk-item::before, #sk-container-id-10 div.sk-parallel-item::before {content: \"\";position: absolute;border-left: 1px solid gray;box-sizing: border-box;top: 0;bottom: 0;left: 50%;z-index: -1;}#sk-container-id-10 div.sk-parallel-item {display: flex;flex-direction: column;z-index: 1;position: relative;background-color: white;}#sk-container-id-10 div.sk-parallel-item:first-child::after {align-self: flex-end;width: 50%;}#sk-container-id-10 div.sk-parallel-item:last-child::after {align-self: flex-start;width: 50%;}#sk-container-id-10 div.sk-parallel-item:only-child::after {width: 0;}#sk-container-id-10 div.sk-dashed-wrapped {border: 1px dashed gray;margin: 0 0.4em 0.5em 0.4em;box-sizing: border-box;padding-bottom: 0.4em;background-color: white;}#sk-container-id-10 div.sk-label label {font-family: monospace;font-weight: bold;display: inline-block;line-height: 1.2em;}#sk-container-id-10 div.sk-label-container {text-align: center;}#sk-container-id-10 div.sk-container {/* jupyter's `normalize.less` sets `[hidden] { display: none; }` but bootstrap.min.css set `[hidden] { display: none !important; }` so we also need the `!important` here to be able to override the default hidden behavior on the sphinx rendered scikit-learn.org. See: https://github.com/scikit-learn/scikit-learn/issues/21755 */display: inline-block !important;position: relative;}#sk-container-id-10 div.sk-text-repr-fallback {display: none;}</style><div id=\"sk-container-id-10\" class=\"sk-top-container\"><div class=\"sk-text-repr-fallback\"><pre>GridSearchCV(estimator=RandomSurvivalForest(),\n",
       "             param_grid={&#x27;min_samples_leaf&#x27;: [2, 3, 5, 10],\n",
       "                         &#x27;n_estimators&#x27;: [50, 100, 200, 300]},\n",
       "             verbose=2)</pre><b>In a Jupyter environment, please rerun this cell to show the HTML representation or trust the notebook. <br />On GitHub, the HTML representation is unable to render, please try loading this page with nbviewer.org.</b></div><div class=\"sk-container\" hidden><div class=\"sk-item sk-dashed-wrapped\"><div class=\"sk-label-container\"><div class=\"sk-label sk-toggleable\"><input class=\"sk-toggleable__control sk-hidden--visually\" id=\"sk-estimator-id-22\" type=\"checkbox\" ><label for=\"sk-estimator-id-22\" class=\"sk-toggleable__label sk-toggleable__label-arrow\">GridSearchCV</label><div class=\"sk-toggleable__content\"><pre>GridSearchCV(estimator=RandomSurvivalForest(),\n",
       "             param_grid={&#x27;min_samples_leaf&#x27;: [2, 3, 5, 10],\n",
       "                         &#x27;n_estimators&#x27;: [50, 100, 200, 300]},\n",
       "             verbose=2)</pre></div></div></div><div class=\"sk-parallel\"><div class=\"sk-parallel-item\"><div class=\"sk-item\"><div class=\"sk-label-container\"><div class=\"sk-label sk-toggleable\"><input class=\"sk-toggleable__control sk-hidden--visually\" id=\"sk-estimator-id-23\" type=\"checkbox\" ><label for=\"sk-estimator-id-23\" class=\"sk-toggleable__label sk-toggleable__label-arrow\">estimator: RandomSurvivalForest</label><div class=\"sk-toggleable__content\"><pre>RandomSurvivalForest()</pre></div></div></div><div class=\"sk-serial\"><div class=\"sk-item\"><div class=\"sk-estimator sk-toggleable\"><input class=\"sk-toggleable__control sk-hidden--visually\" id=\"sk-estimator-id-24\" type=\"checkbox\" ><label for=\"sk-estimator-id-24\" class=\"sk-toggleable__label sk-toggleable__label-arrow\">RandomSurvivalForest</label><div class=\"sk-toggleable__content\"><pre>RandomSurvivalForest()</pre></div></div></div></div></div></div></div></div></div></div>"
      ],
      "text/plain": [
       "GridSearchCV(estimator=RandomSurvivalForest(),\n",
       "             param_grid={'min_samples_leaf': [2, 3, 5, 10],\n",
       "                         'n_estimators': [50, 100, 200, 300]},\n",
       "             verbose=2)"
      ]
     },
     "execution_count": 92,
     "metadata": {},
     "output_type": "execute_result"
    }
   ],
   "source": [
    "model_cv_rf.fit(X_train, y_train)"
   ]
  },
  {
   "cell_type": "code",
   "execution_count": 93,
   "metadata": {},
   "outputs": [
    {
     "data": {
      "text/plain": [
       "{'min_samples_leaf': 2, 'n_estimators': 50}"
      ]
     },
     "execution_count": 93,
     "metadata": {},
     "output_type": "execute_result"
    }
   ],
   "source": [
    "model_cv_rf.best_params_"
   ]
  },
  {
   "cell_type": "markdown",
   "metadata": {},
   "source": [
    "#### Score - Evaluación de las predicciones"
   ]
  },
  {
   "cell_type": "code",
   "execution_count": 94,
   "metadata": {},
   "outputs": [
    {
     "data": {
      "text/plain": [
       "0.8906560636182903"
      ]
     },
     "execution_count": 94,
     "metadata": {},
     "output_type": "execute_result"
    }
   ],
   "source": [
    "model_cv_rf.score(X_test, y_test)"
   ]
  },
  {
   "cell_type": "markdown",
   "metadata": {},
   "source": [
    "## 6. Support Vector Machine"
   ]
  },
  {
   "cell_type": "markdown",
   "metadata": {},
   "source": [
    "#### Importación del modelo y selección de hyperparameters"
   ]
  },
  {
   "cell_type": "code",
   "execution_count": 95,
   "metadata": {},
   "outputs": [],
   "source": [
    "from sksurv.svm import FastSurvivalSVM"
   ]
  },
  {
   "cell_type": "code",
   "execution_count": 96,
   "metadata": {},
   "outputs": [],
   "source": [
    "model_svm = FastSurvivalSVM()"
   ]
  },
  {
   "cell_type": "code",
   "execution_count": 97,
   "metadata": {},
   "outputs": [
    {
     "data": {
      "text/plain": [
       "{'alpha': 1,\n",
       " 'fit_intercept': False,\n",
       " 'max_iter': 20,\n",
       " 'optimizer': None,\n",
       " 'random_state': None,\n",
       " 'rank_ratio': 1.0,\n",
       " 'timeit': False,\n",
       " 'tol': None,\n",
       " 'verbose': False}"
      ]
     },
     "execution_count": 97,
     "metadata": {},
     "output_type": "execute_result"
    }
   ],
   "source": [
    "model_svm.get_params()"
   ]
  },
  {
   "cell_type": "markdown",
   "metadata": {},
   "source": [
    "#### Grid Search CV - Selección de los mejores parámetros"
   ]
  },
  {
   "cell_type": "code",
   "execution_count": 98,
   "metadata": {},
   "outputs": [],
   "source": [
    "model_cv_svm = GridSearchCV(\n",
    "    verbose = 2,\n",
    "    estimator = model_svm,\n",
    "    param_grid = {\n",
    "        \"alpha\": [1, 2, 3],\n",
    "        \"max_iter\": [5, 10, 20, 40]\n",
    "    }\n",
    ")"
   ]
  },
  {
   "cell_type": "code",
   "execution_count": 99,
   "metadata": {},
   "outputs": [
    {
     "name": "stdout",
     "output_type": "stream",
     "text": [
      "Fitting 5 folds for each of 12 candidates, totalling 60 fits\n",
      "[CV] END ................................alpha=1, max_iter=5; total time=   0.0s\n",
      "[CV] END ................................alpha=1, max_iter=5; total time=   0.0s\n",
      "[CV] END ................................alpha=1, max_iter=5; total time=   0.0s\n",
      "[CV] END ................................alpha=1, max_iter=5; total time=   0.0s\n",
      "[CV] END ................................alpha=1, max_iter=5; total time=   0.0s\n",
      "[CV] END ...............................alpha=1, max_iter=10; total time=   0.0s\n",
      "[CV] END ...............................alpha=1, max_iter=10; total time=   0.0s\n",
      "[CV] END ...............................alpha=1, max_iter=10; total time=   0.0s\n"
     ]
    },
    {
     "name": "stderr",
     "output_type": "stream",
     "text": [
      "c:\\Users\\guill\\anaconda3\\envs\\ml\\Lib\\site-packages\\sklearn\\model_selection\\_validation.py:686: ConvergenceWarning: Optimization did not converge: Warning: Maximum number of iterations has been exceeded.\n",
      "  estimator.fit(X_train, y_train, **fit_params)\n",
      "c:\\Users\\guill\\anaconda3\\envs\\ml\\Lib\\site-packages\\sklearn\\model_selection\\_validation.py:686: ConvergenceWarning: Optimization did not converge: Warning: Maximum number of iterations has been exceeded.\n",
      "  estimator.fit(X_train, y_train, **fit_params)\n",
      "c:\\Users\\guill\\anaconda3\\envs\\ml\\Lib\\site-packages\\sklearn\\model_selection\\_validation.py:686: ConvergenceWarning: Optimization did not converge: Warning: Maximum number of iterations has been exceeded.\n",
      "  estimator.fit(X_train, y_train, **fit_params)\n",
      "c:\\Users\\guill\\anaconda3\\envs\\ml\\Lib\\site-packages\\sklearn\\model_selection\\_validation.py:686: ConvergenceWarning: Optimization did not converge: Warning: Maximum number of iterations has been exceeded.\n",
      "  estimator.fit(X_train, y_train, **fit_params)\n",
      "c:\\Users\\guill\\anaconda3\\envs\\ml\\Lib\\site-packages\\sklearn\\model_selection\\_validation.py:686: ConvergenceWarning: Optimization did not converge: Warning: Maximum number of iterations has been exceeded.\n",
      "  estimator.fit(X_train, y_train, **fit_params)\n",
      "c:\\Users\\guill\\anaconda3\\envs\\ml\\Lib\\site-packages\\sklearn\\model_selection\\_validation.py:686: ConvergenceWarning: Optimization did not converge: Warning: Maximum number of iterations has been exceeded.\n",
      "  estimator.fit(X_train, y_train, **fit_params)\n",
      "c:\\Users\\guill\\anaconda3\\envs\\ml\\Lib\\site-packages\\sklearn\\model_selection\\_validation.py:686: ConvergenceWarning: Optimization did not converge: Warning: Maximum number of iterations has been exceeded.\n",
      "  estimator.fit(X_train, y_train, **fit_params)\n",
      "c:\\Users\\guill\\anaconda3\\envs\\ml\\Lib\\site-packages\\sklearn\\model_selection\\_validation.py:686: ConvergenceWarning: Optimization did not converge: Warning: Maximum number of iterations has been exceeded.\n",
      "  estimator.fit(X_train, y_train, **fit_params)\n",
      "c:\\Users\\guill\\anaconda3\\envs\\ml\\Lib\\site-packages\\sklearn\\model_selection\\_validation.py:686: ConvergenceWarning: Optimization did not converge: Warning: Maximum number of iterations has been exceeded.\n",
      "  estimator.fit(X_train, y_train, **fit_params)\n",
      "c:\\Users\\guill\\anaconda3\\envs\\ml\\Lib\\site-packages\\sklearn\\model_selection\\_validation.py:686: ConvergenceWarning: Optimization did not converge: Warning: Maximum number of iterations has been exceeded.\n",
      "  estimator.fit(X_train, y_train, **fit_params)\n"
     ]
    },
    {
     "name": "stdout",
     "output_type": "stream",
     "text": [
      "[CV] END ...............................alpha=1, max_iter=10; total time=   0.0s\n",
      "[CV] END ...............................alpha=1, max_iter=10; total time=   0.0s\n",
      "[CV] END ...............................alpha=1, max_iter=20; total time=   0.0s\n",
      "[CV] END ...............................alpha=1, max_iter=20; total time=   0.0s\n",
      "[CV] END ...............................alpha=1, max_iter=20; total time=   0.0s\n"
     ]
    },
    {
     "name": "stdout",
     "output_type": "stream",
     "text": [
      "[CV] END ...............................alpha=1, max_iter=20; total time=   0.0s\n",
      "[CV] END ...............................alpha=1, max_iter=20; total time=   0.0s\n",
      "[CV] END ...............................alpha=1, max_iter=40; total time=   0.0s\n",
      "[CV] END ...............................alpha=1, max_iter=40; total time=   0.0s\n",
      "[CV] END ...............................alpha=1, max_iter=40; total time=   0.0s\n",
      "[CV] END ...............................alpha=1, max_iter=40; total time=   0.0s\n",
      "[CV] END ...............................alpha=1, max_iter=40; total time=   0.0s\n",
      "[CV] END ................................alpha=2, max_iter=5; total time=   0.0s\n",
      "[CV] END ................................alpha=2, max_iter=5; total time=   0.0s\n",
      "[CV] END ................................alpha=2, max_iter=5; total time=   0.0s\n",
      "[CV] END ................................alpha=2, max_iter=5; total time=   0.0s\n",
      "[CV] END ................................alpha=2, max_iter=5; total time=   0.0s\n",
      "[CV] END ...............................alpha=2, max_iter=10; total time=   0.0s\n"
     ]
    },
    {
     "name": "stderr",
     "output_type": "stream",
     "text": [
      "c:\\Users\\guill\\anaconda3\\envs\\ml\\Lib\\site-packages\\sklearn\\model_selection\\_validation.py:686: ConvergenceWarning: Optimization did not converge: Warning: Maximum number of iterations has been exceeded.\n",
      "  estimator.fit(X_train, y_train, **fit_params)\n",
      "c:\\Users\\guill\\anaconda3\\envs\\ml\\Lib\\site-packages\\sklearn\\model_selection\\_validation.py:686: ConvergenceWarning: Optimization did not converge: Warning: Maximum number of iterations has been exceeded.\n",
      "  estimator.fit(X_train, y_train, **fit_params)\n",
      "c:\\Users\\guill\\anaconda3\\envs\\ml\\Lib\\site-packages\\sklearn\\model_selection\\_validation.py:686: ConvergenceWarning: Optimization did not converge: Warning: Maximum number of iterations has been exceeded.\n",
      "  estimator.fit(X_train, y_train, **fit_params)\n",
      "c:\\Users\\guill\\anaconda3\\envs\\ml\\Lib\\site-packages\\sklearn\\model_selection\\_validation.py:686: ConvergenceWarning: Optimization did not converge: Warning: Maximum number of iterations has been exceeded.\n",
      "  estimator.fit(X_train, y_train, **fit_params)\n",
      "c:\\Users\\guill\\anaconda3\\envs\\ml\\Lib\\site-packages\\sklearn\\model_selection\\_validation.py:686: ConvergenceWarning: Optimization did not converge: Warning: Maximum number of iterations has been exceeded.\n",
      "  estimator.fit(X_train, y_train, **fit_params)\n",
      "c:\\Users\\guill\\anaconda3\\envs\\ml\\Lib\\site-packages\\sklearn\\model_selection\\_validation.py:686: ConvergenceWarning: Optimization did not converge: Warning: Maximum number of iterations has been exceeded.\n",
      "  estimator.fit(X_train, y_train, **fit_params)\n",
      "c:\\Users\\guill\\anaconda3\\envs\\ml\\Lib\\site-packages\\sklearn\\model_selection\\_validation.py:686: ConvergenceWarning: Optimization did not converge: Warning: Maximum number of iterations has been exceeded.\n",
      "  estimator.fit(X_train, y_train, **fit_params)\n",
      "c:\\Users\\guill\\anaconda3\\envs\\ml\\Lib\\site-packages\\sklearn\\model_selection\\_validation.py:686: ConvergenceWarning: Optimization did not converge: Warning: Maximum number of iterations has been exceeded.\n",
      "  estimator.fit(X_train, y_train, **fit_params)\n"
     ]
    },
    {
     "name": "stdout",
     "output_type": "stream",
     "text": [
      "[CV] END ...............................alpha=2, max_iter=10; total time=   0.0s\n",
      "[CV] END ...............................alpha=2, max_iter=10; total time=   0.0s\n",
      "[CV] END ...............................alpha=2, max_iter=10; total time=   0.0s\n",
      "[CV] END ...............................alpha=2, max_iter=10; total time=   0.0s\n",
      "[CV] END ...............................alpha=2, max_iter=20; total time=   0.0s\n",
      "[CV] END ...............................alpha=2, max_iter=20; total time=   0.0s\n"
     ]
    },
    {
     "name": "stderr",
     "output_type": "stream",
     "text": [
      "c:\\Users\\guill\\anaconda3\\envs\\ml\\Lib\\site-packages\\sklearn\\model_selection\\_validation.py:686: ConvergenceWarning: Optimization did not converge: Warning: Maximum number of iterations has been exceeded.\n",
      "  estimator.fit(X_train, y_train, **fit_params)\n"
     ]
    },
    {
     "name": "stdout",
     "output_type": "stream",
     "text": [
      "[CV] END ...............................alpha=2, max_iter=20; total time=   0.0s\n",
      "[CV] END ...............................alpha=2, max_iter=20; total time=   0.0s\n",
      "[CV] END ...............................alpha=2, max_iter=20; total time=   0.0s\n",
      "[CV] END ...............................alpha=2, max_iter=40; total time=   0.0s\n",
      "[CV] END ...............................alpha=2, max_iter=40; total time=   0.0s\n",
      "[CV] END ...............................alpha=2, max_iter=40; total time=   0.0s\n",
      "[CV] END ...............................alpha=2, max_iter=40; total time=   0.0s\n",
      "[CV] END ...............................alpha=2, max_iter=40; total time=   0.0s\n",
      "[CV] END ................................alpha=3, max_iter=5; total time=   0.0s\n",
      "[CV] END ................................alpha=3, max_iter=5; total time=   0.0s\n",
      "[CV] END ................................alpha=3, max_iter=5; total time=   0.0s\n",
      "[CV] END ................................alpha=3, max_iter=5; total time=   0.0s\n",
      "[CV] END ................................alpha=3, max_iter=5; total time=   0.0s\n",
      "[CV] END ...............................alpha=3, max_iter=10; total time=   0.0s\n",
      "[CV] END ...............................alpha=3, max_iter=10; total time=   0.0s\n",
      "[CV] END ...............................alpha=3, max_iter=10; total time=   0.0s\n"
     ]
    },
    {
     "name": "stderr",
     "output_type": "stream",
     "text": [
      "c:\\Users\\guill\\anaconda3\\envs\\ml\\Lib\\site-packages\\sklearn\\model_selection\\_validation.py:686: ConvergenceWarning: Optimization did not converge: Warning: Maximum number of iterations has been exceeded.\n",
      "  estimator.fit(X_train, y_train, **fit_params)\n",
      "c:\\Users\\guill\\anaconda3\\envs\\ml\\Lib\\site-packages\\sklearn\\model_selection\\_validation.py:686: ConvergenceWarning: Optimization did not converge: Warning: Maximum number of iterations has been exceeded.\n",
      "  estimator.fit(X_train, y_train, **fit_params)\n",
      "c:\\Users\\guill\\anaconda3\\envs\\ml\\Lib\\site-packages\\sklearn\\model_selection\\_validation.py:686: ConvergenceWarning: Optimization did not converge: Warning: Maximum number of iterations has been exceeded.\n",
      "  estimator.fit(X_train, y_train, **fit_params)\n",
      "c:\\Users\\guill\\anaconda3\\envs\\ml\\Lib\\site-packages\\sklearn\\model_selection\\_validation.py:686: ConvergenceWarning: Optimization did not converge: Warning: Maximum number of iterations has been exceeded.\n",
      "  estimator.fit(X_train, y_train, **fit_params)\n",
      "c:\\Users\\guill\\anaconda3\\envs\\ml\\Lib\\site-packages\\sklearn\\model_selection\\_validation.py:686: ConvergenceWarning: Optimization did not converge: Warning: Maximum number of iterations has been exceeded.\n",
      "  estimator.fit(X_train, y_train, **fit_params)\n",
      "c:\\Users\\guill\\anaconda3\\envs\\ml\\Lib\\site-packages\\sklearn\\model_selection\\_validation.py:686: ConvergenceWarning: Optimization did not converge: Warning: Maximum number of iterations has been exceeded.\n",
      "  estimator.fit(X_train, y_train, **fit_params)\n",
      "c:\\Users\\guill\\anaconda3\\envs\\ml\\Lib\\site-packages\\sklearn\\model_selection\\_validation.py:686: ConvergenceWarning: Optimization did not converge: Warning: Maximum number of iterations has been exceeded.\n",
      "  estimator.fit(X_train, y_train, **fit_params)\n",
      "c:\\Users\\guill\\anaconda3\\envs\\ml\\Lib\\site-packages\\sklearn\\model_selection\\_validation.py:686: ConvergenceWarning: Optimization did not converge: Warning: Maximum number of iterations has been exceeded.\n",
      "  estimator.fit(X_train, y_train, **fit_params)\n",
      "c:\\Users\\guill\\anaconda3\\envs\\ml\\Lib\\site-packages\\sklearn\\model_selection\\_validation.py:686: ConvergenceWarning: Optimization did not converge: Warning: Maximum number of iterations has been exceeded.\n",
      "  estimator.fit(X_train, y_train, **fit_params)\n"
     ]
    },
    {
     "name": "stdout",
     "output_type": "stream",
     "text": [
      "[CV] END ...............................alpha=3, max_iter=10; total time=   0.0s\n",
      "[CV] END ...............................alpha=3, max_iter=10; total time=   0.0s\n",
      "[CV] END ...............................alpha=3, max_iter=20; total time=   0.0s\n",
      "[CV] END ...............................alpha=3, max_iter=20; total time=   0.0s\n",
      "[CV] END ...............................alpha=3, max_iter=20; total time=   0.0s\n",
      "[CV] END ...............................alpha=3, max_iter=20; total time=   0.0s\n"
     ]
    },
    {
     "name": "stderr",
     "output_type": "stream",
     "text": [
      "c:\\Users\\guill\\anaconda3\\envs\\ml\\Lib\\site-packages\\sklearn\\model_selection\\_validation.py:686: ConvergenceWarning: Optimization did not converge: Warning: Maximum number of iterations has been exceeded.\n",
      "  estimator.fit(X_train, y_train, **fit_params)\n"
     ]
    },
    {
     "name": "stdout",
     "output_type": "stream",
     "text": [
      "[CV] END ...............................alpha=3, max_iter=20; total time=   0.0s\n",
      "[CV] END ...............................alpha=3, max_iter=40; total time=   0.0s\n",
      "[CV] END ...............................alpha=3, max_iter=40; total time=   0.0s\n",
      "[CV] END ...............................alpha=3, max_iter=40; total time=   0.0s\n",
      "[CV] END ...............................alpha=3, max_iter=40; total time=   0.0s\n",
      "[CV] END ...............................alpha=3, max_iter=40; total time=   0.0s\n"
     ]
    },
    {
     "data": {
      "text/html": [
       "<style>#sk-container-id-11 {color: black;background-color: white;}#sk-container-id-11 pre{padding: 0;}#sk-container-id-11 div.sk-toggleable {background-color: white;}#sk-container-id-11 label.sk-toggleable__label {cursor: pointer;display: block;width: 100%;margin-bottom: 0;padding: 0.3em;box-sizing: border-box;text-align: center;}#sk-container-id-11 label.sk-toggleable__label-arrow:before {content: \"▸\";float: left;margin-right: 0.25em;color: #696969;}#sk-container-id-11 label.sk-toggleable__label-arrow:hover:before {color: black;}#sk-container-id-11 div.sk-estimator:hover label.sk-toggleable__label-arrow:before {color: black;}#sk-container-id-11 div.sk-toggleable__content {max-height: 0;max-width: 0;overflow: hidden;text-align: left;background-color: #f0f8ff;}#sk-container-id-11 div.sk-toggleable__content pre {margin: 0.2em;color: black;border-radius: 0.25em;background-color: #f0f8ff;}#sk-container-id-11 input.sk-toggleable__control:checked~div.sk-toggleable__content {max-height: 200px;max-width: 100%;overflow: auto;}#sk-container-id-11 input.sk-toggleable__control:checked~label.sk-toggleable__label-arrow:before {content: \"▾\";}#sk-container-id-11 div.sk-estimator input.sk-toggleable__control:checked~label.sk-toggleable__label {background-color: #d4ebff;}#sk-container-id-11 div.sk-label input.sk-toggleable__control:checked~label.sk-toggleable__label {background-color: #d4ebff;}#sk-container-id-11 input.sk-hidden--visually {border: 0;clip: rect(1px 1px 1px 1px);clip: rect(1px, 1px, 1px, 1px);height: 1px;margin: -1px;overflow: hidden;padding: 0;position: absolute;width: 1px;}#sk-container-id-11 div.sk-estimator {font-family: monospace;background-color: #f0f8ff;border: 1px dotted black;border-radius: 0.25em;box-sizing: border-box;margin-bottom: 0.5em;}#sk-container-id-11 div.sk-estimator:hover {background-color: #d4ebff;}#sk-container-id-11 div.sk-parallel-item::after {content: \"\";width: 100%;border-bottom: 1px solid gray;flex-grow: 1;}#sk-container-id-11 div.sk-label:hover label.sk-toggleable__label {background-color: #d4ebff;}#sk-container-id-11 div.sk-serial::before {content: \"\";position: absolute;border-left: 1px solid gray;box-sizing: border-box;top: 0;bottom: 0;left: 50%;z-index: 0;}#sk-container-id-11 div.sk-serial {display: flex;flex-direction: column;align-items: center;background-color: white;padding-right: 0.2em;padding-left: 0.2em;position: relative;}#sk-container-id-11 div.sk-item {position: relative;z-index: 1;}#sk-container-id-11 div.sk-parallel {display: flex;align-items: stretch;justify-content: center;background-color: white;position: relative;}#sk-container-id-11 div.sk-item::before, #sk-container-id-11 div.sk-parallel-item::before {content: \"\";position: absolute;border-left: 1px solid gray;box-sizing: border-box;top: 0;bottom: 0;left: 50%;z-index: -1;}#sk-container-id-11 div.sk-parallel-item {display: flex;flex-direction: column;z-index: 1;position: relative;background-color: white;}#sk-container-id-11 div.sk-parallel-item:first-child::after {align-self: flex-end;width: 50%;}#sk-container-id-11 div.sk-parallel-item:last-child::after {align-self: flex-start;width: 50%;}#sk-container-id-11 div.sk-parallel-item:only-child::after {width: 0;}#sk-container-id-11 div.sk-dashed-wrapped {border: 1px dashed gray;margin: 0 0.4em 0.5em 0.4em;box-sizing: border-box;padding-bottom: 0.4em;background-color: white;}#sk-container-id-11 div.sk-label label {font-family: monospace;font-weight: bold;display: inline-block;line-height: 1.2em;}#sk-container-id-11 div.sk-label-container {text-align: center;}#sk-container-id-11 div.sk-container {/* jupyter's `normalize.less` sets `[hidden] { display: none; }` but bootstrap.min.css set `[hidden] { display: none !important; }` so we also need the `!important` here to be able to override the default hidden behavior on the sphinx rendered scikit-learn.org. See: https://github.com/scikit-learn/scikit-learn/issues/21755 */display: inline-block !important;position: relative;}#sk-container-id-11 div.sk-text-repr-fallback {display: none;}</style><div id=\"sk-container-id-11\" class=\"sk-top-container\"><div class=\"sk-text-repr-fallback\"><pre>GridSearchCV(estimator=FastSurvivalSVM(),\n",
       "             param_grid={&#x27;alpha&#x27;: [1, 2, 3], &#x27;max_iter&#x27;: [5, 10, 20, 40]},\n",
       "             verbose=2)</pre><b>In a Jupyter environment, please rerun this cell to show the HTML representation or trust the notebook. <br />On GitHub, the HTML representation is unable to render, please try loading this page with nbviewer.org.</b></div><div class=\"sk-container\" hidden><div class=\"sk-item sk-dashed-wrapped\"><div class=\"sk-label-container\"><div class=\"sk-label sk-toggleable\"><input class=\"sk-toggleable__control sk-hidden--visually\" id=\"sk-estimator-id-25\" type=\"checkbox\" ><label for=\"sk-estimator-id-25\" class=\"sk-toggleable__label sk-toggleable__label-arrow\">GridSearchCV</label><div class=\"sk-toggleable__content\"><pre>GridSearchCV(estimator=FastSurvivalSVM(),\n",
       "             param_grid={&#x27;alpha&#x27;: [1, 2, 3], &#x27;max_iter&#x27;: [5, 10, 20, 40]},\n",
       "             verbose=2)</pre></div></div></div><div class=\"sk-parallel\"><div class=\"sk-parallel-item\"><div class=\"sk-item\"><div class=\"sk-label-container\"><div class=\"sk-label sk-toggleable\"><input class=\"sk-toggleable__control sk-hidden--visually\" id=\"sk-estimator-id-26\" type=\"checkbox\" ><label for=\"sk-estimator-id-26\" class=\"sk-toggleable__label sk-toggleable__label-arrow\">estimator: FastSurvivalSVM</label><div class=\"sk-toggleable__content\"><pre>FastSurvivalSVM()</pre></div></div></div><div class=\"sk-serial\"><div class=\"sk-item\"><div class=\"sk-estimator sk-toggleable\"><input class=\"sk-toggleable__control sk-hidden--visually\" id=\"sk-estimator-id-27\" type=\"checkbox\" ><label for=\"sk-estimator-id-27\" class=\"sk-toggleable__label sk-toggleable__label-arrow\">FastSurvivalSVM</label><div class=\"sk-toggleable__content\"><pre>FastSurvivalSVM()</pre></div></div></div></div></div></div></div></div></div></div>"
      ],
      "text/plain": [
       "GridSearchCV(estimator=FastSurvivalSVM(),\n",
       "             param_grid={'alpha': [1, 2, 3], 'max_iter': [5, 10, 20, 40]},\n",
       "             verbose=2)"
      ]
     },
     "execution_count": 99,
     "metadata": {},
     "output_type": "execute_result"
    }
   ],
   "source": [
    "model_cv_svm.fit(X_train, y_train)"
   ]
  },
  {
   "cell_type": "markdown",
   "metadata": {},
   "source": [
    "#### Score - Evaluación de las predicciones"
   ]
  },
  {
   "cell_type": "code",
   "execution_count": 100,
   "metadata": {},
   "outputs": [
    {
     "data": {
      "text/plain": [
       "0.7461895294897283"
      ]
     },
     "execution_count": 100,
     "metadata": {},
     "output_type": "execute_result"
    }
   ],
   "source": [
    "model_cv_svm.score(X_test, y_test)"
   ]
  },
  {
   "cell_type": "markdown",
   "metadata": {},
   "source": [
    "## 7. Resultado de los modelos"
   ]
  },
  {
   "cell_type": "code",
   "execution_count": 101,
   "metadata": {},
   "outputs": [],
   "source": [
    "columnas = [\"Modelo\", \"Score\"]"
   ]
  },
  {
   "cell_type": "code",
   "execution_count": 102,
   "metadata": {},
   "outputs": [
    {
     "data": {
      "text/html": [
       "<style type=\"text/css\">\n",
       "#T_f0066_row0_col1 {\n",
       "  background-color: #f5eef6;\n",
       "  color: #000000;\n",
       "}\n",
       "#T_f0066_row1_col1 {\n",
       "  background-color: #045585;\n",
       "  color: #f1f1f1;\n",
       "}\n",
       "#T_f0066_row2_col1 {\n",
       "  background-color: #023858;\n",
       "  color: #f1f1f1;\n",
       "}\n",
       "#T_f0066_row3_col1 {\n",
       "  background-color: #fff7fb;\n",
       "  color: #000000;\n",
       "}\n",
       "</style>\n",
       "<table id=\"T_f0066\">\n",
       "  <thead>\n",
       "    <tr>\n",
       "      <th class=\"blank level0\" >&nbsp;</th>\n",
       "      <th id=\"T_f0066_level0_col0\" class=\"col_heading level0 col0\" >Modelos</th>\n",
       "      <th id=\"T_f0066_level0_col1\" class=\"col_heading level0 col1\" >Score</th>\n",
       "    </tr>\n",
       "  </thead>\n",
       "  <tbody>\n",
       "    <tr>\n",
       "      <th id=\"T_f0066_level0_row0\" class=\"row_heading level0 row0\" >0</th>\n",
       "      <td id=\"T_f0066_row0_col0\" class=\"data row0 col0\" >Cox PH</td>\n",
       "      <td id=\"T_f0066_row0_col1\" class=\"data row0 col1\" >0.756130</td>\n",
       "    </tr>\n",
       "    <tr>\n",
       "      <th id=\"T_f0066_level0_row1\" class=\"row_heading level0 row1\" >1</th>\n",
       "      <td id=\"T_f0066_row1_col0\" class=\"data row1 col0\" >Decision Tree</td>\n",
       "      <td id=\"T_f0066_row1_col1\" class=\"data row1 col1\" >0.875083</td>\n",
       "    </tr>\n",
       "    <tr>\n",
       "      <th id=\"T_f0066_level0_row2\" class=\"row_heading level0 row2\" >2</th>\n",
       "      <td id=\"T_f0066_row2_col0\" class=\"data row2 col0\" >Random Forest</td>\n",
       "      <td id=\"T_f0066_row2_col1\" class=\"data row2 col1\" >0.890656</td>\n",
       "    </tr>\n",
       "    <tr>\n",
       "      <th id=\"T_f0066_level0_row3\" class=\"row_heading level0 row3\" >3</th>\n",
       "      <td id=\"T_f0066_row3_col0\" class=\"data row3 col0\" >SVM</td>\n",
       "      <td id=\"T_f0066_row3_col1\" class=\"data row3 col1\" >0.746190</td>\n",
       "    </tr>\n",
       "  </tbody>\n",
       "</table>\n"
      ],
      "text/plain": [
       "<pandas.io.formats.style.Styler at 0x1ff7ddf2c50>"
      ]
     },
     "execution_count": 102,
     "metadata": {},
     "output_type": "execute_result"
    }
   ],
   "source": [
    "df_resultados = pd.DataFrame({\n",
    "    \"Modelos\": [\"Cox PH\", \"Decision Tree\", \"Random Forest\", \"SVM\"],\n",
    "    \"Score\": [model_cv_cox.score(X_test,y_test), model_cv_tree.score(X_test,y_test), model_cv_rf.score(X_test,y_test), model_cv_svm.score(X_test,y_test)]\n",
    "    }\n",
    "    )\n",
    "df_resultados.style.background_gradient()"
   ]
  },
  {
   "cell_type": "markdown",
   "metadata": {},
   "source": [
    "## 8. Métricas de Evaluación"
   ]
  },
  {
   "cell_type": "markdown",
   "metadata": {},
   "source": [
    "#### Indice de Concordancia (C-Index)  \n",
    "El C-index en el análisis de supervivencia es una medida que nos dice qué tan bueno es un modelo en predecir quién vivirá más tiempo. \n",
    "* Un valor más alto (cerca de 1) es mejor, indica que el modelo es preciso. \n",
    "* Un valor bajo (cerca de 0.5) significa que el modelo no es mejor que adivinar al azar.\n",
    "* El C-index te ayuda a saber si el modelo es bueno en ***ordenar a estos pacientes*** según cuánto tiempo viven. \n",
    "\n",
    "\n",
    "Cuando se habla de ***\"ordenar a estos pacientes\"*** significa que el modelo intenta poner a estos pacientes en una lista de manera que los que tienen una probabilidad más alta de vivir más tiempo estén al principio de la lista, y los que tienen una probabilidad más baja estén al final de la lista.\n",
    "\n",
    "El C-index evalúa qué tan bien este ordenamiento coincide con la realidad.\n",
    "* Un C-index alto significa que el modelo es bueno para poner a los pacientes en el orden correcto según su tiempo de supervivencia esperado. \n",
    "* Un C-index bajo significa que el modelo no es efectivo en esta tarea y no puede distinguir bien quién vivirá más tiempo y quién no."
   ]
  },
  {
   "cell_type": "markdown",
   "metadata": {},
   "source": [
    "----"
   ]
  },
  {
   "cell_type": "markdown",
   "metadata": {},
   "source": [
    "### Bosquejo de la APP"
   ]
  },
  {
   "cell_type": "markdown",
   "metadata": {},
   "source": [
    "Se creará una función la cual se alimentará con un diccionario.  \n",
    "El diccionario contendrá los datos ingresados por el usuario/doctor en la app (age, karnoofsky_score, months_from_diagnosis, etc).  \n",
    "Con esta información del diccionario, se calculará la probabilidad de muerte en un tiempo dado."
   ]
  },
  {
   "cell_type": "markdown",
   "metadata": {},
   "source": [
    "#### Cómo crear la función que tomará el diccionario y generará las predicciones"
   ]
  },
  {
   "cell_type": "code",
   "execution_count": 103,
   "metadata": {},
   "outputs": [],
   "source": [
    "dic_input = {\n",
    "    'age': 69.0,\n",
    "    'karnofsky_score': 60.0,\n",
    "    'months_from_diagnosis': 7.0,\n",
    "    'prior_therapy': 'No',\n",
    "    'treatment': 'Standard',\n",
    "    'celltype': 'Squamous'\n",
    "}"
   ]
  },
  {
   "cell_type": "code",
   "execution_count": 110,
   "metadata": {},
   "outputs": [],
   "source": [
    "import sys\n",
    "sys.path.append(\"..\")\n",
    "import data_utils"
   ]
  },
  {
   "cell_type": "code",
   "execution_count": 111,
   "metadata": {},
   "outputs": [
    {
     "data": {
      "text/html": [
       "<style>#sk-container-id-13 {color: black;background-color: white;}#sk-container-id-13 pre{padding: 0;}#sk-container-id-13 div.sk-toggleable {background-color: white;}#sk-container-id-13 label.sk-toggleable__label {cursor: pointer;display: block;width: 100%;margin-bottom: 0;padding: 0.3em;box-sizing: border-box;text-align: center;}#sk-container-id-13 label.sk-toggleable__label-arrow:before {content: \"▸\";float: left;margin-right: 0.25em;color: #696969;}#sk-container-id-13 label.sk-toggleable__label-arrow:hover:before {color: black;}#sk-container-id-13 div.sk-estimator:hover label.sk-toggleable__label-arrow:before {color: black;}#sk-container-id-13 div.sk-toggleable__content {max-height: 0;max-width: 0;overflow: hidden;text-align: left;background-color: #f0f8ff;}#sk-container-id-13 div.sk-toggleable__content pre {margin: 0.2em;color: black;border-radius: 0.25em;background-color: #f0f8ff;}#sk-container-id-13 input.sk-toggleable__control:checked~div.sk-toggleable__content {max-height: 200px;max-width: 100%;overflow: auto;}#sk-container-id-13 input.sk-toggleable__control:checked~label.sk-toggleable__label-arrow:before {content: \"▾\";}#sk-container-id-13 div.sk-estimator input.sk-toggleable__control:checked~label.sk-toggleable__label {background-color: #d4ebff;}#sk-container-id-13 div.sk-label input.sk-toggleable__control:checked~label.sk-toggleable__label {background-color: #d4ebff;}#sk-container-id-13 input.sk-hidden--visually {border: 0;clip: rect(1px 1px 1px 1px);clip: rect(1px, 1px, 1px, 1px);height: 1px;margin: -1px;overflow: hidden;padding: 0;position: absolute;width: 1px;}#sk-container-id-13 div.sk-estimator {font-family: monospace;background-color: #f0f8ff;border: 1px dotted black;border-radius: 0.25em;box-sizing: border-box;margin-bottom: 0.5em;}#sk-container-id-13 div.sk-estimator:hover {background-color: #d4ebff;}#sk-container-id-13 div.sk-parallel-item::after {content: \"\";width: 100%;border-bottom: 1px solid gray;flex-grow: 1;}#sk-container-id-13 div.sk-label:hover label.sk-toggleable__label {background-color: #d4ebff;}#sk-container-id-13 div.sk-serial::before {content: \"\";position: absolute;border-left: 1px solid gray;box-sizing: border-box;top: 0;bottom: 0;left: 50%;z-index: 0;}#sk-container-id-13 div.sk-serial {display: flex;flex-direction: column;align-items: center;background-color: white;padding-right: 0.2em;padding-left: 0.2em;position: relative;}#sk-container-id-13 div.sk-item {position: relative;z-index: 1;}#sk-container-id-13 div.sk-parallel {display: flex;align-items: stretch;justify-content: center;background-color: white;position: relative;}#sk-container-id-13 div.sk-item::before, #sk-container-id-13 div.sk-parallel-item::before {content: \"\";position: absolute;border-left: 1px solid gray;box-sizing: border-box;top: 0;bottom: 0;left: 50%;z-index: -1;}#sk-container-id-13 div.sk-parallel-item {display: flex;flex-direction: column;z-index: 1;position: relative;background-color: white;}#sk-container-id-13 div.sk-parallel-item:first-child::after {align-self: flex-end;width: 50%;}#sk-container-id-13 div.sk-parallel-item:last-child::after {align-self: flex-start;width: 50%;}#sk-container-id-13 div.sk-parallel-item:only-child::after {width: 0;}#sk-container-id-13 div.sk-dashed-wrapped {border: 1px dashed gray;margin: 0 0.4em 0.5em 0.4em;box-sizing: border-box;padding-bottom: 0.4em;background-color: white;}#sk-container-id-13 div.sk-label label {font-family: monospace;font-weight: bold;display: inline-block;line-height: 1.2em;}#sk-container-id-13 div.sk-label-container {text-align: center;}#sk-container-id-13 div.sk-container {/* jupyter's `normalize.less` sets `[hidden] { display: none; }` but bootstrap.min.css set `[hidden] { display: none !important; }` so we also need the `!important` here to be able to override the default hidden behavior on the sphinx rendered scikit-learn.org. See: https://github.com/scikit-learn/scikit-learn/issues/21755 */display: inline-block !important;position: relative;}#sk-container-id-13 div.sk-text-repr-fallback {display: none;}</style><div id=\"sk-container-id-13\" class=\"sk-top-container\"><div class=\"sk-text-repr-fallback\"><pre>RandomSurvivalForest(min_samples_leaf=2, n_estimators=50)</pre><b>In a Jupyter environment, please rerun this cell to show the HTML representation or trust the notebook. <br />On GitHub, the HTML representation is unable to render, please try loading this page with nbviewer.org.</b></div><div class=\"sk-container\" hidden><div class=\"sk-item\"><div class=\"sk-estimator sk-toggleable\"><input class=\"sk-toggleable__control sk-hidden--visually\" id=\"sk-estimator-id-29\" type=\"checkbox\" checked><label for=\"sk-estimator-id-29\" class=\"sk-toggleable__label sk-toggleable__label-arrow\">RandomSurvivalForest</label><div class=\"sk-toggleable__content\"><pre>RandomSurvivalForest(min_samples_leaf=2, n_estimators=50)</pre></div></div></div></div></div>"
      ],
      "text/plain": [
       "RandomSurvivalForest(min_samples_leaf=2, n_estimators=50)"
      ]
     },
     "execution_count": 111,
     "metadata": {},
     "output_type": "execute_result"
    }
   ],
   "source": [
    "model_cv_rf.best_estimator_"
   ]
  },
  {
   "cell_type": "code",
   "execution_count": 112,
   "metadata": {},
   "outputs": [],
   "source": [
    "model = model_cv_rf.best_estimator_"
   ]
  },
  {
   "cell_type": "code",
   "execution_count": 113,
   "metadata": {},
   "outputs": [
    {
     "data": {
      "text/plain": [
       "(47.53, 4.75)"
      ]
     },
     "execution_count": 113,
     "metadata": {},
     "output_type": "execute_result"
    }
   ],
   "source": [
    "data_utils.predict_survival_probability(dic_input, model, encoder)       # Se importa la función predict_survival_probability() del archivo data_utils.py"
   ]
  },
  {
   "cell_type": "markdown",
   "metadata": {},
   "source": [
    "#### La función Funciona!\n",
    "Se puede decir que una persona con las características del dic_input tiene una probabilidad de morir de 47.53% en 4,75 meses."
   ]
  },
  {
   "cell_type": "markdown",
   "metadata": {},
   "source": [
    "### Exportación del Mejor Modelo"
   ]
  },
  {
   "cell_type": "code",
   "execution_count": 114,
   "metadata": {},
   "outputs": [],
   "source": [
    "import pickle"
   ]
  },
  {
   "cell_type": "code",
   "execution_count": 115,
   "metadata": {},
   "outputs": [],
   "source": [
    "# Vamos a definir el file \"f\" que contiene el modelo\n",
    "f = open(\"../data/model.pkl\", \"wb\")             # parametros \"wb\": Write Binary Code, es decir, lo va a escribir\n",
    "pickle.dump(model, f)\n",
    "f.close()"
   ]
  },
  {
   "cell_type": "markdown",
   "metadata": {},
   "source": [
    "### Exportación del Encoder"
   ]
  },
  {
   "cell_type": "code",
   "execution_count": 116,
   "metadata": {},
   "outputs": [
    {
     "data": {
      "text/html": [
       "<style>#sk-container-id-14 {color: black;background-color: white;}#sk-container-id-14 pre{padding: 0;}#sk-container-id-14 div.sk-toggleable {background-color: white;}#sk-container-id-14 label.sk-toggleable__label {cursor: pointer;display: block;width: 100%;margin-bottom: 0;padding: 0.3em;box-sizing: border-box;text-align: center;}#sk-container-id-14 label.sk-toggleable__label-arrow:before {content: \"▸\";float: left;margin-right: 0.25em;color: #696969;}#sk-container-id-14 label.sk-toggleable__label-arrow:hover:before {color: black;}#sk-container-id-14 div.sk-estimator:hover label.sk-toggleable__label-arrow:before {color: black;}#sk-container-id-14 div.sk-toggleable__content {max-height: 0;max-width: 0;overflow: hidden;text-align: left;background-color: #f0f8ff;}#sk-container-id-14 div.sk-toggleable__content pre {margin: 0.2em;color: black;border-radius: 0.25em;background-color: #f0f8ff;}#sk-container-id-14 input.sk-toggleable__control:checked~div.sk-toggleable__content {max-height: 200px;max-width: 100%;overflow: auto;}#sk-container-id-14 input.sk-toggleable__control:checked~label.sk-toggleable__label-arrow:before {content: \"▾\";}#sk-container-id-14 div.sk-estimator input.sk-toggleable__control:checked~label.sk-toggleable__label {background-color: #d4ebff;}#sk-container-id-14 div.sk-label input.sk-toggleable__control:checked~label.sk-toggleable__label {background-color: #d4ebff;}#sk-container-id-14 input.sk-hidden--visually {border: 0;clip: rect(1px 1px 1px 1px);clip: rect(1px, 1px, 1px, 1px);height: 1px;margin: -1px;overflow: hidden;padding: 0;position: absolute;width: 1px;}#sk-container-id-14 div.sk-estimator {font-family: monospace;background-color: #f0f8ff;border: 1px dotted black;border-radius: 0.25em;box-sizing: border-box;margin-bottom: 0.5em;}#sk-container-id-14 div.sk-estimator:hover {background-color: #d4ebff;}#sk-container-id-14 div.sk-parallel-item::after {content: \"\";width: 100%;border-bottom: 1px solid gray;flex-grow: 1;}#sk-container-id-14 div.sk-label:hover label.sk-toggleable__label {background-color: #d4ebff;}#sk-container-id-14 div.sk-serial::before {content: \"\";position: absolute;border-left: 1px solid gray;box-sizing: border-box;top: 0;bottom: 0;left: 50%;z-index: 0;}#sk-container-id-14 div.sk-serial {display: flex;flex-direction: column;align-items: center;background-color: white;padding-right: 0.2em;padding-left: 0.2em;position: relative;}#sk-container-id-14 div.sk-item {position: relative;z-index: 1;}#sk-container-id-14 div.sk-parallel {display: flex;align-items: stretch;justify-content: center;background-color: white;position: relative;}#sk-container-id-14 div.sk-item::before, #sk-container-id-14 div.sk-parallel-item::before {content: \"\";position: absolute;border-left: 1px solid gray;box-sizing: border-box;top: 0;bottom: 0;left: 50%;z-index: -1;}#sk-container-id-14 div.sk-parallel-item {display: flex;flex-direction: column;z-index: 1;position: relative;background-color: white;}#sk-container-id-14 div.sk-parallel-item:first-child::after {align-self: flex-end;width: 50%;}#sk-container-id-14 div.sk-parallel-item:last-child::after {align-self: flex-start;width: 50%;}#sk-container-id-14 div.sk-parallel-item:only-child::after {width: 0;}#sk-container-id-14 div.sk-dashed-wrapped {border: 1px dashed gray;margin: 0 0.4em 0.5em 0.4em;box-sizing: border-box;padding-bottom: 0.4em;background-color: white;}#sk-container-id-14 div.sk-label label {font-family: monospace;font-weight: bold;display: inline-block;line-height: 1.2em;}#sk-container-id-14 div.sk-label-container {text-align: center;}#sk-container-id-14 div.sk-container {/* jupyter's `normalize.less` sets `[hidden] { display: none; }` but bootstrap.min.css set `[hidden] { display: none !important; }` so we also need the `!important` here to be able to override the default hidden behavior on the sphinx rendered scikit-learn.org. See: https://github.com/scikit-learn/scikit-learn/issues/21755 */display: inline-block !important;position: relative;}#sk-container-id-14 div.sk-text-repr-fallback {display: none;}</style><div id=\"sk-container-id-14\" class=\"sk-top-container\"><div class=\"sk-text-repr-fallback\"><pre>OneHotEncoder()</pre><b>In a Jupyter environment, please rerun this cell to show the HTML representation or trust the notebook. <br />On GitHub, the HTML representation is unable to render, please try loading this page with nbviewer.org.</b></div><div class=\"sk-container\" hidden><div class=\"sk-item\"><div class=\"sk-estimator sk-toggleable\"><input class=\"sk-toggleable__control sk-hidden--visually\" id=\"sk-estimator-id-30\" type=\"checkbox\" checked><label for=\"sk-estimator-id-30\" class=\"sk-toggleable__label sk-toggleable__label-arrow\">OneHotEncoder</label><div class=\"sk-toggleable__content\"><pre>OneHotEncoder()</pre></div></div></div></div></div>"
      ],
      "text/plain": [
       "OneHotEncoder()"
      ]
     },
     "execution_count": 116,
     "metadata": {},
     "output_type": "execute_result"
    }
   ],
   "source": [
    "encoder"
   ]
  },
  {
   "cell_type": "code",
   "execution_count": 118,
   "metadata": {},
   "outputs": [],
   "source": [
    "f = open(\"../data/encoder.pkl\", \"wb\")\n",
    "pickle.dump(encoder, f)\n",
    "f.close()"
   ]
  }
 ],
 "metadata": {
  "kernelspec": {
   "display_name": "ml",
   "language": "python",
   "name": "python3"
  },
  "language_info": {
   "codemirror_mode": {
    "name": "ipython",
    "version": 3
   },
   "file_extension": ".py",
   "mimetype": "text/x-python",
   "name": "python",
   "nbconvert_exporter": "python",
   "pygments_lexer": "ipython3",
   "version": "3.11.5"
  },
  "orig_nbformat": 4
 },
 "nbformat": 4,
 "nbformat_minor": 2
}

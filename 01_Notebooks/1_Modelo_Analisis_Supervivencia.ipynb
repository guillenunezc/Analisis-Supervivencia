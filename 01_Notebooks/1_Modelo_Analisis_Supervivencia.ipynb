{
 "cells": [
  {
   "cell_type": "markdown",
   "metadata": {},
   "source": [
    "# Sistema de Modelado y Análisis de Supervivencia (médica)"
   ]
  },
  {
   "cell_type": "markdown",
   "metadata": {},
   "source": [
    "En este notebook se detalla un sistema o secuencia de pasos a seguir que se pueden aplicar a cualquier modelo de Machine Learning que involucren problemas de tipo ***supervivencia***."
   ]
  },
  {
   "cell_type": "markdown",
   "metadata": {},
   "source": [
    "## 1. Dataset\n",
    "* Cada fila representa a un paciente.\n",
    "* El objetivo es predecir el riesgo (**risk**) de que un paciente muera\n",
    "    * Esto se determina en la columna **event**.\n",
    "---\n",
    "En los análisis de supervivencia tenemos:\n",
    "* Los targets:\n",
    "    * **event**: True/False (muere/no muere).\n",
    "    * **time**: El tiempo cuando el evento ocurre.\n",
    "* Explanatory variables:\n",
    "    * El resto de variables (age, prior_therapy, etc)\n",
    "\n",
    "Por lo cual la formula de la ecuación matemática del modelo será:\n",
    "$$\n",
    "risk = (w_0) + (w_1) \\cdot age + (w_2) \\cdot prior\\_therapy\n",
    "$$\n",
    "\n",
    "Con los modelos de Machine Learning, se busca encontrar los mejores valores (optimización) para los pesos ***w1*** y ***w2*** de la ecuación anterior, para finalmente calcular el **risk** asociado."
   ]
  },
  {
   "cell_type": "code",
   "execution_count": 1,
   "metadata": {},
   "outputs": [
    {
     "data": {
      "text/html": [
       "<div>\n",
       "<style scoped>\n",
       "    .dataframe tbody tr th:only-of-type {\n",
       "        vertical-align: middle;\n",
       "    }\n",
       "\n",
       "    .dataframe tbody tr th {\n",
       "        vertical-align: top;\n",
       "    }\n",
       "\n",
       "    .dataframe thead th {\n",
       "        text-align: right;\n",
       "    }\n",
       "</style>\n",
       "<table border=\"1\" class=\"dataframe\">\n",
       "  <thead>\n",
       "    <tr style=\"text-align: right;\">\n",
       "      <th></th>\n",
       "      <th>event</th>\n",
       "      <th>time</th>\n",
       "      <th>age</th>\n",
       "      <th>karnofsky_score</th>\n",
       "      <th>months_from_diagnosis</th>\n",
       "      <th>prior_therapy</th>\n",
       "      <th>treatment</th>\n",
       "      <th>celltype</th>\n",
       "    </tr>\n",
       "  </thead>\n",
       "  <tbody>\n",
       "    <tr>\n",
       "      <th>0</th>\n",
       "      <td>True</td>\n",
       "      <td>2.373626</td>\n",
       "      <td>69.000000</td>\n",
       "      <td>60.000000</td>\n",
       "      <td>7.000000</td>\n",
       "      <td>No</td>\n",
       "      <td>Standard</td>\n",
       "      <td>Squamous</td>\n",
       "    </tr>\n",
       "    <tr>\n",
       "      <th>1</th>\n",
       "      <td>True</td>\n",
       "      <td>7.516484</td>\n",
       "      <td>38.000000</td>\n",
       "      <td>60.000000</td>\n",
       "      <td>3.000000</td>\n",
       "      <td>No</td>\n",
       "      <td>Standard</td>\n",
       "      <td>Squamous</td>\n",
       "    </tr>\n",
       "    <tr>\n",
       "      <th>2</th>\n",
       "      <td>True</td>\n",
       "      <td>4.153846</td>\n",
       "      <td>63.000000</td>\n",
       "      <td>60.000000</td>\n",
       "      <td>9.000000</td>\n",
       "      <td>Yes</td>\n",
       "      <td>Standard</td>\n",
       "      <td>Squamous</td>\n",
       "    </tr>\n",
       "    <tr>\n",
       "      <th>3</th>\n",
       "      <td>True</td>\n",
       "      <td>3.890110</td>\n",
       "      <td>65.000000</td>\n",
       "      <td>70.000000</td>\n",
       "      <td>11.000000</td>\n",
       "      <td>Yes</td>\n",
       "      <td>Standard</td>\n",
       "      <td>Squamous</td>\n",
       "    </tr>\n",
       "    <tr>\n",
       "      <th>4</th>\n",
       "      <td>True</td>\n",
       "      <td>0.329670</td>\n",
       "      <td>49.000000</td>\n",
       "      <td>20.000000</td>\n",
       "      <td>5.000000</td>\n",
       "      <td>No</td>\n",
       "      <td>Standard</td>\n",
       "      <td>Squamous</td>\n",
       "    </tr>\n",
       "    <tr>\n",
       "      <th>...</th>\n",
       "      <td>...</td>\n",
       "      <td>...</td>\n",
       "      <td>...</td>\n",
       "      <td>...</td>\n",
       "      <td>...</td>\n",
       "      <td>...</td>\n",
       "      <td>...</td>\n",
       "      <td>...</td>\n",
       "    </tr>\n",
       "    <tr>\n",
       "      <th>238</th>\n",
       "      <td>False</td>\n",
       "      <td>3.142881</td>\n",
       "      <td>65.810046</td>\n",
       "      <td>64.640822</td>\n",
       "      <td>4.762009</td>\n",
       "      <td>No</td>\n",
       "      <td>Standard</td>\n",
       "      <td>Smallcell</td>\n",
       "    </tr>\n",
       "    <tr>\n",
       "      <th>239</th>\n",
       "      <td>False</td>\n",
       "      <td>3.380047</td>\n",
       "      <td>36.495508</td>\n",
       "      <td>70.684273</td>\n",
       "      <td>21.551683</td>\n",
       "      <td>Yes</td>\n",
       "      <td>Test</td>\n",
       "      <td>Smallcell</td>\n",
       "    </tr>\n",
       "    <tr>\n",
       "      <th>240</th>\n",
       "      <td>False</td>\n",
       "      <td>3.082424</td>\n",
       "      <td>65.029553</td>\n",
       "      <td>81.087920</td>\n",
       "      <td>4.852974</td>\n",
       "      <td>No</td>\n",
       "      <td>Standard</td>\n",
       "      <td>Squamous</td>\n",
       "    </tr>\n",
       "    <tr>\n",
       "      <th>241</th>\n",
       "      <td>False</td>\n",
       "      <td>2.986648</td>\n",
       "      <td>62.424988</td>\n",
       "      <td>77.842548</td>\n",
       "      <td>4.084998</td>\n",
       "      <td>No</td>\n",
       "      <td>Standard</td>\n",
       "      <td>Smallcell</td>\n",
       "    </tr>\n",
       "    <tr>\n",
       "      <th>242</th>\n",
       "      <td>False</td>\n",
       "      <td>3.215223</td>\n",
       "      <td>68.109977</td>\n",
       "      <td>74.216206</td>\n",
       "      <td>5.563841</td>\n",
       "      <td>No</td>\n",
       "      <td>Standard</td>\n",
       "      <td>Squamous</td>\n",
       "    </tr>\n",
       "  </tbody>\n",
       "</table>\n",
       "<p>243 rows × 8 columns</p>\n",
       "</div>"
      ],
      "text/plain": [
       "     event      time        age  karnofsky_score  months_from_diagnosis  \\\n",
       "0     True  2.373626  69.000000        60.000000               7.000000   \n",
       "1     True  7.516484  38.000000        60.000000               3.000000   \n",
       "2     True  4.153846  63.000000        60.000000               9.000000   \n",
       "3     True  3.890110  65.000000        70.000000              11.000000   \n",
       "4     True  0.329670  49.000000        20.000000               5.000000   \n",
       "..     ...       ...        ...              ...                    ...   \n",
       "238  False  3.142881  65.810046        64.640822               4.762009   \n",
       "239  False  3.380047  36.495508        70.684273              21.551683   \n",
       "240  False  3.082424  65.029553        81.087920               4.852974   \n",
       "241  False  2.986648  62.424988        77.842548               4.084998   \n",
       "242  False  3.215223  68.109977        74.216206               5.563841   \n",
       "\n",
       "    prior_therapy treatment   celltype  \n",
       "0              No  Standard   Squamous  \n",
       "1              No  Standard   Squamous  \n",
       "2             Yes  Standard   Squamous  \n",
       "3             Yes  Standard   Squamous  \n",
       "4              No  Standard   Squamous  \n",
       "..            ...       ...        ...  \n",
       "238            No  Standard  Smallcell  \n",
       "239           Yes      Test  Smallcell  \n",
       "240            No  Standard   Squamous  \n",
       "241            No  Standard  Smallcell  \n",
       "242            No  Standard   Squamous  \n",
       "\n",
       "[243 rows x 8 columns]"
      ]
     },
     "execution_count": 1,
     "metadata": {},
     "output_type": "execute_result"
    }
   ],
   "source": [
    "import pandas as pd\n",
    "\n",
    "df_patients = pd.read_excel(\"../data/data_lung_cancer_smote.xlsx\")\n",
    "list_columns_categorical = df_patients.select_dtypes(include=\"object\").columns\n",
    "df_patients[list_columns_categorical] = df_patients[list_columns_categorical].astype(\"category\")        # Transformación Object a Category. Paso importante para que OneHotEncoder() reconozca las variables categóricas y las transforme.\n",
    "df_patients"
   ]
  },
  {
   "cell_type": "markdown",
   "metadata": {},
   "source": [
    "## 2. Feature Selection\n",
    "\n",
    "Selección de las variables a utilizar en el modelo:\n",
    "* `y (target)`: **event** y **time**\n",
    "    * Para que estas variables puedan ser procesadas por el modelo, deben transformarse a otra estructura de datos (*numpy records array*). Esto se hace con *.to_records()*\n",
    "* `x (explanatory)`: Variables relevantes para calcular el riesgo de un paciente."
   ]
  },
  {
   "cell_type": "markdown",
   "metadata": {},
   "source": [
    "### 2.1 Preprocessing Data\n",
    "\n",
    "1. Revisar **NaN**: Eliminarlos del dataset\n",
    "2. Transformar los datos categóricos de las variables Exploratory (X) a numéricos con **OneHotEncoder()**\n",
    "    * La variable target (y) no necesita transformación de categóricos a numéricos ya que cuando se aplica el algoritmo de ML con .fit() este hace la transformación de forma automática."
   ]
  },
  {
   "cell_type": "code",
   "execution_count": 2,
   "metadata": {},
   "outputs": [
    {
     "data": {
      "text/plain": [
       "event                    0\n",
       "time                     0\n",
       "age                      0\n",
       "karnofsky_score          0\n",
       "months_from_diagnosis    0\n",
       "prior_therapy            0\n",
       "treatment                0\n",
       "celltype                 0\n",
       "dtype: int64"
      ]
     },
     "execution_count": 2,
     "metadata": {},
     "output_type": "execute_result"
    }
   ],
   "source": [
    "df_patients.isna().sum()"
   ]
  },
  {
   "cell_type": "code",
   "execution_count": 3,
   "metadata": {},
   "outputs": [],
   "source": [
    "y = df_patients[[\"event\", \"time\"]].to_records(index=False)"
   ]
  },
  {
   "cell_type": "code",
   "execution_count": 4,
   "metadata": {},
   "outputs": [
    {
     "data": {
      "text/html": [
       "<div>\n",
       "<style scoped>\n",
       "    .dataframe tbody tr th:only-of-type {\n",
       "        vertical-align: middle;\n",
       "    }\n",
       "\n",
       "    .dataframe tbody tr th {\n",
       "        vertical-align: top;\n",
       "    }\n",
       "\n",
       "    .dataframe thead th {\n",
       "        text-align: right;\n",
       "    }\n",
       "</style>\n",
       "<table border=\"1\" class=\"dataframe\">\n",
       "  <thead>\n",
       "    <tr style=\"text-align: right;\">\n",
       "      <th></th>\n",
       "      <th>age</th>\n",
       "      <th>karnofsky_score</th>\n",
       "      <th>months_from_diagnosis</th>\n",
       "      <th>prior_therapy</th>\n",
       "      <th>treatment</th>\n",
       "      <th>celltype</th>\n",
       "    </tr>\n",
       "  </thead>\n",
       "  <tbody>\n",
       "    <tr>\n",
       "      <th>0</th>\n",
       "      <td>69.000000</td>\n",
       "      <td>60.000000</td>\n",
       "      <td>7.000000</td>\n",
       "      <td>No</td>\n",
       "      <td>Standard</td>\n",
       "      <td>Squamous</td>\n",
       "    </tr>\n",
       "    <tr>\n",
       "      <th>1</th>\n",
       "      <td>38.000000</td>\n",
       "      <td>60.000000</td>\n",
       "      <td>3.000000</td>\n",
       "      <td>No</td>\n",
       "      <td>Standard</td>\n",
       "      <td>Squamous</td>\n",
       "    </tr>\n",
       "    <tr>\n",
       "      <th>2</th>\n",
       "      <td>63.000000</td>\n",
       "      <td>60.000000</td>\n",
       "      <td>9.000000</td>\n",
       "      <td>Yes</td>\n",
       "      <td>Standard</td>\n",
       "      <td>Squamous</td>\n",
       "    </tr>\n",
       "    <tr>\n",
       "      <th>3</th>\n",
       "      <td>65.000000</td>\n",
       "      <td>70.000000</td>\n",
       "      <td>11.000000</td>\n",
       "      <td>Yes</td>\n",
       "      <td>Standard</td>\n",
       "      <td>Squamous</td>\n",
       "    </tr>\n",
       "    <tr>\n",
       "      <th>4</th>\n",
       "      <td>49.000000</td>\n",
       "      <td>20.000000</td>\n",
       "      <td>5.000000</td>\n",
       "      <td>No</td>\n",
       "      <td>Standard</td>\n",
       "      <td>Squamous</td>\n",
       "    </tr>\n",
       "    <tr>\n",
       "      <th>...</th>\n",
       "      <td>...</td>\n",
       "      <td>...</td>\n",
       "      <td>...</td>\n",
       "      <td>...</td>\n",
       "      <td>...</td>\n",
       "      <td>...</td>\n",
       "    </tr>\n",
       "    <tr>\n",
       "      <th>238</th>\n",
       "      <td>65.810046</td>\n",
       "      <td>64.640822</td>\n",
       "      <td>4.762009</td>\n",
       "      <td>No</td>\n",
       "      <td>Standard</td>\n",
       "      <td>Smallcell</td>\n",
       "    </tr>\n",
       "    <tr>\n",
       "      <th>239</th>\n",
       "      <td>36.495508</td>\n",
       "      <td>70.684273</td>\n",
       "      <td>21.551683</td>\n",
       "      <td>Yes</td>\n",
       "      <td>Test</td>\n",
       "      <td>Smallcell</td>\n",
       "    </tr>\n",
       "    <tr>\n",
       "      <th>240</th>\n",
       "      <td>65.029553</td>\n",
       "      <td>81.087920</td>\n",
       "      <td>4.852974</td>\n",
       "      <td>No</td>\n",
       "      <td>Standard</td>\n",
       "      <td>Squamous</td>\n",
       "    </tr>\n",
       "    <tr>\n",
       "      <th>241</th>\n",
       "      <td>62.424988</td>\n",
       "      <td>77.842548</td>\n",
       "      <td>4.084998</td>\n",
       "      <td>No</td>\n",
       "      <td>Standard</td>\n",
       "      <td>Smallcell</td>\n",
       "    </tr>\n",
       "    <tr>\n",
       "      <th>242</th>\n",
       "      <td>68.109977</td>\n",
       "      <td>74.216206</td>\n",
       "      <td>5.563841</td>\n",
       "      <td>No</td>\n",
       "      <td>Standard</td>\n",
       "      <td>Squamous</td>\n",
       "    </tr>\n",
       "  </tbody>\n",
       "</table>\n",
       "<p>243 rows × 6 columns</p>\n",
       "</div>"
      ],
      "text/plain": [
       "           age  karnofsky_score  months_from_diagnosis prior_therapy  \\\n",
       "0    69.000000        60.000000               7.000000            No   \n",
       "1    38.000000        60.000000               3.000000            No   \n",
       "2    63.000000        60.000000               9.000000           Yes   \n",
       "3    65.000000        70.000000              11.000000           Yes   \n",
       "4    49.000000        20.000000               5.000000            No   \n",
       "..         ...              ...                    ...           ...   \n",
       "238  65.810046        64.640822               4.762009            No   \n",
       "239  36.495508        70.684273              21.551683           Yes   \n",
       "240  65.029553        81.087920               4.852974            No   \n",
       "241  62.424988        77.842548               4.084998            No   \n",
       "242  68.109977        74.216206               5.563841            No   \n",
       "\n",
       "    treatment   celltype  \n",
       "0    Standard   Squamous  \n",
       "1    Standard   Squamous  \n",
       "2    Standard   Squamous  \n",
       "3    Standard   Squamous  \n",
       "4    Standard   Squamous  \n",
       "..        ...        ...  \n",
       "238  Standard  Smallcell  \n",
       "239      Test  Smallcell  \n",
       "240  Standard   Squamous  \n",
       "241  Standard  Smallcell  \n",
       "242  Standard   Squamous  \n",
       "\n",
       "[243 rows x 6 columns]"
      ]
     },
     "execution_count": 4,
     "metadata": {},
     "output_type": "execute_result"
    }
   ],
   "source": [
    "X = df_patients.drop([\"event\", \"time\"], axis=1)\n",
    "X"
   ]
  },
  {
   "cell_type": "code",
   "execution_count": 5,
   "metadata": {},
   "outputs": [],
   "source": [
    "from sksurv.preprocessing import OneHotEncoder"
   ]
  },
  {
   "cell_type": "code",
   "execution_count": 6,
   "metadata": {},
   "outputs": [],
   "source": [
    "encoder = OneHotEncoder()"
   ]
  },
  {
   "cell_type": "code",
   "execution_count": 7,
   "metadata": {},
   "outputs": [],
   "source": [
    "X = encoder.fit_transform(X)"
   ]
  },
  {
   "cell_type": "markdown",
   "metadata": {},
   "source": [
    "### 2.2 Train Test Split"
   ]
  },
  {
   "cell_type": "code",
   "execution_count": 8,
   "metadata": {},
   "outputs": [],
   "source": [
    "from sklearn.model_selection import train_test_split"
   ]
  },
  {
   "cell_type": "code",
   "execution_count": 10,
   "metadata": {},
   "outputs": [],
   "source": [
    "X_train, X_test, y_train, y_test = train_test_split(X, y, test_size=0.3, random_state=42)"
   ]
  },
  {
   "cell_type": "code",
   "execution_count": 19,
   "metadata": {},
   "outputs": [
    {
     "data": {
      "text/html": [
       "<div>\n",
       "<style scoped>\n",
       "    .dataframe tbody tr th:only-of-type {\n",
       "        vertical-align: middle;\n",
       "    }\n",
       "\n",
       "    .dataframe tbody tr th {\n",
       "        vertical-align: top;\n",
       "    }\n",
       "\n",
       "    .dataframe thead th {\n",
       "        text-align: right;\n",
       "    }\n",
       "</style>\n",
       "<table border=\"1\" class=\"dataframe\">\n",
       "  <thead>\n",
       "    <tr style=\"text-align: right;\">\n",
       "      <th></th>\n",
       "      <th>Dataset</th>\n",
       "      <th>Registros</th>\n",
       "    </tr>\n",
       "  </thead>\n",
       "  <tbody>\n",
       "    <tr>\n",
       "      <th>0</th>\n",
       "      <td>X_train</td>\n",
       "      <td>170</td>\n",
       "    </tr>\n",
       "    <tr>\n",
       "      <th>1</th>\n",
       "      <td>X_test</td>\n",
       "      <td>73</td>\n",
       "    </tr>\n",
       "    <tr>\n",
       "      <th>2</th>\n",
       "      <td>y_train</td>\n",
       "      <td>170</td>\n",
       "    </tr>\n",
       "    <tr>\n",
       "      <th>3</th>\n",
       "      <td>y_test</td>\n",
       "      <td>73</td>\n",
       "    </tr>\n",
       "  </tbody>\n",
       "</table>\n",
       "</div>"
      ],
      "text/plain": [
       "   Dataset  Registros\n",
       "0  X_train        170\n",
       "1   X_test         73\n",
       "2  y_train        170\n",
       "3   y_test         73"
      ]
     },
     "execution_count": 19,
     "metadata": {},
     "output_type": "execute_result"
    }
   ],
   "source": [
    "pd.DataFrame({\n",
    "    \"Dataset\": [\"X_train\", \"X_test\", \"y_train\", \"y_test\"],\n",
    "    \"Registros\": [len(X_train), len(X_test), len(y_train), len(y_test)]\n",
    "})"
   ]
  },
  {
   "cell_type": "markdown",
   "metadata": {},
   "source": [
    "## 3. The Cox PH Model"
   ]
  },
  {
   "cell_type": "markdown",
   "metadata": {},
   "source": [
    "### 3.1 Fit - Ajuste del modelo (ecuación matemática)"
   ]
  },
  {
   "cell_type": "code",
   "execution_count": 13,
   "metadata": {},
   "outputs": [],
   "source": [
    "from sksurv.linear_model import CoxPHSurvivalAnalysis"
   ]
  },
  {
   "cell_type": "code",
   "execution_count": 14,
   "metadata": {},
   "outputs": [],
   "source": [
    "model_cox = CoxPHSurvivalAnalysis()"
   ]
  },
  {
   "cell_type": "code",
   "execution_count": 16,
   "metadata": {},
   "outputs": [
    {
     "data": {
      "text/html": [
       "<style>#sk-container-id-1 {color: black;background-color: white;}#sk-container-id-1 pre{padding: 0;}#sk-container-id-1 div.sk-toggleable {background-color: white;}#sk-container-id-1 label.sk-toggleable__label {cursor: pointer;display: block;width: 100%;margin-bottom: 0;padding: 0.3em;box-sizing: border-box;text-align: center;}#sk-container-id-1 label.sk-toggleable__label-arrow:before {content: \"▸\";float: left;margin-right: 0.25em;color: #696969;}#sk-container-id-1 label.sk-toggleable__label-arrow:hover:before {color: black;}#sk-container-id-1 div.sk-estimator:hover label.sk-toggleable__label-arrow:before {color: black;}#sk-container-id-1 div.sk-toggleable__content {max-height: 0;max-width: 0;overflow: hidden;text-align: left;background-color: #f0f8ff;}#sk-container-id-1 div.sk-toggleable__content pre {margin: 0.2em;color: black;border-radius: 0.25em;background-color: #f0f8ff;}#sk-container-id-1 input.sk-toggleable__control:checked~div.sk-toggleable__content {max-height: 200px;max-width: 100%;overflow: auto;}#sk-container-id-1 input.sk-toggleable__control:checked~label.sk-toggleable__label-arrow:before {content: \"▾\";}#sk-container-id-1 div.sk-estimator input.sk-toggleable__control:checked~label.sk-toggleable__label {background-color: #d4ebff;}#sk-container-id-1 div.sk-label input.sk-toggleable__control:checked~label.sk-toggleable__label {background-color: #d4ebff;}#sk-container-id-1 input.sk-hidden--visually {border: 0;clip: rect(1px 1px 1px 1px);clip: rect(1px, 1px, 1px, 1px);height: 1px;margin: -1px;overflow: hidden;padding: 0;position: absolute;width: 1px;}#sk-container-id-1 div.sk-estimator {font-family: monospace;background-color: #f0f8ff;border: 1px dotted black;border-radius: 0.25em;box-sizing: border-box;margin-bottom: 0.5em;}#sk-container-id-1 div.sk-estimator:hover {background-color: #d4ebff;}#sk-container-id-1 div.sk-parallel-item::after {content: \"\";width: 100%;border-bottom: 1px solid gray;flex-grow: 1;}#sk-container-id-1 div.sk-label:hover label.sk-toggleable__label {background-color: #d4ebff;}#sk-container-id-1 div.sk-serial::before {content: \"\";position: absolute;border-left: 1px solid gray;box-sizing: border-box;top: 0;bottom: 0;left: 50%;z-index: 0;}#sk-container-id-1 div.sk-serial {display: flex;flex-direction: column;align-items: center;background-color: white;padding-right: 0.2em;padding-left: 0.2em;position: relative;}#sk-container-id-1 div.sk-item {position: relative;z-index: 1;}#sk-container-id-1 div.sk-parallel {display: flex;align-items: stretch;justify-content: center;background-color: white;position: relative;}#sk-container-id-1 div.sk-item::before, #sk-container-id-1 div.sk-parallel-item::before {content: \"\";position: absolute;border-left: 1px solid gray;box-sizing: border-box;top: 0;bottom: 0;left: 50%;z-index: -1;}#sk-container-id-1 div.sk-parallel-item {display: flex;flex-direction: column;z-index: 1;position: relative;background-color: white;}#sk-container-id-1 div.sk-parallel-item:first-child::after {align-self: flex-end;width: 50%;}#sk-container-id-1 div.sk-parallel-item:last-child::after {align-self: flex-start;width: 50%;}#sk-container-id-1 div.sk-parallel-item:only-child::after {width: 0;}#sk-container-id-1 div.sk-dashed-wrapped {border: 1px dashed gray;margin: 0 0.4em 0.5em 0.4em;box-sizing: border-box;padding-bottom: 0.4em;background-color: white;}#sk-container-id-1 div.sk-label label {font-family: monospace;font-weight: bold;display: inline-block;line-height: 1.2em;}#sk-container-id-1 div.sk-label-container {text-align: center;}#sk-container-id-1 div.sk-container {/* jupyter's `normalize.less` sets `[hidden] { display: none; }` but bootstrap.min.css set `[hidden] { display: none !important; }` so we also need the `!important` here to be able to override the default hidden behavior on the sphinx rendered scikit-learn.org. See: https://github.com/scikit-learn/scikit-learn/issues/21755 */display: inline-block !important;position: relative;}#sk-container-id-1 div.sk-text-repr-fallback {display: none;}</style><div id=\"sk-container-id-1\" class=\"sk-top-container\"><div class=\"sk-text-repr-fallback\"><pre>CoxPHSurvivalAnalysis()</pre><b>In a Jupyter environment, please rerun this cell to show the HTML representation or trust the notebook. <br />On GitHub, the HTML representation is unable to render, please try loading this page with nbviewer.org.</b></div><div class=\"sk-container\" hidden><div class=\"sk-item\"><div class=\"sk-estimator sk-toggleable\"><input class=\"sk-toggleable__control sk-hidden--visually\" id=\"sk-estimator-id-1\" type=\"checkbox\" checked><label for=\"sk-estimator-id-1\" class=\"sk-toggleable__label sk-toggleable__label-arrow\">CoxPHSurvivalAnalysis</label><div class=\"sk-toggleable__content\"><pre>CoxPHSurvivalAnalysis()</pre></div></div></div></div></div>"
      ],
      "text/plain": [
       "CoxPHSurvivalAnalysis()"
      ]
     },
     "execution_count": 16,
     "metadata": {},
     "output_type": "execute_result"
    }
   ],
   "source": [
    "model_cox.fit(X, y)     # CORREGIR A FUTURO: Se está utilizando el dataset completo para entrenar, lo cual es un error. Se debe crear Train y Test sets."
   ]
  },
  {
   "cell_type": "markdown",
   "metadata": {},
   "source": [
    "### 3.2 Predict - Predicciones con el modelo ajustado"
   ]
  },
  {
   "cell_type": "code",
   "execution_count": 17,
   "metadata": {},
   "outputs": [
    {
     "data": {
      "text/plain": [
       "array([-3.81207507, -3.94068806, -4.03506263, -4.41753498, -2.26935265,\n",
       "       -3.19785573, -4.44309027, -3.39564103, -4.22251274, -3.80002118,\n",
       "       -2.81813545, -2.6397711 , -4.8793659 , -4.4698678 , -3.11812674,\n",
       "       -2.39601994, -4.13522359, -3.1252231 , -2.32615628, -3.08306505,\n",
       "       -3.24182634, -1.89844748, -3.97474361, -2.13990545, -2.61361835,\n",
       "       -3.08828229, -4.13042649, -2.55556036, -1.45618697, -3.92762803,\n",
       "       -1.87356057, -3.71364378, -3.55011321, -3.1413391 , -1.89724821,\n",
       "       -3.11624761, -3.74580382, -3.07357014, -3.52146804, -2.64586134,\n",
       "       -2.68656041, -2.34441112, -0.68614969, -2.56888256, -1.38024702,\n",
       "       -3.10819292, -3.04636519, -2.02008876, -3.00326758, -1.05840313,\n",
       "       -3.10391525, -2.90279495, -4.00091344, -2.73307977, -3.12932471,\n",
       "       -2.52460028, -4.05324626, -4.22859882, -3.60826632, -4.43102079,\n",
       "       -4.38740375, -3.938826  , -4.07479506, -3.81962014, -3.42217593,\n",
       "       -4.34856912, -4.41039685, -3.36205219, -3.14360201, -3.9620788 ,\n",
       "       -1.99852838, -2.31015337, -1.65914216, -4.4118007 , -3.20157221,\n",
       "       -3.89263529, -3.67038321, -4.81467771, -3.35751481, -1.57618582,\n",
       "       -3.35385042, -1.14821731, -1.59773463, -2.81955272, -1.99742298,\n",
       "       -1.78540079, -1.10553984, -2.80364129, -3.1795367 , -3.60536637,\n",
       "       -3.80985571, -3.19091074, -3.19398914, -3.22999039, -2.25603529,\n",
       "       -1.12294893, -1.93778922, -1.10963832, -1.27815423, -3.50137842,\n",
       "       -2.78687082, -1.88903546, -2.00605884, -1.96411636, -1.88099953,\n",
       "       -1.47150143, -2.27244738,  0.18726066, -1.09920385, -2.30776877,\n",
       "       -3.12744483, -2.9288804 , -1.50390486, -1.07363707, -1.08381184,\n",
       "       -2.94115298, -3.40542659, -1.96507053, -2.81014144, -1.66178483,\n",
       "       -3.09187833, -3.86443882, -3.51230252, -2.87436772, -3.38361807,\n",
       "       -1.75841454, -4.12738231, -4.11484414, -4.22225014, -3.35827503,\n",
       "       -3.36375234, -4.33143375, -4.21508319, -4.71582852, -2.83799608,\n",
       "       -4.15856704, -4.07914199, -4.81144485, -3.43745603, -4.39200265,\n",
       "       -5.11138769, -4.90626765, -4.39525414, -5.197948  , -4.40394214,\n",
       "       -3.52132219, -4.26976732, -3.24404691, -4.68363035, -3.48414301,\n",
       "       -4.78368126, -4.02774947, -2.63786656, -3.85102084, -2.73642931,\n",
       "       -2.84059563, -4.35359539, -2.77157067, -3.83296976, -3.68822138,\n",
       "       -2.590024  , -2.62503631, -2.92823731, -3.45854613, -3.09831574,\n",
       "       -3.25174373, -2.86508214, -3.70723992, -2.51601183, -4.17538992,\n",
       "       -3.12294411, -3.23342526, -3.22032526, -2.77185408, -3.1128408 ,\n",
       "       -3.4508564 , -3.78490182, -4.23890932, -4.30836831, -4.271527  ,\n",
       "       -2.35827684, -3.90699382, -3.25806003, -3.52941305, -4.3417755 ,\n",
       "       -4.11523848, -4.0235949 , -3.49623894, -3.51841764, -4.39735574,\n",
       "       -3.133714  , -4.32733479, -3.47004677, -2.54799396, -4.0460961 ,\n",
       "       -4.1805016 , -4.35583139, -2.3547757 , -4.07983977, -3.72045224,\n",
       "       -4.32730938, -3.81009488, -4.42273835, -4.03141859, -4.04111369,\n",
       "       -3.31230311, -4.02105167, -3.23546223, -3.17946149, -3.6236202 ,\n",
       "       -3.65639316, -3.64244825, -3.18919544, -3.26058835, -3.06161087,\n",
       "       -3.06256436, -3.76958747, -4.05556811, -4.20848118, -3.35526404,\n",
       "       -4.2521535 , -3.0857995 , -3.49440292, -4.21350655, -4.21870385,\n",
       "       -2.60434709, -4.22151616, -2.82385965, -3.35981107, -3.27385428,\n",
       "       -3.35998953, -2.80674196, -2.92805445, -3.39159358, -3.60305363,\n",
       "       -3.39321426, -3.45600112, -2.89643753, -3.27675809, -3.38377225,\n",
       "       -4.69663427, -3.82775579, -4.40279849])"
      ]
     },
     "execution_count": 17,
     "metadata": {},
     "output_type": "execute_result"
    }
   ],
   "source": [
    "model_cox.predict(X)"
   ]
  },
  {
   "cell_type": "markdown",
   "metadata": {},
   "source": [
    "### 3.3 Score - Evaluación de las predicciones"
   ]
  },
  {
   "cell_type": "code",
   "execution_count": 18,
   "metadata": {},
   "outputs": [
    {
     "data": {
      "text/plain": [
       "0.7708419620140821"
      ]
     },
     "execution_count": 18,
     "metadata": {},
     "output_type": "execute_result"
    }
   ],
   "source": [
    "model_cox.score(X, y)"
   ]
  },
  {
   "cell_type": "markdown",
   "metadata": {},
   "source": [
    "El modelo tiene un rendimiento bastante pobre, solo un 56% de las predicciones son correctas. Con este resultado es incluso casi igual que lanzar una moneda al aire y determinar si el paciente muere o no, ya que las chances del lanzmaiento de la moneda son 50% (true) y 50%(false).\n",
    "\n",
    "Se crearán nuevos modelos para comparar si alguno de ellos obtiene un mejor Score.  \n",
    "***No olvidar que el modelo fue entrenado con el 100% de los datos, lo cual es un error. En futuros fix se dividirá en train y test sets.***"
   ]
  },
  {
   "cell_type": "markdown",
   "metadata": {},
   "source": [
    "## 4. Decision Tree Model"
   ]
  },
  {
   "cell_type": "markdown",
   "metadata": {},
   "source": [
    "### 4.1 Fit - Ajuste del modelo"
   ]
  },
  {
   "cell_type": "code",
   "execution_count": 19,
   "metadata": {},
   "outputs": [],
   "source": [
    "from sksurv.tree import SurvivalTree"
   ]
  },
  {
   "cell_type": "code",
   "execution_count": 20,
   "metadata": {},
   "outputs": [],
   "source": [
    "model_tree = SurvivalTree()"
   ]
  },
  {
   "cell_type": "code",
   "execution_count": 21,
   "metadata": {},
   "outputs": [
    {
     "data": {
      "text/html": [
       "<style>#sk-container-id-2 {color: black;background-color: white;}#sk-container-id-2 pre{padding: 0;}#sk-container-id-2 div.sk-toggleable {background-color: white;}#sk-container-id-2 label.sk-toggleable__label {cursor: pointer;display: block;width: 100%;margin-bottom: 0;padding: 0.3em;box-sizing: border-box;text-align: center;}#sk-container-id-2 label.sk-toggleable__label-arrow:before {content: \"▸\";float: left;margin-right: 0.25em;color: #696969;}#sk-container-id-2 label.sk-toggleable__label-arrow:hover:before {color: black;}#sk-container-id-2 div.sk-estimator:hover label.sk-toggleable__label-arrow:before {color: black;}#sk-container-id-2 div.sk-toggleable__content {max-height: 0;max-width: 0;overflow: hidden;text-align: left;background-color: #f0f8ff;}#sk-container-id-2 div.sk-toggleable__content pre {margin: 0.2em;color: black;border-radius: 0.25em;background-color: #f0f8ff;}#sk-container-id-2 input.sk-toggleable__control:checked~div.sk-toggleable__content {max-height: 200px;max-width: 100%;overflow: auto;}#sk-container-id-2 input.sk-toggleable__control:checked~label.sk-toggleable__label-arrow:before {content: \"▾\";}#sk-container-id-2 div.sk-estimator input.sk-toggleable__control:checked~label.sk-toggleable__label {background-color: #d4ebff;}#sk-container-id-2 div.sk-label input.sk-toggleable__control:checked~label.sk-toggleable__label {background-color: #d4ebff;}#sk-container-id-2 input.sk-hidden--visually {border: 0;clip: rect(1px 1px 1px 1px);clip: rect(1px, 1px, 1px, 1px);height: 1px;margin: -1px;overflow: hidden;padding: 0;position: absolute;width: 1px;}#sk-container-id-2 div.sk-estimator {font-family: monospace;background-color: #f0f8ff;border: 1px dotted black;border-radius: 0.25em;box-sizing: border-box;margin-bottom: 0.5em;}#sk-container-id-2 div.sk-estimator:hover {background-color: #d4ebff;}#sk-container-id-2 div.sk-parallel-item::after {content: \"\";width: 100%;border-bottom: 1px solid gray;flex-grow: 1;}#sk-container-id-2 div.sk-label:hover label.sk-toggleable__label {background-color: #d4ebff;}#sk-container-id-2 div.sk-serial::before {content: \"\";position: absolute;border-left: 1px solid gray;box-sizing: border-box;top: 0;bottom: 0;left: 50%;z-index: 0;}#sk-container-id-2 div.sk-serial {display: flex;flex-direction: column;align-items: center;background-color: white;padding-right: 0.2em;padding-left: 0.2em;position: relative;}#sk-container-id-2 div.sk-item {position: relative;z-index: 1;}#sk-container-id-2 div.sk-parallel {display: flex;align-items: stretch;justify-content: center;background-color: white;position: relative;}#sk-container-id-2 div.sk-item::before, #sk-container-id-2 div.sk-parallel-item::before {content: \"\";position: absolute;border-left: 1px solid gray;box-sizing: border-box;top: 0;bottom: 0;left: 50%;z-index: -1;}#sk-container-id-2 div.sk-parallel-item {display: flex;flex-direction: column;z-index: 1;position: relative;background-color: white;}#sk-container-id-2 div.sk-parallel-item:first-child::after {align-self: flex-end;width: 50%;}#sk-container-id-2 div.sk-parallel-item:last-child::after {align-self: flex-start;width: 50%;}#sk-container-id-2 div.sk-parallel-item:only-child::after {width: 0;}#sk-container-id-2 div.sk-dashed-wrapped {border: 1px dashed gray;margin: 0 0.4em 0.5em 0.4em;box-sizing: border-box;padding-bottom: 0.4em;background-color: white;}#sk-container-id-2 div.sk-label label {font-family: monospace;font-weight: bold;display: inline-block;line-height: 1.2em;}#sk-container-id-2 div.sk-label-container {text-align: center;}#sk-container-id-2 div.sk-container {/* jupyter's `normalize.less` sets `[hidden] { display: none; }` but bootstrap.min.css set `[hidden] { display: none !important; }` so we also need the `!important` here to be able to override the default hidden behavior on the sphinx rendered scikit-learn.org. See: https://github.com/scikit-learn/scikit-learn/issues/21755 */display: inline-block !important;position: relative;}#sk-container-id-2 div.sk-text-repr-fallback {display: none;}</style><div id=\"sk-container-id-2\" class=\"sk-top-container\"><div class=\"sk-text-repr-fallback\"><pre>SurvivalTree()</pre><b>In a Jupyter environment, please rerun this cell to show the HTML representation or trust the notebook. <br />On GitHub, the HTML representation is unable to render, please try loading this page with nbviewer.org.</b></div><div class=\"sk-container\" hidden><div class=\"sk-item\"><div class=\"sk-estimator sk-toggleable\"><input class=\"sk-toggleable__control sk-hidden--visually\" id=\"sk-estimator-id-2\" type=\"checkbox\" checked><label for=\"sk-estimator-id-2\" class=\"sk-toggleable__label sk-toggleable__label-arrow\">SurvivalTree</label><div class=\"sk-toggleable__content\"><pre>SurvivalTree()</pre></div></div></div></div></div>"
      ],
      "text/plain": [
       "SurvivalTree()"
      ]
     },
     "execution_count": 21,
     "metadata": {},
     "output_type": "execute_result"
    }
   ],
   "source": [
    "model_tree.fit(X, y)"
   ]
  },
  {
   "cell_type": "markdown",
   "metadata": {},
   "source": [
    "### 4.2 Predict - Predicciones con el modelo ajustado"
   ]
  },
  {
   "cell_type": "code",
   "execution_count": 22,
   "metadata": {},
   "outputs": [
    {
     "data": {
      "text/plain": [
       "array([ 51.83333333,  67.43333333,  32.5       ,  29.        ,\n",
       "       163.66666667,  63.16666667,  51.83333333,  15.33333333,\n",
       "         0.        , 106.4       , 128.        ,  63.16666667,\n",
       "         4.        ,  85.33333333,  80.16666667, 163.66666667,\n",
       "        59.5       ,  36.91666667,  80.96666667,   3.        ,\n",
       "        32.5       ,  80.96666667,  30.        , 163.66666667,\n",
       "        51.83333333, 130.        ,  47.66666667,  80.96666667,\n",
       "       128.        ,  59.5       ,  80.96666667,  99.33333333,\n",
       "        36.91666667,   3.        ,  80.96666667,  99.33333333,\n",
       "        26.33333333,  41.83333333,  99.33333333, 106.4       ,\n",
       "       130.33333333, 166.83333333, 128.        ,  41.83333333,\n",
       "        63.16666667,  67.43333333,  26.        ,  47.        ,\n",
       "        17.        , 163.66666667,  67.43333333,  21.83333333,\n",
       "        21.06666667,  26.33333333,  21.06666667, 166.83333333,\n",
       "         6.        ,  47.66666667,  45.23333333,   0.        ,\n",
       "        21.06666667,  45.23333333,  67.43333333,   7.        ,\n",
       "        47.66666667,  69.25      ,  30.        ,   4.        ,\n",
       "        39.66666667,  39.66666667, 166.83333333, 139.66666667,\n",
       "       116.33333333,  26.33333333, 130.33333333, 110.16666667,\n",
       "       110.16666667,   4.        , 130.33333333, 122.2       ,\n",
       "         0.        , 122.2       , 134.83333333,  80.16666667,\n",
       "       116.33333333, 115.33333333, 166.83333333,  34.91666667,\n",
       "       106.4       , 130.        ,  59.5       , 106.4       ,\n",
       "       130.        ,  80.16666667, 106.4       , 116.33333333,\n",
       "       139.66666667, 134.83333333, 139.66666667,   7.        ,\n",
       "        67.43333333,  69.25      ,  15.33333333,  67.43333333,\n",
       "        39.66666667,  69.25      , 110.16666667, 122.2       ,\n",
       "       134.83333333,  39.66666667,  39.66666667,  47.        ,\n",
       "       130.33333333, 122.2       , 122.2       ,  34.91666667,\n",
       "        21.83333333, 115.33333333,  45.23333333, 139.66666667,\n",
       "        85.33333333,  21.06666667,  45.23333333,  21.06666667,\n",
       "        21.83333333, 115.33333333,   0.        ,   0.        ,\n",
       "         0.        ,   0.        ,   0.        ,   4.        ,\n",
       "        41.83333333,  29.        ,   0.        ,   0.        ,\n",
       "         0.        ,  85.33333333,   0.        ,  26.        ,\n",
       "         4.        ,   4.        ,  26.        ,   4.        ,\n",
       "        26.        ,   0.        ,   0.        ,   7.        ,\n",
       "         0.        ,   7.        ,   4.        ,  30.        ,\n",
       "         0.        ,   3.        ,   0.        ,   0.        ,\n",
       "        30.        ,  32.5       ,  29.        ,  32.5       ,\n",
       "         0.        ,   0.        ,  15.33333333,  36.91666667,\n",
       "         0.        ,   0.        ,  17.        ,  17.        ,\n",
       "         0.        ,   0.        ,   3.        ,   3.        ,\n",
       "         0.        ,  47.        ,   3.        ,   7.        ,\n",
       "         7.        ,   0.        ,   0.        ,   0.        ,\n",
       "         0.        ,   0.        ,  36.91666667,   7.        ,\n",
       "         7.        ,   7.        ,  45.23333333,   0.        ,\n",
       "         4.        ,   0.        ,   0.        ,   4.        ,\n",
       "         0.        ,   0.        ,   4.        ,  30.        ,\n",
       "        30.        ,   0.        ,   4.        ,   4.        ,\n",
       "        30.        ,   4.        ,  30.        ,  30.        ,\n",
       "         3.        ,   0.        ,   7.        ,   4.        ,\n",
       "         4.        ,   4.        ,   4.        ,   4.        ,\n",
       "         4.        ,   0.        ,   3.        ,   0.        ,\n",
       "         7.        ,   3.        ,   4.        ,   0.        ,\n",
       "         6.        ,   3.        ,   0.        ,   4.        ,\n",
       "         3.        ,   0.        ,   0.        ,  34.91666667,\n",
       "         0.        ,   0.        ,   0.        ,  34.91666667,\n",
       "         6.        ,   0.        ,  17.        ,   7.        ,\n",
       "         7.        ,  69.25      ,   3.        ,   0.        ,\n",
       "         3.        ,  32.5       ,   0.        ])"
      ]
     },
     "execution_count": 22,
     "metadata": {},
     "output_type": "execute_result"
    }
   ],
   "source": [
    "model_tree.predict(X)"
   ]
  },
  {
   "cell_type": "markdown",
   "metadata": {},
   "source": [
    "### 4.3 Score - Evaluación de las predicciones"
   ]
  },
  {
   "cell_type": "code",
   "execution_count": 23,
   "metadata": {},
   "outputs": [
    {
     "data": {
      "text/plain": [
       "0.9161292231228921"
      ]
     },
     "execution_count": 23,
     "metadata": {},
     "output_type": "execute_result"
    }
   ],
   "source": [
    "model_tree.score(X, y)"
   ]
  },
  {
   "cell_type": "markdown",
   "metadata": {},
   "source": [
    "## 5. Random Forest Model"
   ]
  },
  {
   "cell_type": "markdown",
   "metadata": {},
   "source": [
    "### 5.1 Fit - Ajuste del modelo"
   ]
  },
  {
   "cell_type": "code",
   "execution_count": 24,
   "metadata": {},
   "outputs": [],
   "source": [
    "from sksurv.ensemble import RandomSurvivalForest"
   ]
  },
  {
   "cell_type": "code",
   "execution_count": 25,
   "metadata": {},
   "outputs": [],
   "source": [
    "model_rf = RandomSurvivalForest()"
   ]
  },
  {
   "cell_type": "code",
   "execution_count": 26,
   "metadata": {},
   "outputs": [
    {
     "data": {
      "text/html": [
       "<style>#sk-container-id-3 {color: black;background-color: white;}#sk-container-id-3 pre{padding: 0;}#sk-container-id-3 div.sk-toggleable {background-color: white;}#sk-container-id-3 label.sk-toggleable__label {cursor: pointer;display: block;width: 100%;margin-bottom: 0;padding: 0.3em;box-sizing: border-box;text-align: center;}#sk-container-id-3 label.sk-toggleable__label-arrow:before {content: \"▸\";float: left;margin-right: 0.25em;color: #696969;}#sk-container-id-3 label.sk-toggleable__label-arrow:hover:before {color: black;}#sk-container-id-3 div.sk-estimator:hover label.sk-toggleable__label-arrow:before {color: black;}#sk-container-id-3 div.sk-toggleable__content {max-height: 0;max-width: 0;overflow: hidden;text-align: left;background-color: #f0f8ff;}#sk-container-id-3 div.sk-toggleable__content pre {margin: 0.2em;color: black;border-radius: 0.25em;background-color: #f0f8ff;}#sk-container-id-3 input.sk-toggleable__control:checked~div.sk-toggleable__content {max-height: 200px;max-width: 100%;overflow: auto;}#sk-container-id-3 input.sk-toggleable__control:checked~label.sk-toggleable__label-arrow:before {content: \"▾\";}#sk-container-id-3 div.sk-estimator input.sk-toggleable__control:checked~label.sk-toggleable__label {background-color: #d4ebff;}#sk-container-id-3 div.sk-label input.sk-toggleable__control:checked~label.sk-toggleable__label {background-color: #d4ebff;}#sk-container-id-3 input.sk-hidden--visually {border: 0;clip: rect(1px 1px 1px 1px);clip: rect(1px, 1px, 1px, 1px);height: 1px;margin: -1px;overflow: hidden;padding: 0;position: absolute;width: 1px;}#sk-container-id-3 div.sk-estimator {font-family: monospace;background-color: #f0f8ff;border: 1px dotted black;border-radius: 0.25em;box-sizing: border-box;margin-bottom: 0.5em;}#sk-container-id-3 div.sk-estimator:hover {background-color: #d4ebff;}#sk-container-id-3 div.sk-parallel-item::after {content: \"\";width: 100%;border-bottom: 1px solid gray;flex-grow: 1;}#sk-container-id-3 div.sk-label:hover label.sk-toggleable__label {background-color: #d4ebff;}#sk-container-id-3 div.sk-serial::before {content: \"\";position: absolute;border-left: 1px solid gray;box-sizing: border-box;top: 0;bottom: 0;left: 50%;z-index: 0;}#sk-container-id-3 div.sk-serial {display: flex;flex-direction: column;align-items: center;background-color: white;padding-right: 0.2em;padding-left: 0.2em;position: relative;}#sk-container-id-3 div.sk-item {position: relative;z-index: 1;}#sk-container-id-3 div.sk-parallel {display: flex;align-items: stretch;justify-content: center;background-color: white;position: relative;}#sk-container-id-3 div.sk-item::before, #sk-container-id-3 div.sk-parallel-item::before {content: \"\";position: absolute;border-left: 1px solid gray;box-sizing: border-box;top: 0;bottom: 0;left: 50%;z-index: -1;}#sk-container-id-3 div.sk-parallel-item {display: flex;flex-direction: column;z-index: 1;position: relative;background-color: white;}#sk-container-id-3 div.sk-parallel-item:first-child::after {align-self: flex-end;width: 50%;}#sk-container-id-3 div.sk-parallel-item:last-child::after {align-self: flex-start;width: 50%;}#sk-container-id-3 div.sk-parallel-item:only-child::after {width: 0;}#sk-container-id-3 div.sk-dashed-wrapped {border: 1px dashed gray;margin: 0 0.4em 0.5em 0.4em;box-sizing: border-box;padding-bottom: 0.4em;background-color: white;}#sk-container-id-3 div.sk-label label {font-family: monospace;font-weight: bold;display: inline-block;line-height: 1.2em;}#sk-container-id-3 div.sk-label-container {text-align: center;}#sk-container-id-3 div.sk-container {/* jupyter's `normalize.less` sets `[hidden] { display: none; }` but bootstrap.min.css set `[hidden] { display: none !important; }` so we also need the `!important` here to be able to override the default hidden behavior on the sphinx rendered scikit-learn.org. See: https://github.com/scikit-learn/scikit-learn/issues/21755 */display: inline-block !important;position: relative;}#sk-container-id-3 div.sk-text-repr-fallback {display: none;}</style><div id=\"sk-container-id-3\" class=\"sk-top-container\"><div class=\"sk-text-repr-fallback\"><pre>RandomSurvivalForest()</pre><b>In a Jupyter environment, please rerun this cell to show the HTML representation or trust the notebook. <br />On GitHub, the HTML representation is unable to render, please try loading this page with nbviewer.org.</b></div><div class=\"sk-container\" hidden><div class=\"sk-item\"><div class=\"sk-estimator sk-toggleable\"><input class=\"sk-toggleable__control sk-hidden--visually\" id=\"sk-estimator-id-3\" type=\"checkbox\" checked><label for=\"sk-estimator-id-3\" class=\"sk-toggleable__label sk-toggleable__label-arrow\">RandomSurvivalForest</label><div class=\"sk-toggleable__content\"><pre>RandomSurvivalForest()</pre></div></div></div></div></div>"
      ],
      "text/plain": [
       "RandomSurvivalForest()"
      ]
     },
     "execution_count": 26,
     "metadata": {},
     "output_type": "execute_result"
    }
   ],
   "source": [
    "model_rf.fit(X, y)"
   ]
  },
  {
   "cell_type": "markdown",
   "metadata": {},
   "source": [
    "### 5.2 Predict - Predicciones con el modelo ajustado"
   ]
  },
  {
   "cell_type": "code",
   "execution_count": 27,
   "metadata": {},
   "outputs": [
    {
     "data": {
      "text/plain": [
       "array([ 35.53907927,  39.67411472,  38.69757927,  51.06751578,\n",
       "        95.60828175,  97.39258526,  44.02627005,  33.35814706,\n",
       "        27.27313086,  55.27884514, 109.72930351,  82.83085907,\n",
       "        21.69365945,  48.2298254 ,  59.05271254, 103.82806923,\n",
       "        63.31303345,  54.72728049,  67.88699411,  35.55515149,\n",
       "        37.36975983, 114.01454503,  47.76815695, 114.34447432,\n",
       "        53.3984312 ,  68.73639059,  48.6297575 , 107.56023544,\n",
       "       116.88364286,  74.97920702, 111.56901694,  47.20480552,\n",
       "        67.80302278,  34.3814692 , 111.76738891,  78.62373505,\n",
       "        44.39478078,  46.96044563,  73.14617418,  75.08267349,\n",
       "        38.97002218, 116.03442632, 122.66761022,  47.4428888 ,\n",
       "       100.80502987,  60.1750159 ,  42.30724612,  67.95124166,\n",
       "        37.62301183, 112.46923829,  63.70720567,  41.65582979,\n",
       "        21.83176445,  32.25103491,  32.58203491, 100.40259146,\n",
       "        29.1012324 ,  39.0911506 ,  29.99516108,  16.56584501,\n",
       "        17.29509382,  31.13607367,  39.75885145,  26.73456288,\n",
       "        47.9268774 ,  34.89593816,  17.02466408,  12.68198514,\n",
       "        47.17064604,  37.03934292, 118.72895238, 104.6452831 ,\n",
       "       116.86355123,  35.99592796,  56.59046452,  59.51071926,\n",
       "        66.3637013 ,  18.46950464,  50.34518193, 127.72158732,\n",
       "         7.59043185, 129.29594308, 122.40215418,  87.21428987,\n",
       "       105.069456  , 117.53908741, 135.44182512,  67.3005924 ,\n",
       "        85.23366924,  93.16938025,  63.41895319,  96.60408659,\n",
       "        94.48491993,  80.90533749,  83.46402648, 112.92160031,\n",
       "       120.54974334, 107.30874625, 120.8259191 ,  21.79250538,\n",
       "        68.46689091,  74.11293029,  52.62528778,  79.00917655,\n",
       "        83.60744536,  74.59245039,  63.85365684, 121.10607115,\n",
       "       105.81516491,  57.59104429,  35.23655399,  57.95881051,\n",
       "        88.46495781, 111.0334476 , 109.8702364 ,  65.43332072,\n",
       "        42.03891619, 110.22646997,  63.77588195, 110.07859918,\n",
       "        60.2785974 ,  31.9775739 ,  42.80354322,  59.13724446,\n",
       "        36.36485653, 111.46015215,  14.13733324,  14.73088086,\n",
       "        19.73413086,   4.05926518,  11.53468856,  13.78620737,\n",
       "        26.76136498,  18.40131442,  19.26325522,  14.08615863,\n",
       "        13.03233324,  33.95515873,  30.95694262,  16.91403277,\n",
       "        14.58078644,  18.69296898,  16.3073661 ,  14.31078644,\n",
       "        14.58375499,   7.40759851,  20.42830546,  23.82065906,\n",
       "        24.89135308,  21.00233872,  18.25147619,  14.94987404,\n",
       "        22.91936603,  15.25834117,  11.82882327,  11.79731627,\n",
       "        13.51287404,  20.23964807,  20.34829776,  20.97566284,\n",
       "        11.562006  ,  14.6965883 ,  22.78160119,  28.70755592,\n",
       "        13.3721496 ,   8.72419772,  16.58106077,  25.44374898,\n",
       "        11.51867267,  14.7028253 ,  23.15997158,  14.0999153 ,\n",
       "        31.16363825,  42.8394458 ,  14.54474864,  21.85450538,\n",
       "         8.64132254,   6.90469303,   5.93225255,   4.94410969,\n",
       "        15.06972505,  12.06893798,  28.57922258,   9.72428285,\n",
       "         7.03073668,  16.36722477,  12.33539907,   5.97593185,\n",
       "         8.61149307,   5.68077636,  16.8559667 ,  13.78620737,\n",
       "         5.42116994,   8.36400581,  15.96620737,  13.06454071,\n",
       "        13.47954071,  14.15989172,  15.45287404,  14.73693356,\n",
       "        13.44120737,  13.79693356,  14.05920737,  14.45987404,\n",
       "         9.11334117,   3.95259851,   9.13306063,   8.11987403,\n",
       "        10.27493355,  10.64582641,   5.72949307,   5.01482641,\n",
       "        10.27493355,   3.98270962,  19.32174965,   9.44820962,\n",
       "         9.58724786,   9.33834117,  24.8897619 ,   3.95259851,\n",
       "        28.16950434,  23.72233687,   6.09759851,  27.94392857,\n",
       "        23.43514673,  23.11100923,  20.73197213,  25.48314728,\n",
       "         5.73225327,   4.66093185,   5.91225327,  26.36731395,\n",
       "        39.5434302 ,   5.62759851,  20.41189309,  23.43791015,\n",
       "        20.43650538,  39.94037021,  14.45690649,   5.62759851,\n",
       "        18.14631442,  38.45468361,  19.0427499 ])"
      ]
     },
     "execution_count": 27,
     "metadata": {},
     "output_type": "execute_result"
    }
   ],
   "source": [
    "model_rf.predict(X)"
   ]
  },
  {
   "cell_type": "markdown",
   "metadata": {},
   "source": [
    "### 5.3 Score - Evaluación de las predicciones"
   ]
  },
  {
   "cell_type": "code",
   "execution_count": 28,
   "metadata": {},
   "outputs": [
    {
     "data": {
      "text/plain": [
       "0.9079936098455713"
      ]
     },
     "execution_count": 28,
     "metadata": {},
     "output_type": "execute_result"
    }
   ],
   "source": [
    "model_rf.score(X, y)"
   ]
  },
  {
   "cell_type": "markdown",
   "metadata": {},
   "source": [
    "## 6. Resultado de los modelos"
   ]
  },
  {
   "cell_type": "code",
   "execution_count": 29,
   "metadata": {},
   "outputs": [],
   "source": [
    "columnas = [\"Modelo\", \"Score\"]"
   ]
  },
  {
   "cell_type": "code",
   "execution_count": 31,
   "metadata": {},
   "outputs": [
    {
     "data": {
      "text/html": [
       "<style type=\"text/css\">\n",
       "#T_51037_row0_col1 {\n",
       "  background-color: #fff7fb;\n",
       "  color: #000000;\n",
       "}\n",
       "#T_51037_row1_col1 {\n",
       "  background-color: #023858;\n",
       "  color: #f1f1f1;\n",
       "}\n",
       "#T_51037_row2_col1 {\n",
       "  background-color: #03476f;\n",
       "  color: #f1f1f1;\n",
       "}\n",
       "</style>\n",
       "<table id=\"T_51037\">\n",
       "  <thead>\n",
       "    <tr>\n",
       "      <th class=\"blank level0\" >&nbsp;</th>\n",
       "      <th id=\"T_51037_level0_col0\" class=\"col_heading level0 col0\" >Modelos</th>\n",
       "      <th id=\"T_51037_level0_col1\" class=\"col_heading level0 col1\" >Score</th>\n",
       "    </tr>\n",
       "  </thead>\n",
       "  <tbody>\n",
       "    <tr>\n",
       "      <th id=\"T_51037_level0_row0\" class=\"row_heading level0 row0\" >0</th>\n",
       "      <td id=\"T_51037_row0_col0\" class=\"data row0 col0\" >Cox PH</td>\n",
       "      <td id=\"T_51037_row0_col1\" class=\"data row0 col1\" >0.770842</td>\n",
       "    </tr>\n",
       "    <tr>\n",
       "      <th id=\"T_51037_level0_row1\" class=\"row_heading level0 row1\" >1</th>\n",
       "      <td id=\"T_51037_row1_col0\" class=\"data row1 col0\" >Decision Tree</td>\n",
       "      <td id=\"T_51037_row1_col1\" class=\"data row1 col1\" >0.916129</td>\n",
       "    </tr>\n",
       "    <tr>\n",
       "      <th id=\"T_51037_level0_row2\" class=\"row_heading level0 row2\" >2</th>\n",
       "      <td id=\"T_51037_row2_col0\" class=\"data row2 col0\" >Random Forest</td>\n",
       "      <td id=\"T_51037_row2_col1\" class=\"data row2 col1\" >0.907994</td>\n",
       "    </tr>\n",
       "  </tbody>\n",
       "</table>\n"
      ],
      "text/plain": [
       "<pandas.io.formats.style.Styler at 0x22aca2d02d0>"
      ]
     },
     "execution_count": 31,
     "metadata": {},
     "output_type": "execute_result"
    }
   ],
   "source": [
    "df_resultados = pd.DataFrame({\n",
    "    \"Modelos\": [\"Cox PH\", \"Decision Tree\", \"Random Forest\"],\n",
    "    \"Score\": [model_cox.score(X,y), model_tree.score(X,y), model_rf.score(X,y)]})\n",
    "df_resultados.style.background_gradient()"
   ]
  }
 ],
 "metadata": {
  "kernelspec": {
   "display_name": "ml",
   "language": "python",
   "name": "python3"
  },
  "language_info": {
   "codemirror_mode": {
    "name": "ipython",
    "version": 3
   },
   "file_extension": ".py",
   "mimetype": "text/x-python",
   "name": "python",
   "nbconvert_exporter": "python",
   "pygments_lexer": "ipython3",
   "version": "3.11.5"
  },
  "orig_nbformat": 4
 },
 "nbformat": 4,
 "nbformat_minor": 2
}

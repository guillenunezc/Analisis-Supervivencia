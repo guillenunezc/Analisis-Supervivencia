{
 "cells": [
  {
   "cell_type": "markdown",
   "metadata": {},
   "source": [
    "# Sistema de Modelado y Análisis de Supervivencia (médica)"
   ]
  },
  {
   "cell_type": "markdown",
   "metadata": {},
   "source": [
    "En este notebook se detalla un sistema o secuencia de pasos a seguir que se pueden aplicar a cualquier modelo de Machine Learning que involucren problemas de tipo ***supervivencia***."
   ]
  },
  {
   "cell_type": "markdown",
   "metadata": {},
   "source": [
    "## 1. Dataset\n",
    "* Cada fila representa a un paciente.\n",
    "* El objetivo es predecir el riesgo (**risk**) de que un paciente muera\n",
    "    * Esto se determina en la columna **event**.\n",
    "---\n",
    "En los análisis de supervivencia tenemos:\n",
    "* Los targets:\n",
    "    * **event**: True/False (muere/no muere).\n",
    "    * **time**: El tiempo cuando el evento ocurre.\n",
    "* Explanatory variables:\n",
    "    * El resto de variables (age, prior_therapy)\n",
    "\n",
    "Por lo cual la formula de la ecuación matemática del modelo será:\n",
    "$$\n",
    "risk = (w_0) + (w_1) \\cdot age + (w_2) \\cdot prior\\_therapy\n",
    "$$\n",
    "\n",
    "Con los modelos de Machine Learning, se busca encontrar los mejores valores (optimización) para los pesos ***w1*** y ***w2*** de la ecuación anterior, para finalmente calcular el **risk** asociado."
   ]
  },
  {
   "cell_type": "code",
   "execution_count": 5,
   "metadata": {},
   "outputs": [
    {
     "data": {
      "text/html": [
       "<div>\n",
       "<style scoped>\n",
       "    .dataframe tbody tr th:only-of-type {\n",
       "        vertical-align: middle;\n",
       "    }\n",
       "\n",
       "    .dataframe tbody tr th {\n",
       "        vertical-align: top;\n",
       "    }\n",
       "\n",
       "    .dataframe thead th {\n",
       "        text-align: right;\n",
       "    }\n",
       "</style>\n",
       "<table border=\"1\" class=\"dataframe\">\n",
       "  <thead>\n",
       "    <tr style=\"text-align: right;\">\n",
       "      <th></th>\n",
       "      <th>event</th>\n",
       "      <th>time</th>\n",
       "      <th>age</th>\n",
       "      <th>prior_therapy</th>\n",
       "    </tr>\n",
       "  </thead>\n",
       "  <tbody>\n",
       "    <tr>\n",
       "      <th>0</th>\n",
       "      <td>True</td>\n",
       "      <td>2.373626</td>\n",
       "      <td>69.000000</td>\n",
       "      <td>0</td>\n",
       "    </tr>\n",
       "    <tr>\n",
       "      <th>1</th>\n",
       "      <td>True</td>\n",
       "      <td>7.516484</td>\n",
       "      <td>38.000000</td>\n",
       "      <td>0</td>\n",
       "    </tr>\n",
       "    <tr>\n",
       "      <th>2</th>\n",
       "      <td>True</td>\n",
       "      <td>4.153846</td>\n",
       "      <td>63.000000</td>\n",
       "      <td>1</td>\n",
       "    </tr>\n",
       "    <tr>\n",
       "      <th>3</th>\n",
       "      <td>True</td>\n",
       "      <td>3.890110</td>\n",
       "      <td>65.000000</td>\n",
       "      <td>1</td>\n",
       "    </tr>\n",
       "    <tr>\n",
       "      <th>4</th>\n",
       "      <td>True</td>\n",
       "      <td>0.329670</td>\n",
       "      <td>49.000000</td>\n",
       "      <td>0</td>\n",
       "    </tr>\n",
       "    <tr>\n",
       "      <th>...</th>\n",
       "      <td>...</td>\n",
       "      <td>...</td>\n",
       "      <td>...</td>\n",
       "      <td>...</td>\n",
       "    </tr>\n",
       "    <tr>\n",
       "      <th>238</th>\n",
       "      <td>False</td>\n",
       "      <td>3.142881</td>\n",
       "      <td>65.810046</td>\n",
       "      <td>0</td>\n",
       "    </tr>\n",
       "    <tr>\n",
       "      <th>239</th>\n",
       "      <td>False</td>\n",
       "      <td>3.380047</td>\n",
       "      <td>36.495508</td>\n",
       "      <td>1</td>\n",
       "    </tr>\n",
       "    <tr>\n",
       "      <th>240</th>\n",
       "      <td>False</td>\n",
       "      <td>3.082424</td>\n",
       "      <td>65.029553</td>\n",
       "      <td>0</td>\n",
       "    </tr>\n",
       "    <tr>\n",
       "      <th>241</th>\n",
       "      <td>False</td>\n",
       "      <td>2.986648</td>\n",
       "      <td>62.424988</td>\n",
       "      <td>0</td>\n",
       "    </tr>\n",
       "    <tr>\n",
       "      <th>242</th>\n",
       "      <td>False</td>\n",
       "      <td>3.215223</td>\n",
       "      <td>68.109977</td>\n",
       "      <td>0</td>\n",
       "    </tr>\n",
       "  </tbody>\n",
       "</table>\n",
       "<p>243 rows × 4 columns</p>\n",
       "</div>"
      ],
      "text/plain": [
       "     event      time        age  prior_therapy\n",
       "0     True  2.373626  69.000000              0\n",
       "1     True  7.516484  38.000000              0\n",
       "2     True  4.153846  63.000000              1\n",
       "3     True  3.890110  65.000000              1\n",
       "4     True  0.329670  49.000000              0\n",
       "..     ...       ...        ...            ...\n",
       "238  False  3.142881  65.810046              0\n",
       "239  False  3.380047  36.495508              1\n",
       "240  False  3.082424  65.029553              0\n",
       "241  False  2.986648  62.424988              0\n",
       "242  False  3.215223  68.109977              0\n",
       "\n",
       "[243 rows x 4 columns]"
      ]
     },
     "execution_count": 5,
     "metadata": {},
     "output_type": "execute_result"
    }
   ],
   "source": [
    "import pandas as pd\n",
    "\n",
    "df_patients = pd.read_excel(\"../data/data_lung_cancer_smote.xlsx\").loc[:,[\"event\", \"time\", \"age\", \"prior_therapy\"]].assign(prior_therapy=lambda df: df.prior_therapy.replace({\"Yes\": 1, \"No\": 0}))\n",
    "df_patients"
   ]
  },
  {
   "cell_type": "markdown",
   "metadata": {},
   "source": [
    "## 2. Feature Selection\n",
    "\n",
    "Selección de las variables a utilizar en el modelo:\n",
    "* `y (target)`: **event** y **time**\n",
    "    * Para que estas variables puedan ser procesadas por el modelo, deben transformarse a otra estructura de datos (*numpy records array*). Esto se hace con *.to_records()*\n",
    "* `x (explanatory)`: Variables relevantes para calcular el riesgo de un paciente."
   ]
  },
  {
   "cell_type": "code",
   "execution_count": 11,
   "metadata": {},
   "outputs": [],
   "source": [
    "y = df_patients[[\"event\", \"time\"]].to_records(index=False)"
   ]
  },
  {
   "cell_type": "code",
   "execution_count": 13,
   "metadata": {},
   "outputs": [],
   "source": [
    "X = df_patients.drop([\"event\", \"time\"], axis=1)"
   ]
  },
  {
   "cell_type": "markdown",
   "metadata": {},
   "source": [
    "## 3. The Cox PH Model"
   ]
  },
  {
   "cell_type": "markdown",
   "metadata": {},
   "source": [
    "### 3.1 Fit - Ajuste del modelo (ecuación matemática)"
   ]
  },
  {
   "cell_type": "code",
   "execution_count": 16,
   "metadata": {},
   "outputs": [],
   "source": [
    "from sksurv.linear_model import CoxPHSurvivalAnalysis"
   ]
  },
  {
   "cell_type": "code",
   "execution_count": 17,
   "metadata": {},
   "outputs": [],
   "source": [
    "model_cox = CoxPHSurvivalAnalysis()"
   ]
  },
  {
   "cell_type": "code",
   "execution_count": 18,
   "metadata": {},
   "outputs": [
    {
     "data": {
      "text/html": [
       "<style>#sk-container-id-1 {color: black;background-color: white;}#sk-container-id-1 pre{padding: 0;}#sk-container-id-1 div.sk-toggleable {background-color: white;}#sk-container-id-1 label.sk-toggleable__label {cursor: pointer;display: block;width: 100%;margin-bottom: 0;padding: 0.3em;box-sizing: border-box;text-align: center;}#sk-container-id-1 label.sk-toggleable__label-arrow:before {content: \"▸\";float: left;margin-right: 0.25em;color: #696969;}#sk-container-id-1 label.sk-toggleable__label-arrow:hover:before {color: black;}#sk-container-id-1 div.sk-estimator:hover label.sk-toggleable__label-arrow:before {color: black;}#sk-container-id-1 div.sk-toggleable__content {max-height: 0;max-width: 0;overflow: hidden;text-align: left;background-color: #f0f8ff;}#sk-container-id-1 div.sk-toggleable__content pre {margin: 0.2em;color: black;border-radius: 0.25em;background-color: #f0f8ff;}#sk-container-id-1 input.sk-toggleable__control:checked~div.sk-toggleable__content {max-height: 200px;max-width: 100%;overflow: auto;}#sk-container-id-1 input.sk-toggleable__control:checked~label.sk-toggleable__label-arrow:before {content: \"▾\";}#sk-container-id-1 div.sk-estimator input.sk-toggleable__control:checked~label.sk-toggleable__label {background-color: #d4ebff;}#sk-container-id-1 div.sk-label input.sk-toggleable__control:checked~label.sk-toggleable__label {background-color: #d4ebff;}#sk-container-id-1 input.sk-hidden--visually {border: 0;clip: rect(1px 1px 1px 1px);clip: rect(1px, 1px, 1px, 1px);height: 1px;margin: -1px;overflow: hidden;padding: 0;position: absolute;width: 1px;}#sk-container-id-1 div.sk-estimator {font-family: monospace;background-color: #f0f8ff;border: 1px dotted black;border-radius: 0.25em;box-sizing: border-box;margin-bottom: 0.5em;}#sk-container-id-1 div.sk-estimator:hover {background-color: #d4ebff;}#sk-container-id-1 div.sk-parallel-item::after {content: \"\";width: 100%;border-bottom: 1px solid gray;flex-grow: 1;}#sk-container-id-1 div.sk-label:hover label.sk-toggleable__label {background-color: #d4ebff;}#sk-container-id-1 div.sk-serial::before {content: \"\";position: absolute;border-left: 1px solid gray;box-sizing: border-box;top: 0;bottom: 0;left: 50%;z-index: 0;}#sk-container-id-1 div.sk-serial {display: flex;flex-direction: column;align-items: center;background-color: white;padding-right: 0.2em;padding-left: 0.2em;position: relative;}#sk-container-id-1 div.sk-item {position: relative;z-index: 1;}#sk-container-id-1 div.sk-parallel {display: flex;align-items: stretch;justify-content: center;background-color: white;position: relative;}#sk-container-id-1 div.sk-item::before, #sk-container-id-1 div.sk-parallel-item::before {content: \"\";position: absolute;border-left: 1px solid gray;box-sizing: border-box;top: 0;bottom: 0;left: 50%;z-index: -1;}#sk-container-id-1 div.sk-parallel-item {display: flex;flex-direction: column;z-index: 1;position: relative;background-color: white;}#sk-container-id-1 div.sk-parallel-item:first-child::after {align-self: flex-end;width: 50%;}#sk-container-id-1 div.sk-parallel-item:last-child::after {align-self: flex-start;width: 50%;}#sk-container-id-1 div.sk-parallel-item:only-child::after {width: 0;}#sk-container-id-1 div.sk-dashed-wrapped {border: 1px dashed gray;margin: 0 0.4em 0.5em 0.4em;box-sizing: border-box;padding-bottom: 0.4em;background-color: white;}#sk-container-id-1 div.sk-label label {font-family: monospace;font-weight: bold;display: inline-block;line-height: 1.2em;}#sk-container-id-1 div.sk-label-container {text-align: center;}#sk-container-id-1 div.sk-container {/* jupyter's `normalize.less` sets `[hidden] { display: none; }` but bootstrap.min.css set `[hidden] { display: none !important; }` so we also need the `!important` here to be able to override the default hidden behavior on the sphinx rendered scikit-learn.org. See: https://github.com/scikit-learn/scikit-learn/issues/21755 */display: inline-block !important;position: relative;}#sk-container-id-1 div.sk-text-repr-fallback {display: none;}</style><div id=\"sk-container-id-1\" class=\"sk-top-container\"><div class=\"sk-text-repr-fallback\"><pre>CoxPHSurvivalAnalysis()</pre><b>In a Jupyter environment, please rerun this cell to show the HTML representation or trust the notebook. <br />On GitHub, the HTML representation is unable to render, please try loading this page with nbviewer.org.</b></div><div class=\"sk-container\" hidden><div class=\"sk-item\"><div class=\"sk-estimator sk-toggleable\"><input class=\"sk-toggleable__control sk-hidden--visually\" id=\"sk-estimator-id-1\" type=\"checkbox\" checked><label for=\"sk-estimator-id-1\" class=\"sk-toggleable__label sk-toggleable__label-arrow\">CoxPHSurvivalAnalysis</label><div class=\"sk-toggleable__content\"><pre>CoxPHSurvivalAnalysis()</pre></div></div></div></div></div>"
      ],
      "text/plain": [
       "CoxPHSurvivalAnalysis()"
      ]
     },
     "execution_count": 18,
     "metadata": {},
     "output_type": "execute_result"
    }
   ],
   "source": [
    "model_cox.fit(X, y)     # CORREGIR A FUTURO: Se está utilizando el dataset completo para entrenar, lo cual es un error. Se debe crear Train y Test sets."
   ]
  },
  {
   "cell_type": "code",
   "execution_count": 19,
   "metadata": {},
   "outputs": [
    {
     "data": {
      "text/plain": [
       "{'alpha': 0,\n",
       " 'ties': 'breslow',\n",
       " 'n_iter': 100,\n",
       " 'tol': 1e-09,\n",
       " 'verbose': 0,\n",
       " '_baseline_model': <sksurv.linear_model.coxph.BreslowEstimator at 0x2824728f910>,\n",
       " 'feature_names_in_': array(['age', 'prior_therapy'], dtype=object),\n",
       " 'n_features_in_': 2,\n",
       " 'coef_': array([ 0.02027216, -0.03710247])}"
      ]
     },
     "execution_count": 19,
     "metadata": {},
     "output_type": "execute_result"
    }
   ],
   "source": [
    "model_cox.__dict__"
   ]
  },
  {
   "cell_type": "markdown",
   "metadata": {},
   "source": [
    "### 3.2 Predict - Predicciones con el modelo ajustado"
   ]
  },
  {
   "cell_type": "code",
   "execution_count": 20,
   "metadata": {},
   "outputs": [
    {
     "data": {
      "text/plain": [
       "array([1.39877927, 0.77034221, 1.24004382, 1.28058815, 0.99333601,\n",
       "       1.3616768 , 1.37850711, 0.87170303, 1.41905144, 1.64204524,\n",
       "       1.24004382, 1.27714629, 1.01705002, 0.93596137, 1.23660197,\n",
       "       0.70952572, 1.24004382, 1.13524115, 1.11496899, 1.35823495,\n",
       "       1.24004382, 1.31769062, 0.93251952, 1.03732219, 1.39877927,\n",
       "       1.37850711, 0.83460055, 1.07786651, 0.85143086, 1.29741846,\n",
       "       1.31769062, 1.31769062, 1.11496899, 1.30086031, 1.2163298 ,\n",
       "       1.35823495, 1.07442466, 1.25687413, 1.35823495, 1.45959576,\n",
       "       0.97306384, 1.32113248, 1.1994995 , 1.2163298 , 1.25687413,\n",
       "       0.77034221, 1.01360817, 1.24004382, 1.29741846, 0.87170303,\n",
       "       0.68925356, 1.30086031, 1.25687413, 1.0541525 , 1.27714629,\n",
       "       1.34140464, 0.91224735, 0.79405623, 1.33796278, 1.25687413,\n",
       "       1.2163298 , 1.33796278, 0.77034221, 1.03732219, 0.71296757,\n",
       "       1.2163298 , 0.97306384, 1.01705002, 1.41905144, 1.25687413,\n",
       "       1.28058815, 1.29741846, 1.27714629, 1.01705002, 0.70952572,\n",
       "       1.27714629, 1.38194897, 1.03388033, 0.77378406, 1.39877927,\n",
       "       0.69269541, 1.4393236 , 1.25687413, 1.2163298 , 0.85487272,\n",
       "       1.05759435, 1.33796278, 0.99333601, 1.45959576, 1.37850711,\n",
       "       1.25687413, 1.4393236 , 1.41905144, 1.23660197, 1.4393236 ,\n",
       "       1.15895517, 1.35823495, 1.2163298 , 1.3616768 , 1.15551331,\n",
       "       0.79061437, 1.25687413, 0.9765057 , 0.87170303, 1.41905144,\n",
       "       1.33796278, 1.23660197, 1.64204524, 1.17578548, 1.27714629,\n",
       "       1.2163298 , 1.21977166, 0.85143086, 1.39877927, 1.27714629,\n",
       "       0.91224735, 1.34140464, 0.7535119 , 1.33796278, 1.27714629,\n",
       "       0.95623353, 1.26031599, 1.31769062, 1.29741846, 1.32113248,\n",
       "       0.75007005, 1.39377839, 1.40216157, 1.4126023 , 0.80136169,\n",
       "       0.93588189, 1.04380367, 1.23658523, 1.3142105 , 1.25094813,\n",
       "       1.40902034, 1.39656101, 0.96955096, 1.22736346, 0.99708739,\n",
       "       1.04629023, 0.98191528, 0.99284082, 1.05719887, 0.98149395,\n",
       "       0.80981303, 1.37947977, 1.12308348, 1.1809618 , 1.15334125,\n",
       "       1.05238499, 1.00612438, 1.21515081, 1.32035816, 1.07952161,\n",
       "       1.07052169, 0.97797146, 1.25812251, 1.31556257, 1.27710765,\n",
       "       1.18507003, 1.21102724, 0.83951934, 1.13422217, 1.04825481,\n",
       "       0.8711247 , 1.28817654, 1.28049886, 1.17598743, 1.41165933,\n",
       "       1.36449074, 1.33950876, 1.37976682, 1.24636985, 1.34528353,\n",
       "       1.16180544, 1.21132297, 1.29275792, 1.27978393, 1.23715744,\n",
       "       1.11723347, 1.21993041, 1.18066787, 1.1933111 , 1.20439363,\n",
       "       1.07117902, 1.3329757 , 0.77642667, 1.03637999, 1.23707747,\n",
       "       1.04519642, 1.04747576, 0.74644478, 1.09580233, 1.13152197,\n",
       "       0.99292667, 0.97777827, 1.11249628, 1.11684465, 1.0326747 ,\n",
       "       0.98024256, 1.02492962, 0.97609761, 1.00580737, 1.33326797,\n",
       "       0.7108192 , 1.20619357, 1.03769137, 1.04682267, 1.14074533,\n",
       "       1.05343658, 1.05171271, 1.04523549, 0.73337825, 1.34124274,\n",
       "       0.8197604 , 1.17510746, 1.34010345, 1.07444279, 0.72741315,\n",
       "       0.89986465, 1.35345656, 0.75771129, 1.1978635 , 1.32550694,\n",
       "       1.01900139, 1.39457588, 0.94327605, 0.83908632, 0.83248698,\n",
       "       0.84346919, 0.94918115, 0.96304352, 0.70536611, 1.29347445,\n",
       "       1.11920168, 1.14979471, 1.28407715, 1.334112  , 0.70274043,\n",
       "       1.31828972, 1.26548955, 1.38073657])"
      ]
     },
     "execution_count": 20,
     "metadata": {},
     "output_type": "execute_result"
    }
   ],
   "source": [
    "model_cox.predict(X)"
   ]
  },
  {
   "cell_type": "markdown",
   "metadata": {},
   "source": [
    "### 3.3 Score - Evaluación de las predicciones"
   ]
  },
  {
   "cell_type": "code",
   "execution_count": 21,
   "metadata": {},
   "outputs": [
    {
     "data": {
      "text/plain": [
       "0.5637832080941956"
      ]
     },
     "execution_count": 21,
     "metadata": {},
     "output_type": "execute_result"
    }
   ],
   "source": [
    "model_cox.score(X, y)"
   ]
  },
  {
   "cell_type": "markdown",
   "metadata": {},
   "source": [
    "El modelo tiene un rendimiento bastante pobre, solo un 56% de las predicciones son correctas. Con este resultado es incluso casi igual que lanzar una moneda al aire y determinar si el paciente muere o no, ya que las chances del lanzmaiento de la moneda son 50% (true) y 50%(false).\n",
    "\n",
    "Se crearán nuevos modelos para comparar si alguno de ellos obtiene un mejor Score.  \n",
    "***No olvidar que el modelo fue entrenado con el 100% de los datos, lo cual es un error. En futuros fix se dividirá en train y test sets.***"
   ]
  },
  {
   "cell_type": "markdown",
   "metadata": {},
   "source": [
    "## 4. Decision Tree Model"
   ]
  },
  {
   "cell_type": "markdown",
   "metadata": {},
   "source": [
    "### 4.1 Fit - Ajuste del modelo"
   ]
  },
  {
   "cell_type": "code",
   "execution_count": 23,
   "metadata": {},
   "outputs": [],
   "source": [
    "from sksurv.tree import SurvivalTree"
   ]
  },
  {
   "cell_type": "code",
   "execution_count": 24,
   "metadata": {},
   "outputs": [],
   "source": [
    "model_tree = SurvivalTree()"
   ]
  },
  {
   "cell_type": "code",
   "execution_count": 25,
   "metadata": {},
   "outputs": [
    {
     "data": {
      "text/html": [
       "<style>#sk-container-id-2 {color: black;background-color: white;}#sk-container-id-2 pre{padding: 0;}#sk-container-id-2 div.sk-toggleable {background-color: white;}#sk-container-id-2 label.sk-toggleable__label {cursor: pointer;display: block;width: 100%;margin-bottom: 0;padding: 0.3em;box-sizing: border-box;text-align: center;}#sk-container-id-2 label.sk-toggleable__label-arrow:before {content: \"▸\";float: left;margin-right: 0.25em;color: #696969;}#sk-container-id-2 label.sk-toggleable__label-arrow:hover:before {color: black;}#sk-container-id-2 div.sk-estimator:hover label.sk-toggleable__label-arrow:before {color: black;}#sk-container-id-2 div.sk-toggleable__content {max-height: 0;max-width: 0;overflow: hidden;text-align: left;background-color: #f0f8ff;}#sk-container-id-2 div.sk-toggleable__content pre {margin: 0.2em;color: black;border-radius: 0.25em;background-color: #f0f8ff;}#sk-container-id-2 input.sk-toggleable__control:checked~div.sk-toggleable__content {max-height: 200px;max-width: 100%;overflow: auto;}#sk-container-id-2 input.sk-toggleable__control:checked~label.sk-toggleable__label-arrow:before {content: \"▾\";}#sk-container-id-2 div.sk-estimator input.sk-toggleable__control:checked~label.sk-toggleable__label {background-color: #d4ebff;}#sk-container-id-2 div.sk-label input.sk-toggleable__control:checked~label.sk-toggleable__label {background-color: #d4ebff;}#sk-container-id-2 input.sk-hidden--visually {border: 0;clip: rect(1px 1px 1px 1px);clip: rect(1px, 1px, 1px, 1px);height: 1px;margin: -1px;overflow: hidden;padding: 0;position: absolute;width: 1px;}#sk-container-id-2 div.sk-estimator {font-family: monospace;background-color: #f0f8ff;border: 1px dotted black;border-radius: 0.25em;box-sizing: border-box;margin-bottom: 0.5em;}#sk-container-id-2 div.sk-estimator:hover {background-color: #d4ebff;}#sk-container-id-2 div.sk-parallel-item::after {content: \"\";width: 100%;border-bottom: 1px solid gray;flex-grow: 1;}#sk-container-id-2 div.sk-label:hover label.sk-toggleable__label {background-color: #d4ebff;}#sk-container-id-2 div.sk-serial::before {content: \"\";position: absolute;border-left: 1px solid gray;box-sizing: border-box;top: 0;bottom: 0;left: 50%;z-index: 0;}#sk-container-id-2 div.sk-serial {display: flex;flex-direction: column;align-items: center;background-color: white;padding-right: 0.2em;padding-left: 0.2em;position: relative;}#sk-container-id-2 div.sk-item {position: relative;z-index: 1;}#sk-container-id-2 div.sk-parallel {display: flex;align-items: stretch;justify-content: center;background-color: white;position: relative;}#sk-container-id-2 div.sk-item::before, #sk-container-id-2 div.sk-parallel-item::before {content: \"\";position: absolute;border-left: 1px solid gray;box-sizing: border-box;top: 0;bottom: 0;left: 50%;z-index: -1;}#sk-container-id-2 div.sk-parallel-item {display: flex;flex-direction: column;z-index: 1;position: relative;background-color: white;}#sk-container-id-2 div.sk-parallel-item:first-child::after {align-self: flex-end;width: 50%;}#sk-container-id-2 div.sk-parallel-item:last-child::after {align-self: flex-start;width: 50%;}#sk-container-id-2 div.sk-parallel-item:only-child::after {width: 0;}#sk-container-id-2 div.sk-dashed-wrapped {border: 1px dashed gray;margin: 0 0.4em 0.5em 0.4em;box-sizing: border-box;padding-bottom: 0.4em;background-color: white;}#sk-container-id-2 div.sk-label label {font-family: monospace;font-weight: bold;display: inline-block;line-height: 1.2em;}#sk-container-id-2 div.sk-label-container {text-align: center;}#sk-container-id-2 div.sk-container {/* jupyter's `normalize.less` sets `[hidden] { display: none; }` but bootstrap.min.css set `[hidden] { display: none !important; }` so we also need the `!important` here to be able to override the default hidden behavior on the sphinx rendered scikit-learn.org. See: https://github.com/scikit-learn/scikit-learn/issues/21755 */display: inline-block !important;position: relative;}#sk-container-id-2 div.sk-text-repr-fallback {display: none;}</style><div id=\"sk-container-id-2\" class=\"sk-top-container\"><div class=\"sk-text-repr-fallback\"><pre>SurvivalTree()</pre><b>In a Jupyter environment, please rerun this cell to show the HTML representation or trust the notebook. <br />On GitHub, the HTML representation is unable to render, please try loading this page with nbviewer.org.</b></div><div class=\"sk-container\" hidden><div class=\"sk-item\"><div class=\"sk-estimator sk-toggleable\"><input class=\"sk-toggleable__control sk-hidden--visually\" id=\"sk-estimator-id-2\" type=\"checkbox\" checked><label for=\"sk-estimator-id-2\" class=\"sk-toggleable__label sk-toggleable__label-arrow\">SurvivalTree</label><div class=\"sk-toggleable__content\"><pre>SurvivalTree()</pre></div></div></div></div></div>"
      ],
      "text/plain": [
       "SurvivalTree()"
      ]
     },
     "execution_count": 25,
     "metadata": {},
     "output_type": "execute_result"
    }
   ],
   "source": [
    "model_tree.fit(X, y)"
   ]
  },
  {
   "cell_type": "markdown",
   "metadata": {},
   "source": [
    "### 4.2 Predict - Predicciones con el modelo ajustado"
   ]
  },
  {
   "cell_type": "code",
   "execution_count": 26,
   "metadata": {},
   "outputs": [
    {
     "data": {
      "text/plain": [
       "array([ 79.        ,  50.41666667,  88.35      , 100.56666667,\n",
       "       120.16666667,  96.66666667,  91.53333333,  40.66666667,\n",
       "        40.        , 105.5       ,  88.35      ,  69.35714286,\n",
       "         9.5       ,  49.83333333, 110.41666667, 108.16666667,\n",
       "        88.35      ,  19.25      ,  13.25      ,  54.97857143,\n",
       "        88.35      , 100.56666667,  38.66666667,  46.        ,\n",
       "        79.        ,  91.53333333,  12.5       ,  68.66666667,\n",
       "       125.16666667,  34.5       , 100.56666667, 100.56666667,\n",
       "        13.25      ,  60.61428571,  75.3547619 ,  54.97857143,\n",
       "        46.        ,  68.74642857,  54.97857143, 105.5       ,\n",
       "        49.83333333,  54.97857143, 110.41666667,  75.3547619 ,\n",
       "        68.74642857,  50.41666667,  46.        ,  88.35      ,\n",
       "        34.5       ,  40.66666667, 108.16666667,  60.61428571,\n",
       "        68.74642857,   9.5       ,  69.35714286,  91.53333333,\n",
       "        38.66666667,  13.        ,  60.61428571,  68.74642857,\n",
       "        75.3547619 ,  60.61428571,  50.41666667,  46.        ,\n",
       "        12.        ,  75.3547619 ,  49.83333333,   9.5       ,\n",
       "        40.        ,  68.74642857, 100.56666667,  34.5       ,\n",
       "        69.35714286,   9.5       , 108.16666667,  69.35714286,\n",
       "        96.66666667,   4.        ,  61.83333333,  79.        ,\n",
       "         0.        ,  91.66666667,  68.74642857,  75.3547619 ,\n",
       "        28.33333333,  68.66666667,  60.61428571, 120.16666667,\n",
       "       105.5       ,  91.53333333,  68.74642857,  91.66666667,\n",
       "        40.        , 110.41666667,  91.66666667,  68.66666667,\n",
       "        54.97857143,  75.3547619 ,  96.66666667,  19.25      ,\n",
       "       125.16666667,  68.74642857,  46.        ,  40.66666667,\n",
       "        40.        ,  60.61428571, 110.41666667, 105.5       ,\n",
       "        27.33333333,  69.35714286,  75.3547619 ,  88.35      ,\n",
       "       125.16666667,  79.        ,  69.35714286,  38.66666667,\n",
       "        91.53333333,  61.83333333,  60.61428571,  69.35714286,\n",
       "       120.16666667,  34.5       , 100.56666667,  34.5       ,\n",
       "        54.97857143,  50.41666667,   0.        ,   0.        ,\n",
       "         0.        ,  13.        ,  28.33333333,   4.        ,\n",
       "         0.        ,  34.5       ,   0.        ,   0.        ,\n",
       "         0.        ,  46.        ,   0.        ,   0.        ,\n",
       "         0.        ,   4.        ,   0.        ,   0.        ,\n",
       "         0.        ,  13.        ,   0.        ,   0.        ,\n",
       "         0.        ,  19.25      ,   0.        ,   0.        ,\n",
       "         0.        ,   0.        ,   0.        ,   0.        ,\n",
       "         0.        ,   0.        ,  34.5       ,   0.        ,\n",
       "         0.        ,   0.        ,  12.5       ,   0.        ,\n",
       "         4.        ,  28.33333333,   0.        ,   0.        ,\n",
       "         0.        ,   0.        ,  54.97857143,   0.        ,\n",
       "         0.        ,   0.        ,   0.        ,  27.33333333,\n",
       "         0.        ,   0.        ,   0.        ,   0.        ,\n",
       "         0.        ,   0.        ,   0.        ,   0.        ,\n",
       "         0.        ,   0.        ,   0.        ,  13.        ,\n",
       "         0.        ,   0.        ,   4.        ,   4.        ,\n",
       "        12.        ,  13.25      ,   0.        ,   0.        ,\n",
       "         0.        ,  13.25      ,   0.        ,   4.        ,\n",
       "         0.        ,   4.        ,   0.        ,   0.        ,\n",
       "         0.        ,   0.        ,   0.        ,   0.        ,\n",
       "         0.        ,  68.66666667,   0.        ,   0.        ,\n",
       "         0.        ,  12.        ,   0.        ,  13.        ,\n",
       "        27.33333333,   0.        ,   0.        ,  12.        ,\n",
       "        40.66666667,   0.        ,  61.83333333,   0.        ,\n",
       "         0.        ,   4.        ,   0.        ,   0.        ,\n",
       "        12.5       ,  13.        ,  12.5       ,   0.        ,\n",
       "         0.        ,   0.        ,   0.        ,   0.        ,\n",
       "        19.25      ,   0.        ,   0.        ,   0.        ,\n",
       "         0.        ,   0.        ,   0.        ])"
      ]
     },
     "execution_count": 26,
     "metadata": {},
     "output_type": "execute_result"
    }
   ],
   "source": [
    "model_tree.predict(X)"
   ]
  },
  {
   "cell_type": "markdown",
   "metadata": {},
   "source": [
    "### 4.3 Score - Evaluación de las predicciones"
   ]
  },
  {
   "cell_type": "code",
   "execution_count": 27,
   "metadata": {},
   "outputs": [
    {
     "data": {
      "text/plain": [
       "0.8297733861901663"
      ]
     },
     "execution_count": 27,
     "metadata": {},
     "output_type": "execute_result"
    }
   ],
   "source": [
    "model_tree.score(X, y)"
   ]
  },
  {
   "cell_type": "markdown",
   "metadata": {},
   "source": [
    "## 5. Random Forest Model"
   ]
  },
  {
   "cell_type": "markdown",
   "metadata": {},
   "source": [
    "### 5.1 Fit - Ajuste del modelo"
   ]
  },
  {
   "cell_type": "code",
   "execution_count": 29,
   "metadata": {},
   "outputs": [],
   "source": [
    "from sksurv.ensemble import RandomSurvivalForest"
   ]
  },
  {
   "cell_type": "code",
   "execution_count": 30,
   "metadata": {},
   "outputs": [],
   "source": [
    "model_rf = RandomSurvivalForest()"
   ]
  },
  {
   "cell_type": "code",
   "execution_count": 31,
   "metadata": {},
   "outputs": [
    {
     "data": {
      "text/html": [
       "<style>#sk-container-id-3 {color: black;background-color: white;}#sk-container-id-3 pre{padding: 0;}#sk-container-id-3 div.sk-toggleable {background-color: white;}#sk-container-id-3 label.sk-toggleable__label {cursor: pointer;display: block;width: 100%;margin-bottom: 0;padding: 0.3em;box-sizing: border-box;text-align: center;}#sk-container-id-3 label.sk-toggleable__label-arrow:before {content: \"▸\";float: left;margin-right: 0.25em;color: #696969;}#sk-container-id-3 label.sk-toggleable__label-arrow:hover:before {color: black;}#sk-container-id-3 div.sk-estimator:hover label.sk-toggleable__label-arrow:before {color: black;}#sk-container-id-3 div.sk-toggleable__content {max-height: 0;max-width: 0;overflow: hidden;text-align: left;background-color: #f0f8ff;}#sk-container-id-3 div.sk-toggleable__content pre {margin: 0.2em;color: black;border-radius: 0.25em;background-color: #f0f8ff;}#sk-container-id-3 input.sk-toggleable__control:checked~div.sk-toggleable__content {max-height: 200px;max-width: 100%;overflow: auto;}#sk-container-id-3 input.sk-toggleable__control:checked~label.sk-toggleable__label-arrow:before {content: \"▾\";}#sk-container-id-3 div.sk-estimator input.sk-toggleable__control:checked~label.sk-toggleable__label {background-color: #d4ebff;}#sk-container-id-3 div.sk-label input.sk-toggleable__control:checked~label.sk-toggleable__label {background-color: #d4ebff;}#sk-container-id-3 input.sk-hidden--visually {border: 0;clip: rect(1px 1px 1px 1px);clip: rect(1px, 1px, 1px, 1px);height: 1px;margin: -1px;overflow: hidden;padding: 0;position: absolute;width: 1px;}#sk-container-id-3 div.sk-estimator {font-family: monospace;background-color: #f0f8ff;border: 1px dotted black;border-radius: 0.25em;box-sizing: border-box;margin-bottom: 0.5em;}#sk-container-id-3 div.sk-estimator:hover {background-color: #d4ebff;}#sk-container-id-3 div.sk-parallel-item::after {content: \"\";width: 100%;border-bottom: 1px solid gray;flex-grow: 1;}#sk-container-id-3 div.sk-label:hover label.sk-toggleable__label {background-color: #d4ebff;}#sk-container-id-3 div.sk-serial::before {content: \"\";position: absolute;border-left: 1px solid gray;box-sizing: border-box;top: 0;bottom: 0;left: 50%;z-index: 0;}#sk-container-id-3 div.sk-serial {display: flex;flex-direction: column;align-items: center;background-color: white;padding-right: 0.2em;padding-left: 0.2em;position: relative;}#sk-container-id-3 div.sk-item {position: relative;z-index: 1;}#sk-container-id-3 div.sk-parallel {display: flex;align-items: stretch;justify-content: center;background-color: white;position: relative;}#sk-container-id-3 div.sk-item::before, #sk-container-id-3 div.sk-parallel-item::before {content: \"\";position: absolute;border-left: 1px solid gray;box-sizing: border-box;top: 0;bottom: 0;left: 50%;z-index: -1;}#sk-container-id-3 div.sk-parallel-item {display: flex;flex-direction: column;z-index: 1;position: relative;background-color: white;}#sk-container-id-3 div.sk-parallel-item:first-child::after {align-self: flex-end;width: 50%;}#sk-container-id-3 div.sk-parallel-item:last-child::after {align-self: flex-start;width: 50%;}#sk-container-id-3 div.sk-parallel-item:only-child::after {width: 0;}#sk-container-id-3 div.sk-dashed-wrapped {border: 1px dashed gray;margin: 0 0.4em 0.5em 0.4em;box-sizing: border-box;padding-bottom: 0.4em;background-color: white;}#sk-container-id-3 div.sk-label label {font-family: monospace;font-weight: bold;display: inline-block;line-height: 1.2em;}#sk-container-id-3 div.sk-label-container {text-align: center;}#sk-container-id-3 div.sk-container {/* jupyter's `normalize.less` sets `[hidden] { display: none; }` but bootstrap.min.css set `[hidden] { display: none !important; }` so we also need the `!important` here to be able to override the default hidden behavior on the sphinx rendered scikit-learn.org. See: https://github.com/scikit-learn/scikit-learn/issues/21755 */display: inline-block !important;position: relative;}#sk-container-id-3 div.sk-text-repr-fallback {display: none;}</style><div id=\"sk-container-id-3\" class=\"sk-top-container\"><div class=\"sk-text-repr-fallback\"><pre>RandomSurvivalForest()</pre><b>In a Jupyter environment, please rerun this cell to show the HTML representation or trust the notebook. <br />On GitHub, the HTML representation is unable to render, please try loading this page with nbviewer.org.</b></div><div class=\"sk-container\" hidden><div class=\"sk-item\"><div class=\"sk-estimator sk-toggleable\"><input class=\"sk-toggleable__control sk-hidden--visually\" id=\"sk-estimator-id-3\" type=\"checkbox\" checked><label for=\"sk-estimator-id-3\" class=\"sk-toggleable__label sk-toggleable__label-arrow\">RandomSurvivalForest</label><div class=\"sk-toggleable__content\"><pre>RandomSurvivalForest()</pre></div></div></div></div></div>"
      ],
      "text/plain": [
       "RandomSurvivalForest()"
      ]
     },
     "execution_count": 31,
     "metadata": {},
     "output_type": "execute_result"
    }
   ],
   "source": [
    "model_rf.fit(X, y)"
   ]
  },
  {
   "cell_type": "markdown",
   "metadata": {},
   "source": [
    "### 4.2 Predict - Predicciones con el modelo ajustado"
   ]
  },
  {
   "cell_type": "code",
   "execution_count": 33,
   "metadata": {},
   "outputs": [
    {
     "data": {
      "text/plain": [
       "array([ 51.56004762,  73.733     ,  84.30952381,  52.58933333,\n",
       "        42.85811905,  77.87004762,  69.21366667,  71.61985714,\n",
       "        36.95664286, 100.80597619,  84.30952381,  58.58511508,\n",
       "        16.71247619,  53.29278571,  47.66806061,  91.028     ,\n",
       "        84.30952381,  20.8282379 ,  14.04063822,  56.97578571,\n",
       "        84.30952381,  66.989     ,  27.89783333,  18.74564286,\n",
       "        51.56004762,  69.21366667,  19.99733333,  52.98351918,\n",
       "        94.57080952,  45.9355    ,  66.989     ,  66.989     ,\n",
       "        14.04063822,  41.59046825,  66.89152489,  56.97578571,\n",
       "        18.17683333,  63.34281241,  56.97578571, 100.80597619,\n",
       "        16.28545238,  55.41016667,  75.69157251,  66.89152489,\n",
       "        63.34281241,  73.733     ,  28.69266667,  84.30952381,\n",
       "        45.9355    ,  71.61985714,  91.028     ,  41.59046825,\n",
       "        63.34281241,  11.51666667,  58.58511508,  72.38883333,\n",
       "        34.619     ,  16.519     ,  71.94061111,  63.34281241,\n",
       "        66.89152489,  71.94061111,  73.733     ,  18.74564286,\n",
       "        14.75119048,  66.89152489,  16.28545238,  16.71247619,\n",
       "        36.95664286,  63.34281241,  52.58933333,  45.9355    ,\n",
       "        58.58511508,  16.71247619,  91.028     ,  58.58511508,\n",
       "        78.34647619,   6.33      ,  39.8955    ,  51.56004762,\n",
       "        10.94135714,  95.80480952,  63.34281241,  66.89152489,\n",
       "        36.186     ,  39.642     ,  71.94061111,  42.85811905,\n",
       "       100.80597619,  69.21366667,  63.34281241,  95.80480952,\n",
       "        36.95664286,  47.66806061,  95.80480952,  66.94861885,\n",
       "        56.97578571,  66.89152489,  77.87004762,  16.9592379 ,\n",
       "        89.26147619,  63.34281241,  46.67964286,  71.61985714,\n",
       "        36.95664286,  71.94061111,  47.66806061, 100.80597619,\n",
       "        19.2517379 ,  58.58511508,  66.89152489,  80.61272114,\n",
       "        94.57080952,  51.56004762,  58.58511508,  34.619     ,\n",
       "        72.38883333,  37.861     ,  71.94061111,  58.58511508,\n",
       "        55.4382619 ,  52.94083333,  66.989     ,  45.9355    ,\n",
       "        55.41016667,  84.69566667,   8.43154762,  31.62104762,\n",
       "        18.60861905,  14.74566667,  38.799     ,   9.26      ,\n",
       "        34.79870346,  44.52383333,  19.36490188,  18.63495238,\n",
       "        13.38021429,  47.94380952,  31.8360487 ,  34.62433333,\n",
       "         3.1375    ,  27.48214286,  18.66211905,  15.827     ,\n",
       "        10.12678571,  13.78783333,  13.12654762,   6.82290456,\n",
       "        70.17200108,  16.39590456,   4.874     ,  28.666     ,\n",
       "        29.83178   ,  11.68877778,  14.31116667,  11.88666667,\n",
       "         7.59061905,  40.57101876,  45.16966667,  40.73992063,\n",
       "         1.58857123,   2.96135695,  16.99266667,  14.74690456,\n",
       "         9.61333333,  35.0685    ,   6.55635317,  10.93454365,\n",
       "         7.3212379 ,  18.26095238,  52.98945238,  18.54573016,\n",
       "         6.54738095,  16.32027092,  10.47206349,  18.7117379 ,\n",
       "         5.94767837,   8.0322381 ,  10.93454365,  17.18327092,\n",
       "         5.97640456,  38.97519156,   2.32357123,   1.05857123,\n",
       "         0.79990456,  11.88666667,   4.61694444,  25.013     ,\n",
       "        17.18814286,  17.70493759,   9.6       ,   9.61333333,\n",
       "        24.65283333,  13.67883333,  10.05040456,  21.59878571,\n",
       "         7.35128571,  12.15933333,   7.10863822,   6.33      ,\n",
       "         8.79411905,   6.48666667,   7.34795238,  29.01766667,\n",
       "         5.29527778,  10.79952381,   0.79990456,   8.668     ,\n",
       "         3.1275    ,  55.21528552,   5.27733333,   3.1075    ,\n",
       "         3.1375    ,  14.47402381,  11.63756349,  13.2175    ,\n",
       "        18.74507123,  11.97889683,  15.36616667,  13.85735714,\n",
       "        36.859     ,  18.01406349,  36.36183333,   1.0732379 ,\n",
       "         4.41377778,  15.39966667,   8.57788095,  17.5535    ,\n",
       "        16.99266667,  14.6555    ,  17.496     ,  15.73716667,\n",
       "        15.51283333,   9.84502381,  12.83338095,   5.55390456,\n",
       "        15.30257123,   6.80135317,   5.99861111,   9.84502381,\n",
       "        21.3925    ,  36.16601479,   6.26821429])"
      ]
     },
     "execution_count": 33,
     "metadata": {},
     "output_type": "execute_result"
    }
   ],
   "source": [
    "model_rf.predict(X)"
   ]
  },
  {
   "cell_type": "markdown",
   "metadata": {},
   "source": [
    "### 4.3 Score - Evaluación de las predicciones"
   ]
  },
  {
   "cell_type": "code",
   "execution_count": 34,
   "metadata": {},
   "outputs": [
    {
     "data": {
      "text/plain": [
       "0.800810602922904"
      ]
     },
     "execution_count": 34,
     "metadata": {},
     "output_type": "execute_result"
    }
   ],
   "source": [
    "model_rf.score(X, y)"
   ]
  }
 ],
 "metadata": {
  "kernelspec": {
   "display_name": "ml",
   "language": "python",
   "name": "python3"
  },
  "language_info": {
   "codemirror_mode": {
    "name": "ipython",
    "version": 3
   },
   "file_extension": ".py",
   "mimetype": "text/x-python",
   "name": "python",
   "nbconvert_exporter": "python",
   "pygments_lexer": "ipython3",
   "version": "3.11.5"
  },
  "orig_nbformat": 4
 },
 "nbformat": 4,
 "nbformat_minor": 2
}
